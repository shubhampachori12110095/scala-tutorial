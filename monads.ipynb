{
 "cells": [
  {
   "cell_type": "markdown",
   "metadata": {},
   "source": [
    "# Функторы и монады  \n",
    "<br>\n",
    "![](http://imgs.xkcd.com/comics/hypotheticals.png)\n",
    "<br>"
   ]
  },
  {
   "cell_type": "markdown",
   "metadata": {},
   "source": [
    "### Функторы и с чем их едят"
   ]
  },
  {
   "cell_type": "markdown",
   "metadata": {},
   "source": [
    "## Что такое ковариантный функтор\n",
    "\n",
    ">С точки зрения «синтаксического подхода», ковариантным функтором является всякий тип (назовем его X) имеющий type parameter (назовем его T) с методом, который имеет следующую сигнатуру (назовем его map)\n",
    "\n",
    "```\n",
    "trait X[T] {\n",
    "  def map(f: T => R): X[R]\n",
    "}\n",
    "```\n",
    "<br>\n",
    "«Синтаксический подход» хорош тем, что он позволяет свести в общую схему многие категориальные конструкции\n",
    "<br>\n",
    "```\n",
    "trait X[T] {\n",
    "  // ковариант\n",
    "  def map[R](f: T => R): X[R]\n",
    "\n",
    "  // контрвариант\n",
    "  def contramap[R](f: R => T): X[R]\n",
    "\n",
    "  // инвариант\n",
    "  def xmap[R](f: (T => R, R => T)): X[R]\n",
    "\n",
    "  // апликативный функтор\n",
    "  def apply[R](f: X[T => R]): X[R]\n",
    "\n",
    "  // монада\n",
    "  def flatMap[R](f: T => X[R]): X[R]\n",
    "\n",
    "  // комонада\n",
    "  def coflatMap[R](f: X[T] => R): X[R]\n",
    "}\n",
    "```"
   ]
  },
  {
   "cell_type": "markdown",
   "metadata": {},
   "source": [
    "\n",
    "| функтор  | аргументы  |\n",
    "|---|---|\n",
    "|контрвариант| A => B  |\n",
    "|инвариант|  B => A |\n",
    "|инвариант| (A => B, B => A)  |\n",
    "|апликативный|  F[A => B] |\n",
    "|монада| A => F[B]  |\n",
    "|комонада| F[A] => B  |"
   ]
  },
  {
   "cell_type": "markdown",
   "metadata": {},
   "source": [
    "Функтор - это контейнер. Он может хранить либо ничего, либо само значение\n",
    "<br><br>\n",
    "![](https://hsto.org/storage2/be0/182/2de/be01822de6f660845c952b2b4fa7edb6.png)\n",
    "<br>"
   ]
  },
  {
   "cell_type": "markdown",
   "metadata": {},
   "source": [
    "Примеры ковариантных функторов из стандартной библиотеки scala"
   ]
  },
  {
   "cell_type": "markdown",
   "metadata": {},
   "source": [
    "## Option"
   ]
  },
  {
   "cell_type": "code",
   "execution_count": 1,
   "metadata": {
    "collapsed": false
   },
   "outputs": [
    {
     "data": {
      "text/plain": [
       "\u001b[36mres0\u001b[39m: \u001b[32mOption\u001b[39m.type = scala.Option$@61a71e63"
      ]
     },
     "execution_count": 1,
     "metadata": {},
     "output_type": "execute_result"
    }
   ],
   "source": [
    "// Наш первый пациент\n",
    "Option"
   ]
  },
  {
   "cell_type": "markdown",
   "metadata": {},
   "source": [
    "Одна из первых монад, которую знают многие программисты - это монада *ковариантный функтор* Option. Так же известная как Maybe монада в Haskell и Optional в Java 8. Вы можете думать об этой монаде, как о коллекции, которая состоит из одного элемента. Но при этом она может либо содержать его, либо не содержать. Таким образом вы можете оборачивать результат в эту монаду. Даже тот результат, который может зафейлиться. Если результат не зафейлится, он вернёт значение и это значение вернётся обёрнутой в монаду. В противном случае там будет лежать None. Мы можем изменять монаду Option с помощью функции map."
   ]
  },
  {
   "cell_type": "code",
   "execution_count": 2,
   "metadata": {
    "collapsed": false
   },
   "outputs": [
    {
     "data": {
      "text/plain": [
       "\u001b[36mthree\u001b[39m: \u001b[32mOption\u001b[39m[\u001b[32mInt\u001b[39m] = \u001b[33mSome\u001b[39m(\u001b[32m3\u001b[39m)"
      ]
     },
     "execution_count": 2,
     "metadata": {},
     "output_type": "execute_result"
    }
   ],
   "source": [
    "val three = Option(3)"
   ]
  },
  {
   "cell_type": "code",
   "execution_count": 3,
   "metadata": {
    "collapsed": false
   },
   "outputs": [
    {
     "data": {
      "text/plain": [
       "\u001b[36mtwelve\u001b[39m: \u001b[32mOption\u001b[39m[\u001b[32mInt\u001b[39m] = \u001b[33mSome\u001b[39m(\u001b[32m12\u001b[39m)"
      ]
     },
     "execution_count": 3,
     "metadata": {},
     "output_type": "execute_result"
    }
   ],
   "source": [
    "val twelve = three map (_ * 4)"
   ]
  },
  {
   "cell_type": "markdown",
   "metadata": {},
   "source": [
    "Но когда мы захотим положить несколько значений в эту монаду, у нас получится Option в Option\n",
    "\n",
    "```\n",
    "Option[Option[Int]]\n",
    "```"
   ]
  },
  {
   "cell_type": "code",
   "execution_count": 4,
   "metadata": {
    "collapsed": false
   },
   "outputs": [
    {
     "data": {
      "text/plain": [
       "\u001b[36mfour\u001b[39m: \u001b[32mOption\u001b[39m[\u001b[32mInt\u001b[39m] = \u001b[33mSome\u001b[39m(\u001b[32m4\u001b[39m)"
      ]
     },
     "execution_count": 4,
     "metadata": {},
     "output_type": "execute_result"
    }
   ],
   "source": [
    "val four = Option(4)"
   ]
  },
  {
   "cell_type": "code",
   "execution_count": 5,
   "metadata": {
    "collapsed": false
   },
   "outputs": [
    {
     "data": {
      "text/plain": [
       "\u001b[36mtwelveB\u001b[39m: \u001b[32mOption\u001b[39m[\u001b[32mOption\u001b[39m[\u001b[32mInt\u001b[39m]] = \u001b[33mSome\u001b[39m(\u001b[33mSome\u001b[39m(\u001b[32m12\u001b[39m))"
      ]
     },
     "execution_count": 5,
     "metadata": {},
     "output_type": "execute_result"
    }
   ],
   "source": [
    "val twelveB = three map (i => four map (i * _))"
   ]
  },
  {
   "cell_type": "markdown",
   "metadata": {},
   "source": [
    "^ тут мы получили Option в Option, так сказать, монада на монаде. Конечно, это не то, что мы хотим, поэтому давайте попробуем использовать flatMap"
   ]
  },
  {
   "cell_type": "markdown",
   "metadata": {},
   "source": [
    "![](https://hsto.org/storage2/983/73b/546/98373b54695813ce070a7fc782ca8a35.png)"
   ]
  },
  {
   "cell_type": "code",
   "execution_count": 6,
   "metadata": {
    "collapsed": false
   },
   "outputs": [
    {
     "data": {
      "text/plain": [
       "\u001b[36mtwelveC\u001b[39m: \u001b[32mOption\u001b[39m[\u001b[32mInt\u001b[39m] = \u001b[33mSome\u001b[39m(\u001b[32m12\u001b[39m)"
      ]
     },
     "execution_count": 6,
     "metadata": {},
     "output_type": "execute_result"
    }
   ],
   "source": [
    "val twelveC = three flatMap (i => four map (i * _))"
   ]
  },
  {
   "cell_type": "markdown",
   "metadata": {},
   "source": [
    "flatMap — парень с улицы, flatMap знает толк в контекстах. Уж он-то в курсе, как применить функцию к упакованному в контекст значению."
   ]
  },
  {
   "cell_type": "code",
   "execution_count": 7,
   "metadata": {
    "collapsed": false
   },
   "outputs": [
    {
     "data": {
      "text/plain": [
       "\u001b[36mtwelveD\u001b[39m: \u001b[32mOption\u001b[39m[\u001b[32mInt\u001b[39m] = \u001b[33mSome\u001b[39m(\u001b[32m12\u001b[39m)"
      ]
     },
     "execution_count": 7,
     "metadata": {},
     "output_type": "execute_result"
    }
   ],
   "source": [
    "val twelveD = for {\n",
    "  i <- three\n",
    "  j <- four\n",
    "} yield (i * j)"
   ]
  },
  {
   "cell_type": "markdown",
   "metadata": {},
   "source": [
    "Не забудем о том, что монада заботится о том, что наше значение может быть и пустым"
   ]
  },
  {
   "cell_type": "code",
   "execution_count": 8,
   "metadata": {
    "collapsed": false
   },
   "outputs": [
    {
     "data": {
      "text/plain": [
       "\u001b[36moops\u001b[39m: \u001b[32mOption\u001b[39m[\u001b[32mInt\u001b[39m] = None"
      ]
     },
     "execution_count": 8,
     "metadata": {},
     "output_type": "execute_result"
    }
   ],
   "source": [
    "val oops: Option[Int] = None"
   ]
  },
  {
   "cell_type": "markdown",
   "metadata": {},
   "source": [
    "![](https://hsto.org/storage2/788/3ad/937/7883ad93713ea4406c129d54f83659d8.png)"
   ]
  },
  {
   "cell_type": "code",
   "execution_count": 9,
   "metadata": {
    "collapsed": false
   },
   "outputs": [
    {
     "data": {
      "text/plain": [
       "\u001b[36moopsB\u001b[39m: \u001b[32mOption\u001b[39m[\u001b[32mInt\u001b[39m] = None"
      ]
     },
     "execution_count": 9,
     "metadata": {},
     "output_type": "execute_result"
    }
   ],
   "source": [
    "val oopsB = for {\n",
    "  i <- three\n",
    "  j <- oops\n",
    "} yield (i * j)"
   ]
  },
  {
   "cell_type": "code",
   "execution_count": 10,
   "metadata": {
    "collapsed": false
   },
   "outputs": [
    {
     "data": {
      "text/plain": [
       "\u001b[36moopsC\u001b[39m: \u001b[32mOption\u001b[39m[\u001b[32mInt\u001b[39m] = None"
      ]
     },
     "execution_count": 10,
     "metadata": {},
     "output_type": "execute_result"
    }
   ],
   "source": [
    "val oopsC = for {\n",
    "  i <- oops\n",
    "  j <- four\n",
    "} yield (i * j)"
   ]
  },
  {
   "cell_type": "markdown",
   "metadata": {},
   "source": [
    "![](https://hsto.org/storage2/238/88c/8ed/23888c8ed4ae153e5c4d62321fec63c1.png)\n",
    "<p style=\"font-size: 10px\">Билл О'Рейли ничегошеньки не смыслит в функторе Maybe </p>"
   ]
  },
  {
   "cell_type": "markdown",
   "metadata": {},
   "source": [
    "H1: Option — «как бы контейнер» на один элемент, где может что-то лежит (Some), а может и нет (None)"
   ]
  },
  {
   "cell_type": "markdown",
   "metadata": {},
   "source": [
    "## List"
   ]
  },
  {
   "cell_type": "code",
   "execution_count": 11,
   "metadata": {
    "collapsed": false
   },
   "outputs": [
    {
     "data": {
      "text/plain": [
       "\u001b[36mres10\u001b[39m: \u001b[32mList\u001b[39m.type = scala.collection.immutable.List$@5e63475"
      ]
     },
     "execution_count": 11,
     "metadata": {},
     "output_type": "execute_result"
    }
   ],
   "source": [
    "// Наш второй пациент\n",
    "List"
   ]
  },
  {
   "cell_type": "markdown",
   "metadata": {},
   "source": [
    "А вот ещё один пример: что происходит, когда вы применяете функцию к списку?"
   ]
  },
  {
   "cell_type": "markdown",
   "metadata": {},
   "source": [
    "![](https://hsto.org/storage2/5ba/e29/3d1/5bae293d123881aa5920d3e7e9e1d039.png)"
   ]
  },
  {
   "cell_type": "markdown",
   "metadata": {},
   "source": [
    "Списки тоже функторы!\n",
    "\n",
    "H2: List — контейнер, в котором может быть 0...N элементов"
   ]
  },
  {
   "cell_type": "markdown",
   "metadata": {},
   "source": [
    "## Future"
   ]
  },
  {
   "cell_type": "code",
   "execution_count": 12,
   "metadata": {
    "collapsed": false
   },
   "outputs": [
    {
     "data": {
      "text/plain": [
       "\u001b[32mimport \u001b[39m\u001b[36mscala.concurrent.duration._\n",
       "\u001b[39m\n",
       "\u001b[32mimport \u001b[39m\u001b[36mscala.concurrent.{Future,ExecutionContext,Await}\n",
       "\u001b[39m\n",
       "\u001b[32mimport \u001b[39m\u001b[36mExecutionContext.Implicits.global\u001b[39m"
      ]
     },
     "execution_count": 12,
     "metadata": {},
     "output_type": "execute_result"
    }
   ],
   "source": [
    "import scala.concurrent.duration._\n",
    "import scala.concurrent.{Future,ExecutionContext,Await}\n",
    "import ExecutionContext.Implicits.global"
   ]
  },
  {
   "cell_type": "code",
   "execution_count": 13,
   "metadata": {
    "collapsed": false
   },
   "outputs": [
    {
     "data": {
      "text/plain": [
       "\u001b[36mres12\u001b[39m: \u001b[32mFuture\u001b[39m.type = scala.concurrent.Future$@ad4eb67"
      ]
     },
     "execution_count": 13,
     "metadata": {},
     "output_type": "execute_result"
    }
   ],
   "source": [
    "// Третий на подходе\n",
    "Future"
   ]
  },
  {
   "cell_type": "markdown",
   "metadata": {},
   "source": [
    "Существует монада для параллельного вычесления и асинхронности. Future монада существует для обёртки медленных вычислений, для того чтобы засунуть их в другой поток. Если вы зовёте Future монаду - она возращается тут же, позволяя вызывать поток, пока дополнительные потоки делают вычисления. Т.е. когда мы вызываем Future - она ещё не содержит значение, но через какое-то время оно (возможно) там появится."
   ]
  },
  {
   "cell_type": "markdown",
   "metadata": {},
   "source": [
    "Создадим 2 монады Future, каждая из которых будет спать 10 секунд. В главном потоке просуммируем f1 И f2. "
   ]
  },
  {
   "cell_type": "code",
   "execution_count": 14,
   "metadata": {
    "collapsed": false
   },
   "outputs": [
    {
     "data": {
      "text/plain": [
       "\u001b[36mf1\u001b[39m: \u001b[32mFuture\u001b[39m[\u001b[32mInt\u001b[39m] = Future(<not completed>)"
      ]
     },
     "execution_count": 14,
     "metadata": {},
     "output_type": "execute_result"
    }
   ],
   "source": [
    "val f1=Future{\n",
    "  Thread.sleep(10000)\n",
    "  1 }"
   ]
  },
  {
   "cell_type": "code",
   "execution_count": 15,
   "metadata": {
    "collapsed": false
   },
   "outputs": [
    {
     "data": {
      "text/plain": [
       "\u001b[36mf2\u001b[39m: \u001b[32mFuture\u001b[39m[\u001b[32mInt\u001b[39m] = Future(<not completed>)"
      ]
     },
     "execution_count": 15,
     "metadata": {},
     "output_type": "execute_result"
    }
   ],
   "source": [
    "val f2=Future{\n",
    "  Thread.sleep(10000)\n",
    "  2 }"
   ]
  },
  {
   "cell_type": "markdown",
   "metadata": {},
   "source": [
    "Заметим, что f1 и f2 выполняться вместе за 10 секунд в разных потоках."
   ]
  },
  {
   "cell_type": "code",
   "execution_count": 16,
   "metadata": {
    "collapsed": false
   },
   "outputs": [
    {
     "data": {
      "text/plain": [
       "\u001b[36mf3\u001b[39m: \u001b[32mFuture\u001b[39m[\u001b[32mInt\u001b[39m] = Future(<not completed>)"
      ]
     },
     "execution_count": 16,
     "metadata": {},
     "output_type": "execute_result"
    }
   ],
   "source": [
    "val f3=for {\n",
    "  v1 <- f1\n",
    "  v2 <- f2\n",
    "  } yield (v1+v2)"
   ]
  },
  {
   "cell_type": "code",
   "execution_count": 17,
   "metadata": {
    "collapsed": false
   },
   "outputs": [
    {
     "name": "stdout",
     "output_type": "stream",
     "text": [
      "3\n"
     ]
    }
   ],
   "source": [
    "println(Await.result(f3, 30.seconds))"
   ]
  },
  {
   "cell_type": "markdown",
   "metadata": {},
   "source": [
    "H3: Future — «как бы контейнер» на один элемент, где может что-то уже лежит, может будет лежать, или уже лежит исключение, или будет лежать исключение или никогда ничего лежать не будет."
   ]
  },
  {
   "cell_type": "markdown",
   "metadata": {},
   "source": [
    "## Try"
   ]
  },
  {
   "cell_type": "code",
   "execution_count": 20,
   "metadata": {
    "collapsed": true
   },
   "outputs": [
    {
     "data": {
      "text/plain": [
       "\u001b[32mimport \u001b[39m\u001b[36mscala.util.Try\u001b[39m"
      ]
     },
     "execution_count": 20,
     "metadata": {},
     "output_type": "execute_result"
    }
   ],
   "source": [
    "import scala.util.Try"
   ]
  },
  {
   "cell_type": "code",
   "execution_count": 22,
   "metadata": {
    "collapsed": false
   },
   "outputs": [
    {
     "data": {
      "text/plain": [
       "\u001b[36mres21\u001b[39m: \u001b[32mTry\u001b[39m.type = scala.util.Try$@120f1e89"
      ]
     },
     "execution_count": 22,
     "metadata": {},
     "output_type": "execute_result"
    }
   ],
   "source": [
    "// Ох, сколько больных развелось\n",
    "Try"
   ]
  },
  {
   "cell_type": "markdown",
   "metadata": {},
   "source": [
    "Try монада существует для того, чтобы не оборачивать ошибки с помощью Either. Об Either поговорим чуть попозже, потому что это BiFunctor. Основная идея в том, что у вас лежит либо элемент, либо ошибка."
   ]
  },
  {
   "cell_type": "code",
   "execution_count": 27,
   "metadata": {
    "collapsed": false
   },
   "outputs": [
    {
     "data": {
      "text/plain": [
       "defined \u001b[32mfunction\u001b[39m \u001b[36mf\u001b[39m"
      ]
     },
     "execution_count": 27,
     "metadata": {},
     "output_type": "execute_result"
    }
   ],
   "source": [
    "// Создадим функцию, которая будет возвращать монаду\n",
    "def f(x: Int, y: Int): Try[Int] = Try(x / y)"
   ]
  },
  {
   "cell_type": "code",
   "execution_count": 28,
   "metadata": {
    "collapsed": false
   },
   "outputs": [
    {
     "data": {
      "text/plain": [
       "\u001b[36mres27\u001b[39m: \u001b[32mTry\u001b[39m[\u001b[32mInt\u001b[39m] = \u001b[33mSuccess\u001b[39m(\u001b[32m1\u001b[39m)"
      ]
     },
     "execution_count": 28,
     "metadata": {},
     "output_type": "execute_result"
    }
   ],
   "source": [
    "f(1, 1)"
   ]
  },
  {
   "cell_type": "code",
   "execution_count": 29,
   "metadata": {
    "collapsed": false
   },
   "outputs": [
    {
     "data": {
      "text/plain": [
       "\u001b[36mres28\u001b[39m: \u001b[32mTry\u001b[39m[\u001b[32mInt\u001b[39m] = \u001b[33mFailure\u001b[39m(java.lang.ArithmeticException: / by zero)"
      ]
     },
     "execution_count": 29,
     "metadata": {},
     "output_type": "execute_result"
    }
   ],
   "source": [
    "f(1, 0)"
   ]
  },
  {
   "cell_type": "markdown",
   "metadata": {},
   "source": [
    "Монада, как и было сказанно выше принимает 2 значения. Либо ```Success``` либо ```Failure```"
   ]
  },
  {
   "cell_type": "code",
   "execution_count": 32,
   "metadata": {
    "collapsed": false
   },
   "outputs": [
    {
     "data": {
      "text/plain": [
       "\u001b[36mres31\u001b[39m: \u001b[32mBoolean\u001b[39m = \u001b[32mtrue\u001b[39m"
      ]
     },
     "execution_count": 32,
     "metadata": {},
     "output_type": "execute_result"
    }
   ],
   "source": [
    "// Узнаем, всё ли хорошо\n",
    "f(1, 1).isSuccess"
   ]
  },
  {
   "cell_type": "markdown",
   "metadata": {},
   "source": [
    "Литература для создания тетрадки\n",
    "\n",
    "1. [Functors and things using Scala](http://blog.tmorris.net/posts/functors-and-things-using-scala/index.html)\n",
    "2. [Функторы, аппликативные функторы и монады в картинках](https://habrahabr.ru/post/183150/)\n",
    "3. [First steps with monads in Scala](https://darrenjw.wordpress.com/2016/04/15/first-steps-with-monads-in-scala/)\n",
    "4. [FP на Scala: Что такое функтор?](https://habrahabr.ru/company/golovachcourses/blog/266905/)\n",
    "5. [Scala's Either, Try and the M word](https://mauricio.github.io/2014/02/17/scala-either-try-and-the-m-word.html)\n",
    "\n",
    "\n",
    "<p style='font-size: 10px'>[Если вы классный](http://homepages.inf.ed.ac.uk/wadler/papers/marktoberdorf/baastad.pdf)</p>\n",
    "\n",
    "<p style='font-size: 10px'>[Очень-очень классный](https://bartoszmilewski.com/2014/10/28/category-theory-for-programmers-the-preface/)</p>\n"
   ]
  },
  {
   "cell_type": "code",
   "execution_count": null,
   "metadata": {
    "collapsed": true
   },
   "outputs": [],
   "source": []
  }
 ],
 "metadata": {
  "kernelspec": {
   "display_name": "Scala",
   "language": "scala",
   "name": "scala"
  },
  "language_info": {
   "codemirror_mode": "text/x-scala",
   "file_extension": ".scala",
   "mimetype": "text/x-scala",
   "name": "scala211",
   "nbconvert_exporter": "script",
   "pygments_lexer": "scala",
   "version": "2.11.11"
  }
 },
 "nbformat": 4,
 "nbformat_minor": 2
}
