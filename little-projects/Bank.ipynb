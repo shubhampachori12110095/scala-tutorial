{
 "cells": [
  {
   "cell_type": "code",
   "execution_count": 35,
   "metadata": {},
   "outputs": [
    {
     "data": {
      "text/plain": [
       "\u001b[32mimport \u001b[39m\u001b[36mscala.collection.mutable.ListBuffer\n",
       "\u001b[39m\n",
       "\u001b[32mimport \u001b[39m\u001b[36mscala.collection.mutable.Map\n",
       "\u001b[39m\n",
       "\u001b[32mimport \u001b[39m\u001b[36mscala.util.Random\n",
       "\u001b[39m\n",
       "\u001b[32mimport \u001b[39m\u001b[36mjava.util.Calendar\u001b[39m"
      ]
     },
     "execution_count": 35,
     "metadata": {},
     "output_type": "execute_result"
    }
   ],
   "source": [
    "// Зависимости\n",
    "import scala.collection.mutable.ListBuffer\n",
    "import scala.collection.mutable.Map\n",
    "import scala.util.Random\n",
    "import java.util.Calendar"
   ]
  },
  {
   "cell_type": "code",
   "execution_count": 36,
   "metadata": {},
   "outputs": [
    {
     "data": {
      "text/plain": [
       "defined \u001b[32mclass\u001b[39m \u001b[36mAccountType\u001b[39m\n",
       "defined \u001b[32mclass\u001b[39m \u001b[36mHelpers\u001b[39m\n",
       "defined \u001b[32mclass\u001b[39m \u001b[36mBank\u001b[39m\n",
       "defined \u001b[32mclass\u001b[39m \u001b[36mTransaction\u001b[39m\n",
       "defined \u001b[32mclass\u001b[39m \u001b[36mCustomer\u001b[39m\n",
       "defined \u001b[32mclass\u001b[39m \u001b[36mAccount\u001b[39m\n",
       "defined \u001b[32mclass\u001b[39m \u001b[36mContribution\u001b[39m\n",
       "defined \u001b[32mclass\u001b[39m \u001b[36mCredit\u001b[39m"
      ]
     },
     "execution_count": 36,
     "metadata": {},
     "output_type": "execute_result"
    }
   ],
   "source": [
    "case class AccountType(val name:String, val credit_percent:Double, val deposit_percent:Double, \n",
    "                       val giveaway_percent:Double, val contribution_percent:Double)\n",
    "\n",
    "\n",
    "class Helpers{\n",
    "    def printTransactionInfo(trans:Transaction){ \n",
    "        println(\"type: \" + trans.kind + \"     amount: \" + trans.amount + \"      date: \" + trans.datetime.getTime)\n",
    "    }\n",
    "    \n",
    "    def printContributionInfo(contr:Contribution){\n",
    "        println(\"amount: \" + contr.amount + \"     years: \" + contr.years + \"    start date: \" + contr.startTime.getTime + \"  percent: \" + contr.account.accountType.contribution_percent)\n",
    "    }\n",
    "    \n",
    "    def printCreditInfo(credit:Credit){\n",
    "        println(\"amount: \" + credit.amount + \"     months: \" + credit.months + \"    start date: \" + credit.startTime.getTime + \"  percent: \" + credit.account.accountType.credit_percent)\n",
    "    }\n",
    "    \n",
    "    def printContributionsList(allcontr:ListBuffer[Contribution]){\n",
    "        println(\"Contributions:\")\n",
    "        for(i <- allcontr)\n",
    "            printContributionInfo(i)\n",
    "    }\n",
    "    def printCreditList(allcred:ListBuffer[Credit]){\n",
    "        println(\"Credits:\")\n",
    "        for(i <- allcred)\n",
    "            printCreditInfo(i)\n",
    "    }\n",
    "    \n",
    "    def printTransactionsList(alltrans:ListBuffer[Transaction]){\n",
    "        println(\"Transactions:\")\n",
    "        for(i <- alltrans)\n",
    "            printTransactionInfo(i)\n",
    "    }\n",
    "\n",
    "    def printAccountInfo(account:Account){\n",
    "        print (\"balance: \" + account.balance + \"      Type: \" + account.accountType.name + \"\\n\")\n",
    "        printTransactionsList(account.transactions)\n",
    "        printContributionsList(account.contributions)\n",
    "        printCreditList(account.credits)\n",
    "    }\n",
    "    def printCustomerInfo(user:Customer){\n",
    "        print(\"name: \" + user.name + \"\\nAccounts:\\n\")\n",
    "        for(i <- user.accounts){\n",
    "            printAccountInfo(i)\n",
    "            print(\"\\n\")\n",
    "        }\n",
    "    }\n",
    "}\n",
    "class Bank {\n",
    "    // Клиенты банка\n",
    "    var customers = new ListBuffer[Customer]\n",
    "\n",
    "    // Добавить клиента\n",
    "    def addCustomer(customer: Customer) { customers += customer }\n",
    "    \n",
    "    //типы аккаунтов, у разных типов разные проценты на депозиты, переводы, кредиты и вклады\n",
    "    var accTypes:Map[String, AccountType] = Map(\"basic\" -> new AccountType(\"basic\", 1.2, 0.9, 0.9, 1.10),\n",
    "                                                \"VIP\" -> new AccountType(\"VIP\", 1.1, 0.95, 0.95, 1.20),\n",
    "                                                \"premier\" -> new AccountType(\"premier\", 1.05,0.99, 0.99,1.30)) \n",
    "    def getAccType(accType:String):AccountType={\n",
    "        return accTypes(accType)\n",
    "    }\n",
    "    def getAllUsers():ListBuffer[Customer]={\n",
    "        return customers\n",
    "    }\n",
    "    \n",
    "    //симуляция работы банка\n",
    "    def work()={\n",
    "        var help = new Helpers()\n",
    "        var flag = true\n",
    "        for(user <- customers){\n",
    "            for(account <- user.accounts){\n",
    "                for(contribution <- account.contributions){\n",
    "                    contribution.startTime = Calendar.getInstance\n",
    "                }\n",
    "                for(credit <- account.credits){\n",
    "                    credit.startTime = Calendar.getInstance\n",
    "                }\n",
    "            }\n",
    "        }\n",
    "        var iteration = 1\n",
    "        while(flag == true){\n",
    "            flag = false\n",
    "            for(user <- customers){\n",
    "                for(account <- user.accounts){\n",
    "                    for(contribution <- account.contributions){\n",
    "                        if(iteration%12 == 0){\n",
    "                            println(\"Contrbutions\")\n",
    "                            help.printContributionInfo(contribution)\n",
    "                            contribution.upgrade()\n",
    "                        }\n",
    "                        flag = true\n",
    "                    }\n",
    "                    for(credit <- account.credits){\n",
    "                        println(\"credits\")\n",
    "                        help.printCreditInfo(credit)\n",
    "                        credit.upgrade()\n",
    "                        flag = true\n",
    "                    }\n",
    "                }\n",
    "            }\n",
    "            if(flag == true){\n",
    "                println(\"Прошел месяц....\")\n",
    "                Thread.sleep(1000)\n",
    "            }\n",
    "            iteration+=1\n",
    "        }\n",
    "    }\n",
    "    \n",
    "    def block_account(account:Account)=account.blocked = true\n",
    "    \n",
    "    def unblock_account(account:Account)=account.blocked = false\n",
    "    \n",
    "    //оплатить весь долг по кредиту(менеджер)\n",
    "    def pay_for_credit(credit:Credit){\n",
    "        credit.payAll()\n",
    "    }\n",
    "    \n",
    "    //вывести деньги из вклада(менеджер)\n",
    "    def get_contribution_back(contribution:Contribution){\n",
    "        contribution.getMoneyBack()\n",
    "    }\n",
    "}\n",
    "\n",
    "class Transaction(val kind:String, val amount:Double){\n",
    "    val datetime = Calendar.getInstance()\n",
    "}\n",
    "\n",
    "// Пользователи\n",
    "\n",
    "class Customer(val name: String) {\n",
    "\n",
    "    // Аккаунты пользователя\n",
    "    val accounts: ListBuffer[Account] = ListBuffer()\n",
    "    // Создать новый счёт\n",
    "    def openAccount(account: Account): Customer = {\n",
    "        accounts += account\n",
    "        this\n",
    "    }\n",
    "\n",
    "    def get_all_transactions(account:Account):ListBuffer[Transaction] = {\n",
    "        return account.transactions\n",
    "    } \n",
    "    \n",
    "    def delete_account(account:Account)={\n",
    "        accounts -= account\n",
    "    }\n",
    "    \n",
    "    //перевод средств на другой счет\n",
    "    def give_money(from_account:Account, to_account:Account, sum:Double) = {\n",
    "        if(from_account.balance < sum)\n",
    "            throw new IllegalArgumentException(\"Не достаточно денег на счете\")\n",
    "        else{\n",
    "            from_account.balance -= sum\n",
    "            to_account.balance += sum*from_account.accountType.giveaway_percent\n",
    "        }\n",
    "        from_account.transactions.append(new Transaction(\"giveaway\", -sum))\n",
    "        to_account.transactions.append(new Transaction(\"addition\", sum*from_account.accountType.giveaway_percent))\n",
    "    }\n",
    "}\n",
    "\n",
    "class Account(val accountType:AccountType) {\n",
    "    // Баланс аккаунта\n",
    "    var balance = 0.0\n",
    "    val contributions: ListBuffer[Contribution] = ListBuffer()\n",
    "    val credits: ListBuffer[Credit] = ListBuffer()\n",
    "    val transactions:ListBuffer[Transaction] = ListBuffer()\n",
    "    // Uid аккаунта\n",
    "    val uid =  java.util.UUID.randomUUID.toString\n",
    "    var blocked = false\n",
    "\n",
    "    // Добавление денег на аккаунт\n",
    "    def deposit(amount: Double) {\n",
    "        if(blocked)\n",
    "            println(\"Аккаунт заблокирован, невозможно произвести операцию\")\n",
    "        else if (amount <= 0)\n",
    "            throw new IllegalArgumentException(\"У вас должно быть больше денег чем 0\")\n",
    "        else\n",
    "        // Добавить денег\n",
    "        balance += amount*accountType.deposit_percent\n",
    "        transactions.append(new Transaction(\"deposit\", amount*accountType.deposit_percent))\n",
    "    }\n",
    "    \n",
    "    //вывод средств со счета\n",
    "    def remove_money(amount: Double){\n",
    "        if(blocked)\n",
    "            println(\"Аккаунт заблокирован, невозможно произвести операцию\")\n",
    "        if(amount > balance)\n",
    "            throw new IllegalArgumentException(\"Не достаточно денег на счете\")\n",
    "        else{\n",
    "            balance -= amount\n",
    "            transactions.append(new Transaction(\"windraw\", -amount))\n",
    "        }\n",
    "    }\n",
    "    \n",
    "        \n",
    "    def new_contribution(amount:Double, years:Int)={\n",
    "        if(blocked)\n",
    "            println(\"Аккаунт заблокирован, невозможно произвести операцию\")\n",
    "        if(amount > balance)\n",
    "            throw new IllegalArgumentException(\"Не достаточно денег на счете\")\n",
    "        else{\n",
    "            balance -= amount\n",
    "            contributions.append(new Contribution(amount, years, this))\n",
    "            transactions.append(new Transaction(\"contribution\", -amount))\n",
    "        }\n",
    "    }\n",
    "        \n",
    "    def new_credit(amount:Double, years:Int){\n",
    "        if(blocked)\n",
    "            println(\"Аккаунт заблокирован, невозможно произвести операцию\")\n",
    "        balance+=amount\n",
    "        credits.append(new Credit(amount, years, this))\n",
    "        transactions.append(new Transaction(\"credit\", amount))\n",
    "    }\n",
    "    //оплатить весь долг по кредиту(клиент)\n",
    "    def pay_for_credit(credit:Credit){\n",
    "        credit.payAll()\n",
    "    }\n",
    "    \n",
    "    //вывести деньги из вклада(клиент)\n",
    "    def get_contribution_back(contribution:Contribution){\n",
    "        contribution.getMoneyBack()\n",
    "    }\n",
    "}\n",
    "\n",
    "class Contribution(var amount:Double, var years:Int, val account:Account){\n",
    "    var startTime = Calendar.getInstance()\n",
    "    //обновление вклада(каждый месяц)\n",
    "    def upgrade() = {\n",
    "        if(years==0){\n",
    "            getMoneyBack()\n",
    "        }\n",
    "        else\n",
    "            amount*=account.accountType.contribution_percent\n",
    "        years-=1\n",
    "    }\n",
    "    //забрать все деньги из вклада\n",
    "    def getMoneyBack(){\n",
    "        account.balance += amount\n",
    "        account.contributions -= this\n",
    "        account.transactions.append(new Transaction(\"from contribution\", amount))\n",
    "    }\n",
    "}\n",
    "\n",
    "class Credit (var amount:Double, var years:Int, val account:Account){\n",
    "    var months = years*12\n",
    "    var startTime = Calendar.getInstance()\n",
    "    val sumToPay:Double = amount*account.accountType.credit_percent/months\n",
    "    \n",
    "    //обновление кредита(каждый месяц)\n",
    "    def upgrade(){\n",
    "        if(months==0){\n",
    "            account.credits -= this\n",
    "        }\n",
    "        else\n",
    "        {\n",
    "            if(sumToPay > account.balance)\n",
    "                print(\"Теперь вы должны банку денег\")\n",
    "            account.balance -= sumToPay\n",
    "            account.transactions.append(new Transaction(\"credit pay\", -sumToPay))\n",
    "        }\n",
    "        months-=1\n",
    "    }\n",
    "    \n",
    "    //заплатить весь долг за кредит\n",
    "    def payAll(){\n",
    "        if(account.balance < sumToPay*months)\n",
    "            print(\"Не достаточно средств на счете, чтобы оплатить кредит\")\n",
    "        else{\n",
    "            account.balance -= sumToPay*months\n",
    "            account.credits -= this\n",
    "            account.transactions.append(new Transaction(\"credit pay\", -sumToPay*months))\n",
    "        }\n",
    "    }\n",
    "}"
   ]
  },
  {
   "cell_type": "code",
   "execution_count": 37,
   "metadata": {
    "scrolled": true
   },
   "outputs": [
    {
     "data": {
      "text/plain": [
       "\u001b[36mbank\u001b[39m: \u001b[32mBank\u001b[39m = $sess.cmd35Wrapper$Helper$Bank@16a0f564"
      ]
     },
     "execution_count": 37,
     "metadata": {},
     "output_type": "execute_result"
    }
   ],
   "source": [
    "val bank = new Bank"
   ]
  },
  {
   "cell_type": "code",
   "execution_count": 38,
   "metadata": {},
   "outputs": [
    {
     "data": {
      "text/plain": [
       "\u001b[36mhelp\u001b[39m: \u001b[32mHelpers\u001b[39m = $sess.cmd35Wrapper$Helper$Helpers@43c5cba2\n",
       "\u001b[36muser\u001b[39m: \u001b[32mCustomer\u001b[39m = $sess.cmd35Wrapper$Helper$Customer@437163f2\n",
       "\u001b[36maccount\u001b[39m: \u001b[32mAccount\u001b[39m = $sess.cmd35Wrapper$Helper$Account@492f6796\n",
       "\u001b[36mres37_4\u001b[39m: \u001b[32mCustomer\u001b[39m = $sess.cmd35Wrapper$Helper$Customer@437163f2\n",
       "\u001b[36maccount2\u001b[39m: \u001b[32mAccount\u001b[39m = $sess.cmd35Wrapper$Helper$Account@48097be0\n",
       "\u001b[36mres37_6\u001b[39m: \u001b[32mCustomer\u001b[39m = $sess.cmd35Wrapper$Helper$Customer@437163f2"
      ]
     },
     "execution_count": 38,
     "metadata": {},
     "output_type": "execute_result"
    }
   ],
   "source": [
    "var help = new Helpers //объект класса - помощник по выводу\n",
    "var user = new Customer(\"Даня Ололоев\")\n",
    "bank.addCustomer(user)\n",
    "var account = new Account(bank.getAccType(\"basic\"))\n",
    "user.openAccount(account) \n",
    "var account2 = new Account(bank.getAccType(\"VIP\"))\n",
    "user.openAccount(account2)"
   ]
  },
  {
   "cell_type": "code",
   "execution_count": 39,
   "metadata": {
    "collapsed": true
   },
   "outputs": [],
   "source": [
    "account.deposit(400)\n",
    "account2.deposit(400)"
   ]
  },
  {
   "cell_type": "code",
   "execution_count": 40,
   "metadata": {},
   "outputs": [
    {
     "name": "stdout",
     "output_type": "stream",
     "text": [
      "name: Даня Ололоев\n",
      "Accounts:\n",
      "balance: 360.0      Type: basic\n",
      "Transactions:\n",
      "type: deposit     amount: 360.0      date: Mon Jun 19 10:02:39 MSK 2017\n",
      "Contributions:\n",
      "Credits:\n",
      "\n",
      "balance: 380.0      Type: VIP\n",
      "Transactions:\n",
      "type: deposit     amount: 380.0      date: Mon Jun 19 10:02:39 MSK 2017\n",
      "Contributions:\n",
      "Credits:\n",
      "\n"
     ]
    }
   ],
   "source": [
    "help.printCustomerInfo(user)"
   ]
  },
  {
   "cell_type": "code",
   "execution_count": 41,
   "metadata": {
    "collapsed": true
   },
   "outputs": [],
   "source": [
    "bank.block_account(account)"
   ]
  },
  {
   "cell_type": "code",
   "execution_count": 42,
   "metadata": {},
   "outputs": [
    {
     "name": "stdout",
     "output_type": "stream",
     "text": [
      "Аккаунт заблокирован, невозможно произвести операцию\n"
     ]
    }
   ],
   "source": [
    "account.deposit(400)"
   ]
  },
  {
   "cell_type": "code",
   "execution_count": 43,
   "metadata": {
    "collapsed": true
   },
   "outputs": [],
   "source": [
    "bank.unblock_account(account)"
   ]
  },
  {
   "cell_type": "code",
   "execution_count": 44,
   "metadata": {
    "collapsed": true
   },
   "outputs": [],
   "source": [
    "user.give_money(account, account2, 100)"
   ]
  },
  {
   "cell_type": "code",
   "execution_count": 45,
   "metadata": {},
   "outputs": [
    {
     "name": "stdout",
     "output_type": "stream",
     "text": [
      "name: Даня Ололоев\n",
      "Accounts:\n",
      "balance: 260.0      Type: basic\n",
      "Transactions:\n",
      "type: deposit     amount: 360.0      date: Mon Jun 19 10:02:39 MSK 2017\n",
      "type: deposit     amount: 360.0      date: Mon Jun 19 10:02:41 MSK 2017\n",
      "type: giveaway     amount: -100.0      date: Mon Jun 19 10:02:42 MSK 2017\n",
      "Contributions:\n",
      "Credits:\n",
      "\n",
      "balance: 470.0      Type: VIP\n",
      "Transactions:\n",
      "type: deposit     amount: 380.0      date: Mon Jun 19 10:02:39 MSK 2017\n",
      "type: addition     amount: 90.0      date: Mon Jun 19 10:02:42 MSK 2017\n",
      "Contributions:\n",
      "Credits:\n",
      "\n"
     ]
    }
   ],
   "source": [
    "help.printCustomerInfo(user)"
   ]
  },
  {
   "cell_type": "code",
   "execution_count": 46,
   "metadata": {
    "collapsed": true
   },
   "outputs": [],
   "source": [
    "account2.remove_money(80)"
   ]
  },
  {
   "cell_type": "code",
   "execution_count": 47,
   "metadata": {
    "collapsed": true
   },
   "outputs": [],
   "source": [
    "account2.new_credit(100, 2)\n",
    "account2.new_contribution(100, 3)"
   ]
  },
  {
   "cell_type": "code",
   "execution_count": 48,
   "metadata": {},
   "outputs": [
    {
     "name": "stdout",
     "output_type": "stream",
     "text": [
      "name: Даня Ололоев\n",
      "Accounts:\n",
      "balance: 260.0      Type: basic\n",
      "Transactions:\n",
      "type: deposit     amount: 360.0      date: Mon Jun 19 10:02:39 MSK 2017\n",
      "type: deposit     amount: 360.0      date: Mon Jun 19 10:02:41 MSK 2017\n",
      "type: giveaway     amount: -100.0      date: Mon Jun 19 10:02:42 MSK 2017\n",
      "Contributions:\n",
      "Credits:\n",
      "\n",
      "balance: 390.0      Type: VIP\n",
      "Transactions:\n",
      "type: deposit     amount: 380.0      date: Mon Jun 19 10:02:39 MSK 2017\n",
      "type: addition     amount: 90.0      date: Mon Jun 19 10:02:42 MSK 2017\n",
      "type: windraw     amount: -80.0      date: Mon Jun 19 10:02:43 MSK 2017\n",
      "type: credit     amount: 100.0      date: Mon Jun 19 10:02:43 MSK 2017\n",
      "type: contribution     amount: -100.0      date: Mon Jun 19 10:02:43 MSK 2017\n",
      "Contributions:\n",
      "amount: 100.0     years: 3    start date: Mon Jun 19 10:02:43 MSK 2017  percent: 1.2\n",
      "Credits:\n",
      "amount: 100.0     months: 24    start date: Mon Jun 19 10:02:43 MSK 2017  percent: 1.1\n",
      "\n"
     ]
    }
   ],
   "source": [
    "help.printCustomerInfo(user)"
   ]
  },
  {
   "cell_type": "code",
   "execution_count": 49,
   "metadata": {},
   "outputs": [],
   "source": [
    "bank.pay_for_credit(account2.credits(0)) //сразу отдаем весь долг по кредиту\n",
    "bank.get_contribution_back(account2.contributions(0)) //забираем деньги из вклада"
   ]
  },
  {
   "cell_type": "code",
   "execution_count": 50,
   "metadata": {
    "scrolled": false
   },
   "outputs": [
    {
     "name": "stdout",
     "output_type": "stream",
     "text": [
      "name: Даня Ололоев\n",
      "Accounts:\n",
      "balance: 260.0      Type: basic\n",
      "Transactions:\n",
      "type: deposit     amount: 360.0      date: Mon Jun 19 10:02:39 MSK 2017\n",
      "type: deposit     amount: 360.0      date: Mon Jun 19 10:02:41 MSK 2017\n",
      "type: giveaway     amount: -100.0      date: Mon Jun 19 10:02:42 MSK 2017\n",
      "Contributions:\n",
      "Credits:\n",
      "\n",
      "balance: 380.0      Type: VIP\n",
      "Transactions:\n",
      "type: deposit     amount: 380.0      date: Mon Jun 19 10:02:39 MSK 2017\n",
      "type: addition     amount: 90.0      date: Mon Jun 19 10:02:42 MSK 2017\n",
      "type: windraw     amount: -80.0      date: Mon Jun 19 10:02:43 MSK 2017\n",
      "type: credit     amount: 100.0      date: Mon Jun 19 10:02:43 MSK 2017\n",
      "type: contribution     amount: -100.0      date: Mon Jun 19 10:02:43 MSK 2017\n",
      "type: credit pay     amount: -110.00000000000001      date: Mon Jun 19 10:02:44 MSK 2017\n",
      "type: from contribution     amount: 100.0      date: Mon Jun 19 10:02:44 MSK 2017\n",
      "Contributions:\n",
      "Credits:\n",
      "\n"
     ]
    }
   ],
   "source": [
    "help.printCustomerInfo(user)"
   ]
  },
  {
   "cell_type": "code",
   "execution_count": 51,
   "metadata": {
    "collapsed": true
   },
   "outputs": [],
   "source": [
    "account2.new_credit(100, 2)\n",
    "account2.new_contribution(100, 3)"
   ]
  },
  {
   "cell_type": "code",
   "execution_count": 52,
   "metadata": {},
   "outputs": [
    {
     "name": "stdout",
     "output_type": "stream",
     "text": [
      "credits\n",
      "amount: 100.0     months: 24    start date: Mon Jun 19 10:02:45 MSK 2017  percent: 1.1\n",
      "Прошел месяц....\n",
      "credits\n",
      "amount: 100.0     months: 23    start date: Mon Jun 19 10:02:45 MSK 2017  percent: 1.1\n",
      "Прошел месяц....\n",
      "credits\n",
      "amount: 100.0     months: 22    start date: Mon Jun 19 10:02:45 MSK 2017  percent: 1.1\n",
      "Прошел месяц....\n",
      "credits\n",
      "amount: 100.0     months: 21    start date: Mon Jun 19 10:02:45 MSK 2017  percent: 1.1\n",
      "Прошел месяц....\n",
      "credits\n",
      "amount: 100.0     months: 20    start date: Mon Jun 19 10:02:45 MSK 2017  percent: 1.1\n",
      "Прошел месяц....\n",
      "credits\n",
      "amount: 100.0     months: 19    start date: Mon Jun 19 10:02:45 MSK 2017  percent: 1.1\n",
      "Прошел месяц....\n",
      "credits\n",
      "amount: 100.0     months: 18    start date: Mon Jun 19 10:02:45 MSK 2017  percent: 1.1\n",
      "Прошел месяц....\n",
      "credits\n",
      "amount: 100.0     months: 17    start date: Mon Jun 19 10:02:45 MSK 2017  percent: 1.1\n",
      "Прошел месяц....\n",
      "credits\n",
      "amount: 100.0     months: 16    start date: Mon Jun 19 10:02:45 MSK 2017  percent: 1.1\n",
      "Прошел месяц....\n",
      "credits\n",
      "amount: 100.0     months: 15    start date: Mon Jun 19 10:02:45 MSK 2017  percent: 1.1\n",
      "Прошел месяц....\n",
      "credits\n",
      "amount: 100.0     months: 14    start date: Mon Jun 19 10:02:45 MSK 2017  percent: 1.1\n",
      "Прошел месяц....\n",
      "Contrbutions\n",
      "amount: 100.0     years: 3    start date: Mon Jun 19 10:02:45 MSK 2017  percent: 1.2\n",
      "credits\n",
      "amount: 100.0     months: 13    start date: Mon Jun 19 10:02:45 MSK 2017  percent: 1.1\n",
      "Прошел месяц....\n",
      "credits\n",
      "amount: 100.0     months: 12    start date: Mon Jun 19 10:02:45 MSK 2017  percent: 1.1\n",
      "Прошел месяц....\n",
      "credits\n",
      "amount: 100.0     months: 11    start date: Mon Jun 19 10:02:45 MSK 2017  percent: 1.1\n",
      "Прошел месяц....\n",
      "credits\n",
      "amount: 100.0     months: 10    start date: Mon Jun 19 10:02:45 MSK 2017  percent: 1.1\n",
      "Прошел месяц....\n",
      "credits\n",
      "amount: 100.0     months: 9    start date: Mon Jun 19 10:02:45 MSK 2017  percent: 1.1\n",
      "Прошел месяц....\n",
      "credits\n",
      "amount: 100.0     months: 8    start date: Mon Jun 19 10:02:45 MSK 2017  percent: 1.1\n",
      "Прошел месяц....\n",
      "credits\n",
      "amount: 100.0     months: 7    start date: Mon Jun 19 10:02:45 MSK 2017  percent: 1.1\n",
      "Прошел месяц....\n",
      "credits\n",
      "amount: 100.0     months: 6    start date: Mon Jun 19 10:02:45 MSK 2017  percent: 1.1\n",
      "Прошел месяц....\n",
      "credits\n",
      "amount: 100.0     months: 5    start date: Mon Jun 19 10:02:45 MSK 2017  percent: 1.1\n",
      "Прошел месяц....\n",
      "credits\n",
      "amount: 100.0     months: 4    start date: Mon Jun 19 10:02:45 MSK 2017  percent: 1.1\n",
      "Прошел месяц....\n",
      "credits\n",
      "amount: 100.0     months: 3    start date: Mon Jun 19 10:02:45 MSK 2017  percent: 1.1\n",
      "Прошел месяц....\n",
      "credits\n",
      "amount: 100.0     months: 2    start date: Mon Jun 19 10:02:45 MSK 2017  percent: 1.1\n",
      "Прошел месяц....\n",
      "Contrbutions\n",
      "amount: 120.0     years: 2    start date: Mon Jun 19 10:02:45 MSK 2017  percent: 1.2\n",
      "credits\n",
      "amount: 100.0     months: 1    start date: Mon Jun 19 10:02:45 MSK 2017  percent: 1.1\n",
      "Прошел месяц....\n",
      "credits\n",
      "amount: 100.0     months: 0    start date: Mon Jun 19 10:02:45 MSK 2017  percent: 1.1\n",
      "Прошел месяц....\n",
      "Прошел месяц....\n",
      "Прошел месяц....\n",
      "Прошел месяц....\n",
      "Прошел месяц....\n",
      "Прошел месяц....\n",
      "Прошел месяц....\n",
      "Прошел месяц....\n",
      "Прошел месяц....\n",
      "Прошел месяц....\n",
      "Прошел месяц....\n",
      "Contrbutions\n",
      "amount: 144.0     years: 1    start date: Mon Jun 19 10:02:45 MSK 2017  percent: 1.2\n",
      "Прошел месяц....\n",
      "Прошел месяц....\n",
      "Прошел месяц....\n",
      "Прошел месяц....\n",
      "Прошел месяц....\n",
      "Прошел месяц....\n",
      "Прошел месяц....\n",
      "Прошел месяц....\n",
      "Прошел месяц....\n",
      "Прошел месяц....\n",
      "Прошел месяц....\n",
      "Прошел месяц....\n",
      "Contrbutions\n",
      "amount: 172.79999999999998     years: 0    start date: Mon Jun 19 10:02:45 MSK 2017  percent: 1.2\n",
      "Прошел месяц....\n"
     ]
    }
   ],
   "source": [
    "bank.work //симулятор работы банка\n",
    "          //кредит отдаётся каждый месяц (сумма зависит от суммы кредита, процентной ставки и срока)\n",
    "          //вклад пополняется каждый год, начисление на счет происходит только после закрытия вклада"
   ]
  },
  {
   "cell_type": "code",
   "execution_count": 53,
   "metadata": {},
   "outputs": [
    {
     "name": "stdout",
     "output_type": "stream",
     "text": [
      "name: Даня Ололоев\n",
      "Accounts:\n",
      "balance: 260.0      Type: basic\n",
      "Transactions:\n",
      "type: deposit     amount: 360.0      date: Mon Jun 19 10:02:39 MSK 2017\n",
      "type: deposit     amount: 360.0      date: Mon Jun 19 10:02:41 MSK 2017\n",
      "type: giveaway     amount: -100.0      date: Mon Jun 19 10:02:42 MSK 2017\n",
      "Contributions:\n",
      "Credits:\n",
      "\n",
      "balance: 442.8000000000004      Type: VIP\n",
      "Transactions:\n",
      "type: deposit     amount: 380.0      date: Mon Jun 19 10:02:39 MSK 2017\n",
      "type: addition     amount: 90.0      date: Mon Jun 19 10:02:42 MSK 2017\n",
      "type: windraw     amount: -80.0      date: Mon Jun 19 10:02:43 MSK 2017\n",
      "type: credit     amount: 100.0      date: Mon Jun 19 10:02:43 MSK 2017\n",
      "type: contribution     amount: -100.0      date: Mon Jun 19 10:02:43 MSK 2017\n",
      "type: credit pay     amount: -110.00000000000001      date: Mon Jun 19 10:02:44 MSK 2017\n",
      "type: from contribution     amount: 100.0      date: Mon Jun 19 10:02:44 MSK 2017\n",
      "type: credit     amount: 100.0      date: Mon Jun 19 10:02:44 MSK 2017\n",
      "type: contribution     amount: -100.0      date: Mon Jun 19 10:02:44 MSK 2017\n",
      "type: credit pay     amount: -4.583333333333334      date: Mon Jun 19 10:02:45 MSK 2017\n",
      "type: credit pay     amount: -4.583333333333334      date: Mon Jun 19 10:02:46 MSK 2017\n",
      "type: credit pay     amount: -4.583333333333334      date: Mon Jun 19 10:02:47 MSK 2017\n",
      "type: credit pay     amount: -4.583333333333334      date: Mon Jun 19 10:02:48 MSK 2017\n",
      "type: credit pay     amount: -4.583333333333334      date: Mon Jun 19 10:02:49 MSK 2017\n",
      "type: credit pay     amount: -4.583333333333334      date: Mon Jun 19 10:02:50 MSK 2017\n",
      "type: credit pay     amount: -4.583333333333334      date: Mon Jun 19 10:02:51 MSK 2017\n",
      "type: credit pay     amount: -4.583333333333334      date: Mon Jun 19 10:02:52 MSK 2017\n",
      "type: credit pay     amount: -4.583333333333334      date: Mon Jun 19 10:02:53 MSK 2017\n",
      "type: credit pay     amount: -4.583333333333334      date: Mon Jun 19 10:02:54 MSK 2017\n",
      "type: credit pay     amount: -4.583333333333334      date: Mon Jun 19 10:02:55 MSK 2017\n",
      "type: credit pay     amount: -4.583333333333334      date: Mon Jun 19 10:02:56 MSK 2017\n",
      "type: credit pay     amount: -4.583333333333334      date: Mon Jun 19 10:02:57 MSK 2017\n",
      "type: credit pay     amount: -4.583333333333334      date: Mon Jun 19 10:02:58 MSK 2017\n",
      "type: credit pay     amount: -4.583333333333334      date: Mon Jun 19 10:02:59 MSK 2017\n",
      "type: credit pay     amount: -4.583333333333334      date: Mon Jun 19 10:03:00 MSK 2017\n",
      "type: credit pay     amount: -4.583333333333334      date: Mon Jun 19 10:03:01 MSK 2017\n",
      "type: credit pay     amount: -4.583333333333334      date: Mon Jun 19 10:03:02 MSK 2017\n",
      "type: credit pay     amount: -4.583333333333334      date: Mon Jun 19 10:03:03 MSK 2017\n",
      "type: credit pay     amount: -4.583333333333334      date: Mon Jun 19 10:03:04 MSK 2017\n",
      "type: credit pay     amount: -4.583333333333334      date: Mon Jun 19 10:03:05 MSK 2017\n",
      "type: credit pay     amount: -4.583333333333334      date: Mon Jun 19 10:03:06 MSK 2017\n",
      "type: credit pay     amount: -4.583333333333334      date: Mon Jun 19 10:03:07 MSK 2017\n",
      "type: credit pay     amount: -4.583333333333334      date: Mon Jun 19 10:03:08 MSK 2017\n",
      "type: from contribution     amount: 172.79999999999998      date: Mon Jun 19 10:03:32 MSK 2017\n",
      "Contributions:\n",
      "Credits:\n",
      "\n"
     ]
    }
   ],
   "source": [
    "help.printCustomerInfo(user)"
   ]
  },
  {
   "cell_type": "code",
   "execution_count": 54,
   "metadata": {},
   "outputs": [
    {
     "data": {
      "text/plain": [
       "\u001b[36mres53\u001b[39m: \u001b[32mListBuffer\u001b[39m[\u001b[32mAccount\u001b[39m] = \u001b[33mListBuffer\u001b[39m($sess.cmd35Wrapper$Helper$Account@492f6796)"
      ]
     },
     "execution_count": 54,
     "metadata": {},
     "output_type": "execute_result"
    }
   ],
   "source": [
    "user.delete_account(account2)"
   ]
  },
  {
   "cell_type": "code",
   "execution_count": 55,
   "metadata": {},
   "outputs": [
    {
     "name": "stdout",
     "output_type": "stream",
     "text": [
      "name: Даня Ололоев\n",
      "Accounts:\n",
      "balance: 260.0      Type: basic\n",
      "Transactions:\n",
      "type: deposit     amount: 360.0      date: Mon Jun 19 10:02:39 MSK 2017\n",
      "type: deposit     amount: 360.0      date: Mon Jun 19 10:02:41 MSK 2017\n",
      "type: giveaway     amount: -100.0      date: Mon Jun 19 10:02:42 MSK 2017\n",
      "Contributions:\n",
      "Credits:\n",
      "\n"
     ]
    }
   ],
   "source": [
    "help.printCustomerInfo(user)"
   ]
  },
  {
   "cell_type": "code",
   "execution_count": 56,
   "metadata": {},
   "outputs": [
    {
     "data": {
      "text/plain": [
       "\u001b[36mres55\u001b[39m: \u001b[32mListBuffer\u001b[39m[\u001b[32mCustomer\u001b[39m] = \u001b[33mListBuffer\u001b[39m($sess.cmd35Wrapper$Helper$Customer@437163f2)"
      ]
     },
     "execution_count": 56,
     "metadata": {},
     "output_type": "execute_result"
    }
   ],
   "source": [
    "bank.getAllUsers()//API банка, через user-ов можно получить их счета и переводить на них деньги"
   ]
  },
  {
   "cell_type": "code",
   "execution_count": null,
   "metadata": {
    "collapsed": true
   },
   "outputs": [],
   "source": []
  },
  {
   "cell_type": "code",
   "execution_count": null,
   "metadata": {
    "collapsed": true
   },
   "outputs": [],
   "source": []
  }
 ],
 "metadata": {
  "kernelspec": {
   "display_name": "Scala",
   "language": "scala",
   "name": "scala"
  },
  "language_info": {
   "codemirror_mode": "text/x-scala",
   "file_extension": ".scala",
   "mimetype": "text/x-scala",
   "name": "scala211",
   "nbconvert_exporter": "script",
   "pygments_lexer": "scala",
   "version": "2.11.11"
  }
 },
 "nbformat": 4,
 "nbformat_minor": 2
}
