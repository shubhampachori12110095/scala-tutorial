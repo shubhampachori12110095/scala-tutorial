{
 "cells": [
  {
   "cell_type": "markdown",
   "metadata": {},
   "source": [
    "## Deeplearning on scala?\n",
    "### Easy!\n",
    "\n",
    "Я буду использовать [это](https://github.com/ThoughtWorksInc/DeepLearning.scala). Это самое приятное и обновляемое, что я нашел на просторах интернета. Для задачи я выбрал котиков и собачек. У меня [есть](https://github.com/tvorogme/cats-dogs_ml) репозиторий с решением этой задачи на питоне. Посмотрим, что получится тут."
   ]
  },
  {
   "cell_type": "code",
   "execution_count": null,
   "metadata": {
    "collapsed": false
   },
   "outputs": [],
   "source": [
    "// Зависимости\n",
    "import $ivy.`com.sksamuel.scrimage::scrimage-core:2.1.8`\n",
    "import $ivy.`org.plotly-scala::plotly-jupyter-scala:0.3.0`"
   ]
  },
  {
   "cell_type": "code",
   "execution_count": null,
   "metadata": {
    "collapsed": true
   },
   "outputs": [],
   "source": [
    "// PLOT\n",
    "import plotly._\n",
    "import plotly.element._\n",
    "import plotly.layout._\n",
    "import plotly.JupyterScala._\n",
    "\n",
    "// Files\n",
    "import java.io.File\n",
    "\n",
    "// Image\n",
    "import com.sksamuel.scrimage._"
   ]
  },
  {
   "cell_type": "code",
   "execution_count": null,
   "metadata": {
    "collapsed": false
   },
   "outputs": [],
   "source": [
    "// misc\n",
    "plotly.JupyterScala.init()"
   ]
  },
  {
   "cell_type": "markdown",
   "metadata": {},
   "source": [
    "## Скачаем данные\n",
    "\n",
    "Я взял картинки из [этого](https://www.kaggle.com/c/dogs-vs-cats/data) соревнования."
   ]
  },
  {
   "cell_type": "code",
   "execution_count": null,
   "metadata": {
    "collapsed": false
   },
   "outputs": [],
   "source": [
    "// Посмотрим на сами файлы\n",
    "var process = (fname: String) => List(Image.fromFile(new File(fname)).width, \n",
    "                                      Image.fromFile(new File(fname)).height)"
   ]
  },
  {
   "cell_type": "code",
   "execution_count": null,
   "metadata": {
    "collapsed": false
   },
   "outputs": [],
   "source": [
    "// Параллельно применим функцию ко всем файлам\n",
    "var files = new File(\"./train\").listFiles.par.map(\n",
    "            x => (Map(\"dog\" -> 1, \"cat\" -> 0)(x.toString.slice(8,11)), \n",
    "                      process(x.toString)))"
   ]
  },
  {
   "cell_type": "code",
   "execution_count": null,
   "metadata": {
    "collapsed": false
   },
   "outputs": [],
   "source": [
    "// Средняя высота\n",
    "files.map(x => x._2(1)).reduceLeft(_ + _) / files.length"
   ]
  },
  {
   "cell_type": "code",
   "execution_count": null,
   "metadata": {
    "collapsed": false
   },
   "outputs": [],
   "source": [
    "// Средняя ширина\n",
    "files.map(x => x._2(0)).reduceLeft(_ + _) / files.length"
   ]
  },
  {
   "cell_type": "code",
   "execution_count": null,
   "metadata": {
    "collapsed": false
   },
   "outputs": [],
   "source": [
    "// Посмотрим на сами файлы\n",
    "var process = (fname: String) => List(Image.fromFile(new File(fname)).resizeTo(72,80).rgb)"
   ]
  },
  {
   "cell_type": "code",
   "execution_count": null,
   "metadata": {
    "collapsed": false
   },
   "outputs": [],
   "source": [
    "process(\"./train/cat.7040.jpg\")(0).length"
   ]
  },
  {
   "cell_type": "code",
   "execution_count": null,
   "metadata": {
    "collapsed": false
   },
   "outputs": [],
   "source": [
    "// Параллельно применим функцию ко всем файлам\n",
    "var files = new File(\"./train\").listFiles.par.map(\n",
    "            x => (Map(\"dog\" -> 1, \"cat\" -> 0)(x.toString.slice(8,11)), \n",
    "                      process(x.toString)))"
   ]
  },
  {
   "cell_type": "code",
   "execution_count": null,
   "metadata": {
    "collapsed": false
   },
   "outputs": [],
   "source": [
    "files(0)._2(0).length"
   ]
  },
  {
   "cell_type": "code",
   "execution_count": null,
   "metadata": {
    "collapsed": true
   },
   "outputs": [],
   "source": []
  }
 ],
 "metadata": {
  "kernelspec": {
   "display_name": "Scala",
   "language": "scala",
   "name": "scala"
  },
  "language_info": {
   "codemirror_mode": "text/x-scala",
   "file_extension": ".scala",
   "mimetype": "text/x-scala",
   "name": "scala211",
   "nbconvert_exporter": "script",
   "pygments_lexer": "scala",
   "version": "2.11.11"
  }
 },
 "nbformat": 4,
 "nbformat_minor": 2
}
