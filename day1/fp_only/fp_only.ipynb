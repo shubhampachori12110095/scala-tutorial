{
 "cells": [
  {
   "cell_type": "markdown",
   "metadata": {},
   "source": [
    "# Посмотрим на дикого зверя\n",
    "\n",
    "Посмотрим, что нам даёт scala в качестве типов данных"
   ]
  },
  {
   "cell_type": "markdown",
   "metadata": {},
   "source": [
    "Переменная - это ```var```<br>\n",
    "Константа - это ```val```"
   ]
  },
  {
   "cell_type": "code",
   "execution_count": 1,
   "metadata": {
    "collapsed": false
   },
   "outputs": [
    {
     "name": "stdout",
     "output_type": "stream",
     "text": [
      "6\n"
     ]
    },
    {
     "data": {
      "text/plain": [
       "\u001b[36mk\u001b[39m: \u001b[32mInt\u001b[39m = \u001b[32m6\u001b[39m"
      ]
     },
     "execution_count": 1,
     "metadata": {},
     "output_type": "execute_result"
    }
   ],
   "source": [
    "var k: Int = 5\n",
    "k += 1\n",
    "println(k)"
   ]
  },
  {
   "cell_type": "code",
   "execution_count": 2,
   "metadata": {
    "collapsed": false
   },
   "outputs": [
    {
     "data": {
      "text/plain": [
       "\u001b[36mk\u001b[39m: \u001b[32mInt\u001b[39m = \u001b[32m5\u001b[39m"
      ]
     },
     "execution_count": 2,
     "metadata": {},
     "output_type": "execute_result"
    }
   ],
   "source": [
    "val k: Int = 5"
   ]
  },
  {
   "cell_type": "code",
   "execution_count": 2,
   "metadata": {
    "collapsed": true
   },
   "outputs": [],
   "source": [
    "// Попробуйте\n",
    "// k += 1"
   ]
  },
  {
   "cell_type": "markdown",
   "metadata": {},
   "source": [
    "Мы можем как указывать тип того, что мы хотим положить в val или var, а можем и не указывать."
   ]
  },
  {
   "cell_type": "code",
   "execution_count": 4,
   "metadata": {
    "collapsed": false
   },
   "outputs": [
    {
     "data": {
      "text/plain": [
       "\u001b[36mx\u001b[39m: \u001b[32mLong\u001b[39m = \u001b[32m100000000L\u001b[39m\n",
       "\u001b[36my\u001b[39m: \u001b[32mDouble\u001b[39m = \u001b[32m123.456\u001b[39m\n",
       "\u001b[36mmessage\u001b[39m: \u001b[32mString\u001b[39m = \u001b[32m\"Привет\"\u001b[39m\n",
       "\u001b[36misScala\u001b[39m: \u001b[32mBoolean\u001b[39m = \u001b[32mtrue\u001b[39m"
      ]
     },
     "execution_count": 4,
     "metadata": {},
     "output_type": "execute_result"
    }
   ],
   "source": [
    "val x: Long = 100000000\n",
    "val y: Double = 123.456\n",
    "val message: String = \"Привет\"\n",
    "val isScala: Boolean = true"
   ]
  },
  {
   "cell_type": "code",
   "execution_count": 4,
   "metadata": {
    "collapsed": false
   },
   "outputs": [],
   "source": [
    "// x += 1\n",
    "// y += 1\n",
    "// message += \".\"\n",
    "// isScala = false"
   ]
  },
  {
   "cell_type": "code",
   "execution_count": 5,
   "metadata": {
    "collapsed": false
   },
   "outputs": [
    {
     "data": {
      "text/plain": [
       "\u001b[36mx\u001b[39m: \u001b[32mLong\u001b[39m = \u001b[32m100000000L\u001b[39m\n",
       "\u001b[36my\u001b[39m: \u001b[32mDouble\u001b[39m = \u001b[32m123.456\u001b[39m\n",
       "\u001b[36mmessage\u001b[39m: \u001b[32mString\u001b[39m = \u001b[32m\"Пока\"\u001b[39m\n",
       "\u001b[36misScala\u001b[39m: \u001b[32mBoolean\u001b[39m = \u001b[32mtrue\u001b[39m"
      ]
     },
     "execution_count": 5,
     "metadata": {},
     "output_type": "execute_result"
    }
   ],
   "source": [
    "var x: Long = 100000000\n",
    "var y: Double = 123.456\n",
    "var message: String = \"Пока\"\n",
    "var isScala: Boolean = true"
   ]
  },
  {
   "cell_type": "code",
   "execution_count": 6,
   "metadata": {
    "collapsed": true
   },
   "outputs": [],
   "source": [
    "x += 1\n",
    "y += 1\n",
    "message += \".\"\n",
    "isScala = false"
   ]
  },
  {
   "cell_type": "markdown",
   "metadata": {},
   "source": [
    "## Строки"
   ]
  },
  {
   "cell_type": "code",
   "execution_count": 7,
   "metadata": {
    "collapsed": false
   },
   "outputs": [
    {
     "data": {
      "text/plain": [
       "\u001b[36ms\u001b[39m: \u001b[32mString\u001b[39m = \u001b[32m\"Одна строчка\"\u001b[39m\n",
       "\u001b[36mraw_s\u001b[39m: \u001b[32mString\u001b[39m = \u001b[32m\"\"\"\n",
       "Много строк с \"ковычками\"\n",
       "            и теееекстом\n",
       "\"\"\"\u001b[39m"
      ]
     },
     "execution_count": 7,
     "metadata": {},
     "output_type": "execute_result"
    }
   ],
   "source": [
    "// прямо как в Python\n",
    "val s = \"Одна строчка\"\n",
    "val raw_s = \"\"\"Много строк с \"ковычками\"\n",
    "            и теееекстом\"\"\""
   ]
  },
  {
   "cell_type": "code",
   "execution_count": 64,
   "metadata": {
    "collapsed": false
   },
   "outputs": [
    {
     "data": {
      "text/plain": [
       "\u001b[36mraw_s_regex\u001b[39m: \u001b[32mutil\u001b[39m.\u001b[32mmatching\u001b[39m.\u001b[32mRegex\u001b[39m = \\s+"
      ]
     },
     "execution_count": 64,
     "metadata": {},
     "output_type": "execute_result"
    }
   ],
   "source": [
    "// RegeXP\n",
    "val raw_s_regex = \"\"\"\\s+\"\"\".r"
   ]
  },
  {
   "cell_type": "code",
   "execution_count": 9,
   "metadata": {
    "collapsed": false
   },
   "outputs": [
    {
     "data": {
      "text/plain": [
       "\u001b[36minterpol\u001b[39m: \u001b[32mString\u001b[39m = \u001b[32m\"S=Одна строчка\"\u001b[39m\n",
       "\u001b[36mi\u001b[39m: \u001b[32mDouble\u001b[39m = \u001b[32m10.1234\u001b[39m\n",
       "\u001b[36mprice\u001b[39m: \u001b[32mString\u001b[39m = \u001b[32m\"$10.1234 dollars\"\u001b[39m"
      ]
     },
     "execution_count": 9,
     "metadata": {},
     "output_type": "execute_result"
    }
   ],
   "source": [
    "val interpol = s\"S=$s\" // Заменет $s\n",
    "val i = 10.1234\n",
    "val price = s\"$$$i dollars\" // Забьёт на множество даларов"
   ]
  },
  {
   "cell_type": "code",
   "execution_count": 11,
   "metadata": {
    "collapsed": false
   },
   "outputs": [
    {
     "data": {
      "text/plain": [
       "\u001b[36mf_price\u001b[39m: \u001b[32mString\u001b[39m = \u001b[32m\"10.12 dollars\"\u001b[39m"
      ]
     },
     "execution_count": 11,
     "metadata": {},
     "output_type": "execute_result"
    }
   ],
   "source": [
    "// Питонячая приблуда\n",
    "val f_price = f\"${i}%.2f dollars\""
   ]
  },
  {
   "cell_type": "markdown",
   "metadata": {},
   "source": [
    "Картежи"
   ]
  },
  {
   "cell_type": "code",
   "execution_count": 12,
   "metadata": {
    "collapsed": false
   },
   "outputs": [
    {
     "data": {
      "text/plain": [
       "\u001b[36mx\u001b[39m: \u001b[32mInt\u001b[39m = \u001b[32m1\u001b[39m\n",
       "\u001b[36my\u001b[39m: \u001b[32mInt\u001b[39m = \u001b[32m2\u001b[39m\n",
       "\u001b[36mtpl\u001b[39m: (\u001b[32mInt\u001b[39m, \u001b[32mInt\u001b[39m) = (\u001b[32m1\u001b[39m, \u001b[32m2\u001b[39m)"
      ]
     },
     "execution_count": 12,
     "metadata": {},
     "output_type": "execute_result"
    }
   ],
   "source": [
    "val (x,y) = (1,2)\n",
    "val tpl = (1,2)"
   ]
  },
  {
   "cell_type": "markdown",
   "metadata": {},
   "source": [
    "Их основная проблема заключается в том, что они начинаются с 1. WAT???"
   ]
  },
  {
   "cell_type": "code",
   "execution_count": 13,
   "metadata": {
    "collapsed": false
   },
   "outputs": [
    {
     "name": "stdout",
     "output_type": "stream",
     "text": [
      "1\n",
      "2\n"
     ]
    }
   ],
   "source": [
    "println(tpl._1)\n",
    "println(tpl._2) "
   ]
  },
  {
   "cell_type": "markdown",
   "metadata": {},
   "source": [
    "Давайте пробежимся по стандартным вещам (массивы, списки, множества, словари). Свойства хранения данных scala таковы, что когда вы делаете операцию над объектом, то вам возращается копия этого объекта."
   ]
  },
  {
   "cell_type": "code",
   "execution_count": 14,
   "metadata": {
    "collapsed": false
   },
   "outputs": [
    {
     "data": {
      "text/plain": [
       "\u001b[36mrandomArray\u001b[39m: \u001b[32mArray\u001b[39m[\u001b[32mString\u001b[39m] = \u001b[33mArray\u001b[39m(\u001b[32m\"Андрей\"\u001b[39m, \u001b[32m\"Творог\"\u001b[39m, \u001b[32m\"Жизнь\"\u001b[39m)\n",
       "\u001b[36mrandomList\u001b[39m: \u001b[32mList\u001b[39m[\u001b[32mString\u001b[39m] = \u001b[33mList\u001b[39m(\u001b[32m\"Python\"\u001b[39m, \u001b[32m\"Мера\"\u001b[39m, \u001b[32m\"Тонна\"\u001b[39m)\n",
       "\u001b[36mrandomSet\u001b[39m: \u001b[32mSet\u001b[39m[\u001b[32mString\u001b[39m] = \u001b[33mSet\u001b[39m(\u001b[32m\"Гавана\"\u001b[39m, \u001b[32m\"Классный\"\u001b[39m, \u001b[32m\"Кокаин\"\u001b[39m, \u001b[32m\"Смерть\"\u001b[39m)"
      ]
     },
     "execution_count": 14,
     "metadata": {},
     "output_type": "execute_result"
    }
   ],
   "source": [
    "val randomArray = Array(\"Андрей\", \"Творог\", \"Жизнь\")   \n",
    "val randomList = List(\"Python\", \"Мера\", \"Тонна\")\n",
    "val randomSet = Set(\"Гавана\", \"Классный\", \"Кокаин\", \"Смерть\")      "
   ]
  },
  {
   "cell_type": "markdown",
   "metadata": {},
   "source": [
    "Так же вы можете задавать словари вот таким синтаксисом:"
   ]
  },
  {
   "cell_type": "code",
   "execution_count": 15,
   "metadata": {
    "collapsed": false
   },
   "outputs": [
    {
     "data": {
      "text/plain": [
       "\u001b[36mrandomMap\u001b[39m: \u001b[32mMap\u001b[39m[\u001b[32mString\u001b[39m, \u001b[32mString\u001b[39m] = \u001b[33mMap\u001b[39m(\u001b[32m\"Я\"\u001b[39m -> \u001b[32m\"крутой\"\u001b[39m, \u001b[32m\"Собака\"\u001b[39m -> \u001b[32m\"кошка\"\u001b[39m, \u001b[32m\"Граф\"\u001b[39m -> \u001b[32m\"Петр 1\"\u001b[39m)"
      ]
     },
     "execution_count": 15,
     "metadata": {},
     "output_type": "execute_result"
    }
   ],
   "source": [
    "val randomMap = Map(\"Я\" -> \"крутой\", \"Собака\" -> \"кошка\", \"Граф\" -> \"Петр 1\")"
   ]
  },
  {
   "cell_type": "markdown",
   "metadata": {},
   "source": [
    "Как заметно выше ^ квадратные скобки задействованны для описания типа данных. А как же обратиться к элементу?"
   ]
  },
  {
   "cell_type": "code",
   "execution_count": 16,
   "metadata": {
    "collapsed": false
   },
   "outputs": [
    {
     "name": "stdout",
     "output_type": "stream",
     "text": [
      "Второй элемент списка Творог\n",
      "Я самый крутой\n"
     ]
    },
    {
     "data": {
      "text/plain": [
       "\u001b[36mkey\u001b[39m: \u001b[32mString\u001b[39m = \u001b[32m\"Я\"\u001b[39m"
      ]
     },
     "execution_count": 16,
     "metadata": {},
     "output_type": "execute_result"
    }
   ],
   "source": [
    "println(\"Второй элемент списка \" + randomArray(1))\n",
    "\n",
    "var key = \"Я\"\n",
    "println(key + \" самый \" + randomMap(key))"
   ]
  },
  {
   "cell_type": "markdown",
   "metadata": {},
   "source": [
    "Для того, чтобы посмотреть есть ли элемент в множестве, можно просто обратиться к нему!"
   ]
  },
  {
   "cell_type": "code",
   "execution_count": 17,
   "metadata": {
    "collapsed": false
   },
   "outputs": [
    {
     "data": {
      "text/plain": [
       "\u001b[36mres16\u001b[39m: \u001b[32mBoolean\u001b[39m = \u001b[32mtrue\u001b[39m"
      ]
     },
     "execution_count": 17,
     "metadata": {},
     "output_type": "execute_result"
    }
   ],
   "source": [
    "randomSet(\"Классный\")"
   ]
  },
  {
   "cell_type": "code",
   "execution_count": 18,
   "metadata": {
    "collapsed": false
   },
   "outputs": [
    {
     "data": {
      "text/plain": [
       "\u001b[36mres17\u001b[39m: \u001b[32mBoolean\u001b[39m = \u001b[32mfalse\u001b[39m"
      ]
     },
     "execution_count": 18,
     "metadata": {},
     "output_type": "execute_result"
    }
   ],
   "source": [
    "randomSet(\"Не очень\")"
   ]
  },
  {
   "cell_type": "markdown",
   "metadata": {},
   "source": [
    "Все элементы списка можно менять, потому что они ```var```"
   ]
  },
  {
   "cell_type": "code",
   "execution_count": 19,
   "metadata": {
    "collapsed": true
   },
   "outputs": [],
   "source": [
    "randomArray(0) = randomArray(1)"
   ]
  },
  {
   "cell_type": "code",
   "execution_count": 20,
   "metadata": {
    "collapsed": false
   },
   "outputs": [
    {
     "data": {
      "text/plain": [
       "\u001b[36mres19\u001b[39m: \u001b[32mArray\u001b[39m[\u001b[32mString\u001b[39m] = \u001b[33mArray\u001b[39m(\u001b[32m\"Творог\"\u001b[39m, \u001b[32m\"Творог\"\u001b[39m, \u001b[32m\"Жизнь\"\u001b[39m)"
      ]
     },
     "execution_count": 20,
     "metadata": {},
     "output_type": "execute_result"
    }
   ],
   "source": [
    "randomArray"
   ]
  },
  {
   "cell_type": "markdown",
   "metadata": {},
   "source": [
    "Для таких операций, как append, prepend и concatenate существуют операторы:"
   ]
  },
  {
   "cell_type": "code",
   "execution_count": 21,
   "metadata": {
    "collapsed": false
   },
   "outputs": [
    {
     "data": {
      "text/plain": [
       "\u001b[36mres20\u001b[39m: \u001b[32mList\u001b[39m[\u001b[32mString\u001b[39m] = \u001b[33mList\u001b[39m(\u001b[32m\"Python\"\u001b[39m, \u001b[32m\"Мера\"\u001b[39m, \u001b[32m\"Тонна\"\u001b[39m, \u001b[32m\"Андрей\"\u001b[39m)"
      ]
     },
     "execution_count": 21,
     "metadata": {},
     "output_type": "execute_result"
    }
   ],
   "source": [
    "randomList :+ \"Андрей\""
   ]
  },
  {
   "cell_type": "code",
   "execution_count": 22,
   "metadata": {
    "collapsed": false
   },
   "outputs": [
    {
     "data": {
      "text/plain": [
       "\u001b[36mres21\u001b[39m: \u001b[32mList\u001b[39m[\u001b[32mString\u001b[39m] = \u001b[33mList\u001b[39m(\u001b[32m\"Андрей\"\u001b[39m, \u001b[32m\"Python\"\u001b[39m, \u001b[32m\"Мера\"\u001b[39m, \u001b[32m\"Тонна\"\u001b[39m)"
      ]
     },
     "execution_count": 22,
     "metadata": {},
     "output_type": "execute_result"
    }
   ],
   "source": [
    "\"Андрей\" :: randomList"
   ]
  },
  {
   "cell_type": "code",
   "execution_count": 23,
   "metadata": {
    "collapsed": false
   },
   "outputs": [
    {
     "data": {
      "text/plain": [
       "\u001b[36mres22\u001b[39m: \u001b[32mList\u001b[39m[\u001b[32mString\u001b[39m] = \u001b[33mList\u001b[39m(\u001b[32m\"Python\"\u001b[39m, \u001b[32m\"Мера\"\u001b[39m, \u001b[32m\"Тонна\"\u001b[39m, \u001b[32m\"LOL\"\u001b[39m, \u001b[32m\"KEK\"\u001b[39m, \u001b[32m\"CHEBUREK\"\u001b[39m)"
      ]
     },
     "execution_count": 23,
     "metadata": {},
     "output_type": "execute_result"
    }
   ],
   "source": [
    "randomList ++ List(\"LOL\", \"KEK\", \"CHEBUREK\")"
   ]
  },
  {
   "cell_type": "markdown",
   "metadata": {},
   "source": [
    "# FOR"
   ]
  },
  {
   "cell_type": "code",
   "execution_count": 24,
   "metadata": {
    "collapsed": false
   },
   "outputs": [
    {
     "name": "stdout",
     "output_type": "stream",
     "text": [
      "Python\n",
      "Мера\n",
      "Тонна\n"
     ]
    }
   ],
   "source": [
    "for (i <- randomList) {\n",
    "    println(i)\n",
    "}"
   ]
  },
  {
   "cell_type": "markdown",
   "metadata": {},
   "source": [
    "На замен питовскому range тут есть ```to``` и ```until```!"
   ]
  },
  {
   "cell_type": "code",
   "execution_count": 25,
   "metadata": {
    "collapsed": false
   },
   "outputs": [
    {
     "name": "stdout",
     "output_type": "stream",
     "text": [
      "1\n",
      "2\n",
      "3\n",
      "4\n",
      "5\n"
     ]
    }
   ],
   "source": [
    "for (i <- 1 to k) {\n",
    "    println(i)\n",
    "}"
   ]
  },
  {
   "cell_type": "code",
   "execution_count": 26,
   "metadata": {
    "collapsed": false
   },
   "outputs": [
    {
     "name": "stdout",
     "output_type": "stream",
     "text": [
      "1\n",
      "2\n",
      "3\n",
      "4\n"
     ]
    }
   ],
   "source": [
    "for (i <- 1 until k) {\n",
    "    println(i)\n",
    "}"
   ]
  },
  {
   "cell_type": "markdown",
   "metadata": {},
   "source": [
    "# Функциональщина"
   ]
  },
  {
   "cell_type": "code",
   "execution_count": 27,
   "metadata": {
    "collapsed": false
   },
   "outputs": [
    {
     "data": {
      "text/plain": [
       "defined \u001b[32mfunction\u001b[39m \u001b[36mf\u001b[39m"
      ]
     },
     "execution_count": 27,
     "metadata": {},
     "output_type": "execute_result"
    }
   ],
   "source": [
    "// Напишем функцию, которая может печатать\n",
    "def f(ints :Int*){\n",
    "    for (i <- ints) {print(s\"-$i-\")}\n",
    "}"
   ]
  },
  {
   "cell_type": "code",
   "execution_count": 28,
   "metadata": {
    "collapsed": false
   },
   "outputs": [
    {
     "name": "stdout",
     "output_type": "stream",
     "text": [
      "-1--2--3--4-"
     ]
    }
   ],
   "source": [
    "// Воспользуемся\n",
    "f(1,2,3,4)"
   ]
  },
  {
   "cell_type": "code",
   "execution_count": 29,
   "metadata": {
    "collapsed": false
   },
   "outputs": [
    {
     "name": "stdout",
     "output_type": "stream",
     "text": [
      "-1--2--3--4-"
     ]
    }
   ],
   "source": [
    "// Как f(*array) в питоне. Разворачивает лист и передаёт содержимое\n",
    "f(Array(1,2,3,4):_*)"
   ]
  },
  {
   "cell_type": "code",
   "execution_count": 30,
   "metadata": {
    "collapsed": false
   },
   "outputs": [
    {
     "name": "stdout",
     "output_type": "stream",
     "text": [
      "5"
     ]
    },
    {
     "data": {
      "text/plain": [
       "defined \u001b[32mfunction\u001b[39m \u001b[36mf\u001b[39m"
      ]
     },
     "execution_count": 30,
     "metadata": {},
     "output_type": "execute_result"
    }
   ],
   "source": [
    "// Стандартные значения на месте\n",
    "def f(x: Int = 5) = print(x)\n",
    "f()"
   ]
  },
  {
   "cell_type": "code",
   "execution_count": 31,
   "metadata": {
    "collapsed": false
   },
   "outputs": [
    {
     "name": "stdout",
     "output_type": "stream",
     "text": [
      "(x,y)"
     ]
    },
    {
     "data": {
      "text/plain": [
       "defined \u001b[32mfunction\u001b[39m \u001b[36mf\u001b[39m"
      ]
     },
     "execution_count": 31,
     "metadata": {},
     "output_type": "execute_result"
    }
   ],
   "source": [
    "// Передовать параметры по имени - на месте\n",
    "def f (x:String,y:String) = print(x,y)\n",
    "f(y=\"y\", x=\"x\")"
   ]
  },
  {
   "cell_type": "code",
   "execution_count": 32,
   "metadata": {
    "collapsed": false
   },
   "outputs": [
    {
     "name": "stdout",
     "output_type": "stream",
     "text": [
      "явный x есть ещё и неявный y\n",
      "явный x есть ещё и явный y\n"
     ]
    },
    {
     "data": {
      "text/plain": [
       "defined \u001b[32mfunction\u001b[39m \u001b[36mf\u001b[39m\n",
       "\u001b[36my\u001b[39m: \u001b[32mString\u001b[39m = \u001b[32m\"неявный y\"\u001b[39m"
      ]
     },
     "execution_count": 32,
     "metadata": {},
     "output_type": "execute_result"
    }
   ],
   "source": [
    "// Неявная передача параметра, что-то новое для питонистов\n",
    "def f(x: String)(implicit y:String) = println (s\"$x есть ещё и $y\")\n",
    "\n",
    "implicit var y = \"неявный y\"\n",
    "\n",
    "f(\"явный x\")\n",
    "f(\"явный x\")(\"явный y\")"
   ]
  },
  {
   "cell_type": "code",
   "execution_count": 57,
   "metadata": {
    "collapsed": false
   },
   "outputs": [
    {
     "data": {
      "text/plain": [
       "defined \u001b[32mfunction\u001b[39m \u001b[36mstrToInt\u001b[39m"
      ]
     },
     "execution_count": 57,
     "metadata": {},
     "output_type": "execute_result"
    }
   ],
   "source": [
    "// Неявные функции позволяют преобразовывать из типа в тип\n",
    "implicit def strToInt(x: String) = x.toInt"
   ]
  },
  {
   "cell_type": "code",
   "execution_count": 58,
   "metadata": {
    "collapsed": false
   },
   "outputs": [
    {
     "data": {
      "text/plain": [
       "\u001b[36my\u001b[39m: \u001b[32mInt\u001b[39m = \u001b[32m123\u001b[39m"
      ]
     },
     "execution_count": 58,
     "metadata": {},
     "output_type": "execute_result"
    }
   ],
   "source": [
    "val y: Int = \"123\""
   ]
  },
  {
   "cell_type": "code",
   "execution_count": 59,
   "metadata": {
    "collapsed": false
   },
   "outputs": [
    {
     "data": {
      "text/plain": [
       "\u001b[36mres58\u001b[39m: \u001b[32mInt\u001b[39m = \u001b[32m123\u001b[39m"
      ]
     },
     "execution_count": 59,
     "metadata": {},
     "output_type": "execute_result"
    }
   ],
   "source": [
    "math.max(\"123\", 111)"
   ]
  },
  {
   "cell_type": "markdown",
   "metadata": {},
   "source": [
    "## Задаём тип параметром"
   ]
  },
  {
   "cell_type": "code",
   "execution_count": 33,
   "metadata": {
    "collapsed": false
   },
   "outputs": [
    {
     "name": "stdout",
     "output_type": "stream",
     "text": [
      "перменная 1 типа  class java.lang.Integer\n",
      "перменная String типа  class java.lang.String\n",
      "перменная String типа  class java.lang.String\n"
     ]
    },
    {
     "data": {
      "text/plain": [
       "defined \u001b[32mfunction\u001b[39m \u001b[36mf\u001b[39m"
      ]
     },
     "execution_count": 33,
     "metadata": {},
     "output_type": "execute_result"
    }
   ],
   "source": [
    "def f[T](t:T) = println(s\"перменная $t типа  ${t.getClass}\")\n",
    "\n",
    "f(1)\n",
    "f(\"String\")\n",
    "f[String](\"String\") // Зададим тип руками"
   ]
  },
  {
   "cell_type": "markdown",
   "metadata": {},
   "source": [
    "## Ничего или любое?"
   ]
  },
  {
   "cell_type": "code",
   "execution_count": 46,
   "metadata": {
    "collapsed": false
   },
   "outputs": [
    {
     "data": {
      "text/plain": [
       "\u001b[36mlstInt\u001b[39m: \u001b[32mjava\u001b[39m.\u001b[32mutil\u001b[39m.\u001b[32mArrayList\u001b[39m[\u001b[32mInt\u001b[39m] = []\n",
       "\u001b[36mlstNothing1\u001b[39m: \u001b[32mjava\u001b[39m.\u001b[32mutil\u001b[39m.\u001b[32mArrayList\u001b[39m[\u001b[32mNothing\u001b[39m] = []"
      ]
     },
     "execution_count": 46,
     "metadata": {},
     "output_type": "execute_result"
    }
   ],
   "source": [
    "var lstInt = new java.util.ArrayList[Int]\n",
    "\n",
    "// ничего есть подтип всего!\n",
    "var lstNothing1 = new java.util.ArrayList"
   ]
  },
  {
   "cell_type": "markdown",
   "metadata": {},
   "source": [
    "![](https://prashanthbabu.gitbooks.io/scala_notes/content/Scala_TypeSystem_01.png)"
   ]
  },
  {
   "cell_type": "code",
   "execution_count": 34,
   "metadata": {
    "collapsed": false
   },
   "outputs": [
    {
     "ename": "",
     "evalue": "",
     "output_type": "error",
     "traceback": [
      "\u001b[31mjava.lang.IllegalStateException\u001b[39m",
      "  $sess.cmd33Wrapper$Helper.fail(\u001b[32mcmd33.sc\u001b[39m:\u001b[32m1\u001b[39m)",
      "  $sess.cmd33Wrapper$Helper.<init>(\u001b[32mcmd33.sc\u001b[39m:\u001b[32m4\u001b[39m)",
      "  $sess.cmd33Wrapper.<init>(\u001b[32mcmd33.sc\u001b[39m:\u001b[32m365\u001b[39m)",
      "  $sess.cmd33$.<init>(\u001b[32mcmd33.sc\u001b[39m:\u001b[32m201\u001b[39m)",
      "  $sess.cmd33$.<clinit>(\u001b[32mcmd33.sc\u001b[39m:\u001b[32m-1\u001b[39m)"
     ]
    }
   ],
   "source": [
    "def fail() : Nothing = throw new IllegalStateException()\n",
    "\n",
    "// Пустоту мы можем присвоить чему угодно!\n",
    "var x: Int = fail()\n",
    "var y: Double = fail()"
   ]
  },
  {
   "cell_type": "code",
   "execution_count": 35,
   "metadata": {
    "collapsed": false
   },
   "outputs": [
    {
     "data": {
      "text/plain": [
       "\u001b[36mx\u001b[39m: \u001b[32mAny\u001b[39m = 6.123"
      ]
     },
     "execution_count": 35,
     "metadata": {},
     "output_type": "execute_result"
    }
   ],
   "source": [
    "// \"scala.Any\" это супертип, который может быть действительно любым\n",
    "var x: Any = null\n",
    "x = 5\n",
    "x = 6.123"
   ]
  },
  {
   "cell_type": "markdown",
   "metadata": {},
   "source": [
    "## AnyVal\n",
    "\n",
    "1. Подтип Any\n",
    "2. Не имеет методов"
   ]
  },
  {
   "cell_type": "code",
   "execution_count": 36,
   "metadata": {
    "collapsed": false
   },
   "outputs": [
    {
     "data": {
      "text/plain": [
       "\u001b[36mx\u001b[39m: \u001b[32mAnyVal\u001b[39m = 12.3"
      ]
     },
     "execution_count": 36,
     "metadata": {},
     "output_type": "execute_result"
    }
   ],
   "source": [
    "var x: AnyVal = 3;\n",
    "x = 12.3"
   ]
  },
  {
   "cell_type": "code",
   "execution_count": 36,
   "metadata": {
    "collapsed": true
   },
   "outputs": [],
   "source": [
    "// А если задать x = 'строчка'"
   ]
  },
  {
   "cell_type": "markdown",
   "metadata": {},
   "source": [
    "## AnyRef\n",
    "1. Подтип Any\n",
    "2. Имеет некоторые из методов объекта - norfy, wait, etc."
   ]
  },
  {
   "cell_type": "code",
   "execution_count": 37,
   "metadata": {
    "collapsed": false
   },
   "outputs": [
    {
     "data": {
      "text/plain": [
       "\u001b[36mx\u001b[39m: \u001b[32mAnyRef\u001b[39m = STRING"
      ]
     },
     "execution_count": 37,
     "metadata": {},
     "output_type": "execute_result"
    }
   ],
   "source": [
    "var x: AnyRef = null; // We can assign null to it\n",
    "x = \"STRING\""
   ]
  },
  {
   "cell_type": "code",
   "execution_count": 37,
   "metadata": {
    "collapsed": true
   },
   "outputs": [],
   "source": [
    "// А если x = int?"
   ]
  },
  {
   "cell_type": "markdown",
   "metadata": {},
   "source": [
    "Знакомьтесь, UNIT"
   ]
  },
  {
   "cell_type": "code",
   "execution_count": 38,
   "metadata": {
    "collapsed": true
   },
   "outputs": [],
   "source": [
    "// Unit is like void in java\n",
    "var u : Unit = ()"
   ]
  },
  {
   "cell_type": "code",
   "execution_count": 39,
   "metadata": {
    "collapsed": true
   },
   "outputs": [],
   "source": [
    "u"
   ]
  },
  {
   "cell_type": "markdown",
   "metadata": {},
   "source": [
    "Option"
   ]
  },
  {
   "cell_type": "code",
   "execution_count": 40,
   "metadata": {
    "collapsed": false
   },
   "outputs": [
    {
     "data": {
      "text/plain": [
       "\u001b[36mopt1\u001b[39m: \u001b[32mOption\u001b[39m[\u001b[32mString\u001b[39m] = \u001b[33mSome\u001b[39m(\u001b[32m\"Something\"\u001b[39m)\n",
       "\u001b[36mopt2\u001b[39m: \u001b[32mOption\u001b[39m[\u001b[32mString\u001b[39m] = None"
      ]
     },
     "execution_count": 40,
     "metadata": {},
     "output_type": "execute_result"
    }
   ],
   "source": [
    "// Option это обёртка переменной\n",
    "val opt1 : Option[String] = Some(\"Something\")\n",
    "val opt2 : Option[String] = None"
   ]
  },
  {
   "cell_type": "code",
   "execution_count": 41,
   "metadata": {
    "collapsed": false
   },
   "outputs": [
    {
     "name": "stdout",
     "output_type": "stream",
     "text": [
      "Something\n",
      "Empty\n"
     ]
    }
   ],
   "source": [
    "println (opt1.get)\n",
    "println (opt2.getOrElse(\"Empty\"))"
   ]
  },
  {
   "cell_type": "markdown",
   "metadata": {},
   "source": [
    "Either - как Option, но может содержать код ошибки или сообщение об ошибке"
   ]
  },
  {
   "cell_type": "code",
   "execution_count": 42,
   "metadata": {
    "collapsed": false
   },
   "outputs": [
    {
     "data": {
      "text/plain": [
       "\u001b[36msuccess\u001b[39m: \u001b[32mRight\u001b[39m[\u001b[32mNothing\u001b[39m, \u001b[32mInt\u001b[39m] = \u001b[33mRight\u001b[39m(\u001b[32m3\u001b[39m)\n",
       "\u001b[36mer\u001b[39m: \u001b[32mLeft\u001b[39m[\u001b[32mString\u001b[39m, \u001b[32mNothing\u001b[39m] = \u001b[33mLeft\u001b[39m(\u001b[32m\"BAD ERROR\"\u001b[39m)"
      ]
     },
     "execution_count": 42,
     "metadata": {},
     "output_type": "execute_result"
    }
   ],
   "source": [
    "val success = Right (1 + 2)\n",
    "val er = Left(\"BAD ERROR\")"
   ]
  },
  {
   "cell_type": "code",
   "execution_count": 43,
   "metadata": {
    "collapsed": false
   },
   "outputs": [
    {
     "name": "stdout",
     "output_type": "stream",
     "text": [
      "Right(3)\n",
      "Left(BAD ERROR)\n"
     ]
    }
   ],
   "source": [
    "println(success)\n",
    "println(er)"
   ]
  },
  {
   "cell_type": "code",
   "execution_count": 44,
   "metadata": {
    "collapsed": false
   },
   "outputs": [
    {
     "data": {
      "text/plain": [
       "\u001b[36mres43\u001b[39m: \u001b[32mEither\u001b[39m.\u001b[32mLeftProjection\u001b[39m[\u001b[32mNothing\u001b[39m, \u001b[32mInt\u001b[39m] = \u001b[33mLeftProjection\u001b[39m(\u001b[33mRight\u001b[39m(\u001b[32m3\u001b[39m))"
      ]
     },
     "execution_count": 44,
     "metadata": {},
     "output_type": "execute_result"
    }
   ],
   "source": [
    "success.left"
   ]
  },
  {
   "cell_type": "code",
   "execution_count": 45,
   "metadata": {
    "collapsed": false
   },
   "outputs": [
    {
     "data": {
      "text/plain": [
       "\u001b[36mres44\u001b[39m: \u001b[32mEither\u001b[39m.\u001b[32mRightProjection\u001b[39m[\u001b[32mString\u001b[39m, \u001b[32mNothing\u001b[39m] = \u001b[33mRightProjection\u001b[39m(\u001b[33mLeft\u001b[39m(\u001b[32m\"BAD ERROR\"\u001b[39m))"
      ]
     },
     "execution_count": 45,
     "metadata": {},
     "output_type": "execute_result"
    }
   ],
   "source": [
    "er.right"
   ]
  },
  {
   "cell_type": "markdown",
   "metadata": {},
   "source": [
    "# Объединение функций\n",
    "Давайте создадим две полезные функции:"
   ]
  },
  {
   "cell_type": "code",
   "execution_count": 35,
   "metadata": {
    "collapsed": false
   },
   "outputs": [
    {
     "data": {
      "text/plain": [
       "defined \u001b[32mfunction\u001b[39m \u001b[36maddUmm\u001b[39m"
      ]
     },
     "execution_count": 35,
     "metadata": {},
     "output_type": "execute_result"
    }
   ],
   "source": [
    "def addUmm(x: String) = x + \" umm\""
   ]
  },
  {
   "cell_type": "code",
   "execution_count": 36,
   "metadata": {
    "collapsed": false
   },
   "outputs": [
    {
     "data": {
      "text/plain": [
       "defined \u001b[32mfunction\u001b[39m \u001b[36maddAhem\u001b[39m"
      ]
     },
     "execution_count": 36,
     "metadata": {},
     "output_type": "execute_result"
    }
   ],
   "source": [
    "def addAhem(x: String) = x + \" ahem\""
   ]
  },
  {
   "cell_type": "markdown",
   "metadata": {},
   "source": [
    "## compose\n",
    "compose создает новую функцию, которая является объединением других функций f(g(x))"
   ]
  },
  {
   "cell_type": "code",
   "execution_count": 37,
   "metadata": {
    "collapsed": false
   },
   "outputs": [
    {
     "data": {
      "text/plain": [
       "\u001b[36mummThenAhem\u001b[39m: \u001b[32mString\u001b[39m => \u001b[32mString\u001b[39m = <function1>"
      ]
     },
     "execution_count": 37,
     "metadata": {},
     "output_type": "execute_result"
    }
   ],
   "source": [
    "val ummThenAhem = addAhem _ compose addUmm _"
   ]
  },
  {
   "cell_type": "code",
   "execution_count": 41,
   "metadata": {
    "collapsed": false
   },
   "outputs": [
    {
     "data": {
      "text/plain": [
       "\u001b[36mres40\u001b[39m: \u001b[32mString\u001b[39m = \u001b[32m\"Well umm ahem\"\u001b[39m"
      ]
     },
     "execution_count": 41,
     "metadata": {},
     "output_type": "execute_result"
    }
   ],
   "source": [
    "ummThenAhem(\"Well\")"
   ]
  },
  {
   "cell_type": "markdown",
   "metadata": {},
   "source": [
    "## andThen\n",
    "andThen похожа на compose, но сначала вызывается первая функция, затем вторая g(f(x))"
   ]
  },
  {
   "cell_type": "code",
   "execution_count": 39,
   "metadata": {
    "collapsed": false
   },
   "outputs": [
    {
     "data": {
      "text/plain": [
       "\u001b[36mahemThenUmm\u001b[39m: \u001b[32mString\u001b[39m => \u001b[32mString\u001b[39m = <function1>"
      ]
     },
     "execution_count": 39,
     "metadata": {},
     "output_type": "execute_result"
    }
   ],
   "source": [
    "val ahemThenUmm = addAhem _ andThen addUmm _"
   ]
  },
  {
   "cell_type": "code",
   "execution_count": 40,
   "metadata": {
    "collapsed": false
   },
   "outputs": [
    {
     "data": {
      "text/plain": [
       "\u001b[36mres39\u001b[39m: \u001b[32mString\u001b[39m = \u001b[32m\"LOL ahem umm\"\u001b[39m"
      ]
     },
     "execution_count": 40,
     "metadata": {},
     "output_type": "execute_result"
    }
   ],
   "source": [
    "ahemThenUmm(\"LOL\")"
   ]
  },
  {
   "cell_type": "markdown",
   "metadata": {},
   "source": [
    "# Каррирование и Частичный вызов функций\n",
    "## case утверждения\n",
    "### Что же такое case утверждения?\n",
    "Это подкласс функций, который называется PartialFunction.\n",
    "\n",
    "### Что представляет собой совокупность множества case утверждений?\n",
    "Это множество объединений PartialFunctions вместе.\n",
    "\n",
    "# Понимание PartialFunction\n",
    "Функция работает для каждого аргумента определенного типа. Другими словами, функция объявляется как (Int) => String, принимающая любой Int и возвращающая строку.\n",
    "\n",
    "Частичная функция определена только для определенных значений определенного типа. Частичные функции (Int) => String не может принимать любой Int.\n",
    "\n",
    "isDefinedAt это метод PartialFunction, который может использоваться, чтобы определить, будет ли PartialFunction принимать данный аргумент.\n",
    "\n",
    "Заметьте PartialFunction не связана с частично вызываемыми функциями, о которых мы говорили ранее.\n",
    "\n",
    "# Понимание PartialFunction\n",
    "Смотрите также: В Effective Scala описывается [PartialFunction](http://twitter.github.io/effectivescala/index-ru.html#%D0%A4%D1%83%D0%BD%D0%BA%D1%86%D0%B8%D0%BE%D0%BD%D0%B0%D0%BB%D1%8C%D0%BD%D0%BE%D0%B5 %D0%BF%D1%80%D0%BE%D0%B3%D1%80%D0%B0%D0%BC%D0%BC%D0%B8%D1%80%D0%BE%D0%B2%D0%B0%D0%BD%D0%B8%D0%B5-%D0%A7%D0%B0%D1%81%D1%82%D0%B8%D1%87%D0%BD%D1%8B%D0%B5 %D1%84%D1%83%D0%BD%D0%BA%D1%86%D0%B8%D0%B8).\n",
    "\n"
   ]
  },
  {
   "cell_type": "code",
   "execution_count": 42,
   "metadata": {
    "collapsed": false
   },
   "outputs": [
    {
     "data": {
      "text/plain": [
       "\u001b[36mone\u001b[39m: \u001b[32mPartialFunction\u001b[39m[\u001b[32mInt\u001b[39m, \u001b[32mString\u001b[39m] = <function1>"
      ]
     },
     "execution_count": 42,
     "metadata": {},
     "output_type": "execute_result"
    }
   ],
   "source": [
    "val one: PartialFunction[Int, String] = { case 1 => \"one\" }"
   ]
  },
  {
   "cell_type": "code",
   "execution_count": 43,
   "metadata": {
    "collapsed": false
   },
   "outputs": [
    {
     "data": {
      "text/plain": [
       "\u001b[36mres42\u001b[39m: \u001b[32mBoolean\u001b[39m = \u001b[32mtrue\u001b[39m"
      ]
     },
     "execution_count": 43,
     "metadata": {},
     "output_type": "execute_result"
    }
   ],
   "source": [
    "one.isDefinedAt(1)"
   ]
  },
  {
   "cell_type": "code",
   "execution_count": 44,
   "metadata": {
    "collapsed": false
   },
   "outputs": [
    {
     "data": {
      "text/plain": [
       "\u001b[36mres43\u001b[39m: \u001b[32mBoolean\u001b[39m = \u001b[32mfalse\u001b[39m"
      ]
     },
     "execution_count": 44,
     "metadata": {},
     "output_type": "execute_result"
    }
   ],
   "source": [
    "one.isDefinedAt(2)"
   ]
  },
  {
   "cell_type": "markdown",
   "metadata": {},
   "source": [
    "Вы можете использовать частичную функцию."
   ]
  },
  {
   "cell_type": "code",
   "execution_count": 45,
   "metadata": {
    "collapsed": false
   },
   "outputs": [
    {
     "data": {
      "text/plain": [
       "\u001b[36mres44\u001b[39m: \u001b[32mString\u001b[39m = \u001b[32m\"one\"\u001b[39m"
      ]
     },
     "execution_count": 45,
     "metadata": {},
     "output_type": "execute_result"
    }
   ],
   "source": [
    "one(1)"
   ]
  },
  {
   "cell_type": "code",
   "execution_count": 47,
   "metadata": {
    "collapsed": false
   },
   "outputs": [
    {
     "data": {
      "text/plain": [
       "\u001b[36ma\u001b[39m: \u001b[32mInt\u001b[39m => \u001b[32mString\u001b[39m = <function1>"
      ]
     },
     "execution_count": 47,
     "metadata": {},
     "output_type": "execute_result"
    }
   ],
   "source": [
    "val a = one(_)"
   ]
  },
  {
   "cell_type": "code",
   "execution_count": 48,
   "metadata": {
    "collapsed": false
   },
   "outputs": [
    {
     "data": {
      "text/plain": [
       "\u001b[36mres47\u001b[39m: \u001b[32mString\u001b[39m = \u001b[32m\"one\"\u001b[39m"
      ]
     },
     "execution_count": 48,
     "metadata": {},
     "output_type": "execute_result"
    }
   ],
   "source": [
    "a(1)"
   ]
  },
  {
   "cell_type": "markdown",
   "metadata": {},
   "source": [
    "PartialFunctions может быть объединена с чем-то новым, называемым OrElse, который показывает, определен ли PartialFunction с передаваемым аргументом."
   ]
  },
  {
   "cell_type": "code",
   "execution_count": 50,
   "metadata": {
    "collapsed": false
   },
   "outputs": [
    {
     "data": {
      "text/plain": [
       "\u001b[36mtwo\u001b[39m: \u001b[32mPartialFunction\u001b[39m[\u001b[32mInt\u001b[39m, \u001b[32mString\u001b[39m] = <function1>"
      ]
     },
     "execution_count": 50,
     "metadata": {},
     "output_type": "execute_result"
    }
   ],
   "source": [
    "val two: PartialFunction[Int, String] = { case 2 => \"two\" }"
   ]
  },
  {
   "cell_type": "code",
   "execution_count": 51,
   "metadata": {
    "collapsed": false
   },
   "outputs": [
    {
     "data": {
      "text/plain": [
       "\u001b[36mthree\u001b[39m: \u001b[32mPartialFunction\u001b[39m[\u001b[32mInt\u001b[39m, \u001b[32mString\u001b[39m] = <function1>"
      ]
     },
     "execution_count": 51,
     "metadata": {},
     "output_type": "execute_result"
    }
   ],
   "source": [
    "val three: PartialFunction[Int, String] = { case 3 => \"three\" }"
   ]
  },
  {
   "cell_type": "code",
   "execution_count": 52,
   "metadata": {
    "collapsed": false
   },
   "outputs": [
    {
     "data": {
      "text/plain": [
       "\u001b[36mwildcard\u001b[39m: \u001b[32mPartialFunction\u001b[39m[\u001b[32mInt\u001b[39m, \u001b[32mString\u001b[39m] = <function1>"
      ]
     },
     "execution_count": 52,
     "metadata": {},
     "output_type": "execute_result"
    }
   ],
   "source": [
    "val wildcard: PartialFunction[Int, String] = { case _ => \"something else\" }"
   ]
  },
  {
   "cell_type": "code",
   "execution_count": 53,
   "metadata": {
    "collapsed": false
   },
   "outputs": [
    {
     "data": {
      "text/plain": [
       "\u001b[36mpartial\u001b[39m: \u001b[32mPartialFunction\u001b[39m[\u001b[32mInt\u001b[39m, \u001b[32mString\u001b[39m] = <function1>"
      ]
     },
     "execution_count": 53,
     "metadata": {},
     "output_type": "execute_result"
    }
   ],
   "source": [
    "val partial = one orElse two orElse three orElse wildcard"
   ]
  },
  {
   "cell_type": "code",
   "execution_count": 56,
   "metadata": {
    "collapsed": false
   },
   "outputs": [
    {
     "data": {
      "text/plain": [
       "\u001b[36mres55\u001b[39m: \u001b[32mString\u001b[39m = \u001b[32m\"something else\"\u001b[39m"
      ]
     },
     "execution_count": 56,
     "metadata": {},
     "output_type": "execute_result"
    }
   ],
   "source": [
    "partial(5)\n",
    "\n",
    "// partial(3)\n",
    "\n",
    "// partial(2)\n",
    "\n",
    "// partial(1)\n",
    "\n",
    "// partial(0)"
   ]
  },
  {
   "cell_type": "markdown",
   "metadata": {},
   "source": [
    "## Каррирование"
   ]
  },
  {
   "cell_type": "code",
   "execution_count": 47,
   "metadata": {
    "collapsed": false
   },
   "outputs": [
    {
     "data": {
      "text/plain": [
       "defined \u001b[32mfunction\u001b[39m \u001b[36mf\u001b[39m"
      ]
     },
     "execution_count": 47,
     "metadata": {},
     "output_type": "execute_result"
    }
   ],
   "source": [
    "def f (a : Int) (b : Int) (c: Int) = a + b + c"
   ]
  },
  {
   "cell_type": "code",
   "execution_count": 48,
   "metadata": {
    "collapsed": false
   },
   "outputs": [
    {
     "data": {
      "text/plain": [
       "\u001b[36mres47\u001b[39m: \u001b[32mInt\u001b[39m = \u001b[32m6\u001b[39m"
      ]
     },
     "execution_count": 48,
     "metadata": {},
     "output_type": "execute_result"
    }
   ],
   "source": [
    "f(1)(2)(3)"
   ]
  },
  {
   "cell_type": "markdown",
   "metadata": {},
   "source": [
    "Создадим новую функцию:"
   ]
  },
  {
   "cell_type": "code",
   "execution_count": 49,
   "metadata": {
    "collapsed": false
   },
   "outputs": [
    {
     "data": {
      "text/plain": [
       "\u001b[36mf12\u001b[39m: \u001b[32mInt\u001b[39m => \u001b[32mInt\u001b[39m = <function1>"
      ]
     },
     "execution_count": 49,
     "metadata": {},
     "output_type": "execute_result"
    }
   ],
   "source": [
    "val f12 = f(1)(2)_"
   ]
  },
  {
   "cell_type": "code",
   "execution_count": 50,
   "metadata": {
    "collapsed": false
   },
   "outputs": [
    {
     "data": {
      "text/plain": [
       "\u001b[36mres49_0\u001b[39m: \u001b[32mInt\u001b[39m = \u001b[32m6\u001b[39m\n",
       "\u001b[36mres49_1\u001b[39m: \u001b[32mInt\u001b[39m = \u001b[32m7\u001b[39m"
      ]
     },
     "execution_count": 50,
     "metadata": {},
     "output_type": "execute_result"
    }
   ],
   "source": [
    "f12(3)\n",
    "f12(4)"
   ]
  },
  {
   "cell_type": "code",
   "execution_count": 51,
   "metadata": {
    "collapsed": false
   },
   "outputs": [
    {
     "data": {
      "text/plain": [
       "\u001b[36mf1\u001b[39m: (\u001b[32mInt\u001b[39m, \u001b[32mInt\u001b[39m) => \u001b[32mInt\u001b[39m = <function2>"
      ]
     },
     "execution_count": 51,
     "metadata": {},
     "output_type": "execute_result"
    }
   ],
   "source": [
    "val f1 = f(1)(_:Int)(_:Int)"
   ]
  },
  {
   "cell_type": "code",
   "execution_count": 52,
   "metadata": {
    "collapsed": false
   },
   "outputs": [
    {
     "data": {
      "text/plain": [
       "\u001b[36mres51\u001b[39m: \u001b[32mInt\u001b[39m = \u001b[32m8\u001b[39m"
      ]
     },
     "execution_count": 52,
     "metadata": {},
     "output_type": "execute_result"
    }
   ],
   "source": [
    "f1(3,4)"
   ]
  },
  {
   "cell_type": "markdown",
   "metadata": {},
   "source": [
    "## Partial function application"
   ]
  },
  {
   "cell_type": "code",
   "execution_count": 53,
   "metadata": {
    "collapsed": false
   },
   "outputs": [
    {
     "data": {
      "text/plain": [
       "defined \u001b[32mfunction\u001b[39m \u001b[36mf\u001b[39m\n",
       "\u001b[36mf1\u001b[39m: \u001b[32mInt\u001b[39m => \u001b[32mInt\u001b[39m = <function1>\n",
       "\u001b[36mres52_2\u001b[39m: \u001b[32mInt\u001b[39m = \u001b[32m2\u001b[39m\n",
       "\u001b[36mres52_3\u001b[39m: \u001b[32mInt\u001b[39m = \u001b[32m3\u001b[39m"
      ]
     },
     "execution_count": 53,
     "metadata": {},
     "output_type": "execute_result"
    }
   ],
   "source": [
    "def f(x:Int, y:Int) = x + y\n",
    "\n",
    "// Define a partially applied function - use the _ for the lefover parameter\n",
    "val f1 = f(1, _ :Int)\n",
    "\n",
    "f1(1)\n",
    "f1(2)"
   ]
  },
  {
   "cell_type": "markdown",
   "metadata": {},
   "source": [
    "## Изменяемое и неизменяемое\n",
    "\n",
    "Scala имеет 3 основных типа коллекции. (List, Set, и Map). Как говорится, из коробки они не изменяемые. Но всё зависит от того, откуда они импортированны. А они могут взяться из:\n",
    "\n",
    "1. scala.collection.mutable\n",
    "2. scala.collection.immutable\n"
   ]
  },
  {
   "cell_type": "code",
   "execution_count": 54,
   "metadata": {
    "collapsed": false
   },
   "outputs": [
    {
     "data": {
      "text/plain": [
       "\u001b[36ml\u001b[39m: \u001b[32mList\u001b[39m[\u001b[32mInt\u001b[39m] = \u001b[33mList\u001b[39m(\u001b[32m1\u001b[39m, \u001b[32m2\u001b[39m, \u001b[32m3\u001b[39m)\n",
       "\u001b[36ms\u001b[39m: \u001b[32mSet\u001b[39m[\u001b[32mInt\u001b[39m] = \u001b[33mSet\u001b[39m(\u001b[32m1\u001b[39m, \u001b[32m2\u001b[39m, \u001b[32m3\u001b[39m)\n",
       "\u001b[36mm\u001b[39m: \u001b[32mMap\u001b[39m[\u001b[32mInt\u001b[39m, \u001b[32mString\u001b[39m] = \u001b[33mMap\u001b[39m(\u001b[32m1\u001b[39m -> \u001b[32m\"1\"\u001b[39m, \u001b[32m2\u001b[39m -> \u001b[32m\"2\"\u001b[39m)"
      ]
     },
     "execution_count": 54,
     "metadata": {},
     "output_type": "execute_result"
    }
   ],
   "source": [
    "val l = List(1,2,3)\n",
    "var s = Set(1,2,3)\n",
    "var m = Map(1 -> \"1\", 2 -> \"2\")"
   ]
  },
  {
   "cell_type": "markdown",
   "metadata": {},
   "source": [
    "Сатандартные действия"
   ]
  },
  {
   "cell_type": "code",
   "execution_count": 55,
   "metadata": {
    "collapsed": false
   },
   "outputs": [
    {
     "name": "stdout",
     "output_type": "stream",
     "text": [
      "Set(1, 2, 3, 4)\n",
      "Set(1)\n",
      "Set(2, 3)\n",
      "Set(2)\n",
      "List(1, 2, 1, 3, 4)\n",
      "List(1, 2, 1, 3, 4)\n",
      "1\n",
      "1\n",
      "List(1, 2, 3, 4)\n",
      "List(1, 2, 3)\n",
      "List()\n",
      "1\n",
      "List(2, 3)\n",
      "1\n",
      "1\n",
      "1\n"
     ]
    }
   ],
   "source": [
    "// Множества\n",
    "println(Set(1,2) ++ Set(1,3,4)) // Возращает Set(1, 2, 3, 4)\n",
    "println(Set(1,2) & Set(1,3,4)) // Возращает пересечение Set(1)\n",
    "println(Set(1,2).map(_ + 1)) // Вернёт Set(2,3)\n",
    "println(Set(1,2).filter(_ % 2 == 0)) // Вернёт Set(2)\n",
    "\n",
    "// Списки\n",
    "println(List(1,2) ++ List(1,3,4)) //  List(1, 2, 1, 3, 4)\n",
    "println(List(1,2) ::: List(1,3,4)) // List(1, 2, 1, 3, 4)\n",
    "\n",
    "// MAP FILTER REDUCE <- как залог машинного обучения\n",
    "println(List(1,2).apply(0)) // 1\n",
    "println(List(1,2)(0)) // 1; Тоже самое, что и apply\n",
    "println(1 :: List(2,3,4)) // Добавит в начало списка List(1, 2, 3, 4)\n",
    "println(1::2::3::Nil) // Так же можно сделать список с помощью такого синтаксиса\n",
    "println(Nil) // Nil - это пустой список\n",
    "println(List(1,2,3).head) // Вернёт первый элемент\n",
    "println(List(1,2,3).tail) // Кроме первого element List(2,3)\n",
    "\n",
    "// Словари\n",
    "println(Map(1 -> \"1\").apply(1)) // Достать с помощью apply\n",
    "println(Map(1 -> \"1\")(1)) // ^\n",
    "println(Map(1 -> \"1\").get(1).get) // сначала достанет опцию, а потом вернёт \"1\""
   ]
  },
  {
   "cell_type": "code",
   "execution_count": 1,
   "metadata": {
    "collapsed": false
   },
   "outputs": [
    {
     "data": {
      "text/plain": [
       "\u001b[36mlist\u001b[39m: \u001b[32mList\u001b[39m[\u001b[32mInt\u001b[39m] = \u001b[33mList\u001b[39m(\u001b[32m1\u001b[39m, \u001b[32m2\u001b[39m, \u001b[32m3\u001b[39m, \u001b[32m4\u001b[39m)"
      ]
     },
     "execution_count": 1,
     "metadata": {},
     "output_type": "execute_result"
    }
   ],
   "source": [
    "val list = List(1,2,3,4)"
   ]
  },
  {
   "cell_type": "markdown",
   "metadata": {},
   "source": [
    "# Функциональные комбинаторы\n",
    "\n",
    "Комбинаторы называются так потому, что они созданы, чтобы объединять результаты. Результат одной функции часто используется в качестве входных данных для другой.\n",
    "\n",
    "Наиболее распространенным способом, является использование их со стандартными структурами данных."
   ]
  },
  {
   "cell_type": "markdown",
   "metadata": {},
   "source": [
    "### map\n",
    "\n",
    "Применяет функцию к каждому элементу из списка, возвращается список с тем же числом элементов."
   ]
  },
  {
   "cell_type": "code",
   "execution_count": 2,
   "metadata": {
    "collapsed": false
   },
   "outputs": [
    {
     "data": {
      "text/plain": [
       "\u001b[36mres1\u001b[39m: \u001b[32mList\u001b[39m[\u001b[32mInt\u001b[39m] = \u001b[33mList\u001b[39m(\u001b[32m2\u001b[39m, \u001b[32m4\u001b[39m, \u001b[32m6\u001b[39m, \u001b[32m8\u001b[39m)"
      ]
     },
     "execution_count": 2,
     "metadata": {},
     "output_type": "execute_result"
    }
   ],
   "source": [
    "// так\n",
    "list.map(_ * 2)"
   ]
  },
  {
   "cell_type": "code",
   "execution_count": 3,
   "metadata": {
    "collapsed": false
   },
   "outputs": [
    {
     "data": {
      "text/plain": [
       "\u001b[36mres2\u001b[39m: \u001b[32mList\u001b[39m[\u001b[32mInt\u001b[39m] = \u001b[33mList\u001b[39m(\u001b[32m2\u001b[39m, \u001b[32m4\u001b[39m, \u001b[32m6\u001b[39m, \u001b[32m8\u001b[39m)"
      ]
     },
     "execution_count": 3,
     "metadata": {},
     "output_type": "execute_result"
    }
   ],
   "source": [
    "// или так\n",
    "list.map((i: Int) => i * 2)"
   ]
  },
  {
   "cell_type": "code",
   "execution_count": 4,
   "metadata": {
    "collapsed": false
   },
   "outputs": [
    {
     "data": {
      "text/plain": [
       "defined \u001b[32mfunction\u001b[39m \u001b[36mtimesTwo\u001b[39m"
      ]
     },
     "execution_count": 4,
     "metadata": {},
     "output_type": "execute_result"
    }
   ],
   "source": [
    "def timesTwo(i: Int): Int = i * 2"
   ]
  },
  {
   "cell_type": "code",
   "execution_count": 5,
   "metadata": {
    "collapsed": false
   },
   "outputs": [
    {
     "data": {
      "text/plain": [
       "\u001b[36mres4\u001b[39m: \u001b[32mList\u001b[39m[\u001b[32mInt\u001b[39m] = \u001b[33mList\u001b[39m(\u001b[32m2\u001b[39m, \u001b[32m4\u001b[39m, \u001b[32m6\u001b[39m, \u001b[32m8\u001b[39m)"
      ]
     },
     "execution_count": 5,
     "metadata": {},
     "output_type": "execute_result"
    }
   ],
   "source": [
    "// можно ещё так!\n",
    "list map timesTwo"
   ]
  },
  {
   "cell_type": "markdown",
   "metadata": {},
   "source": [
    "## foreach\n",
    "foreach похож на map, но ничего не возвращает. foreach используется для создания побочных эффектов."
   ]
  },
  {
   "cell_type": "code",
   "execution_count": 6,
   "metadata": {
    "collapsed": true
   },
   "outputs": [],
   "source": [
    "// так\n",
    "list.foreach(_ * 2)"
   ]
  },
  {
   "cell_type": "code",
   "execution_count": 7,
   "metadata": {
    "collapsed": false
   },
   "outputs": [
    {
     "data": {
      "text/plain": [
       "\u001b[36mres6\u001b[39m: \u001b[32mList\u001b[39m[\u001b[32mInt\u001b[39m] = \u001b[33mList\u001b[39m(\u001b[32m1\u001b[39m, \u001b[32m2\u001b[39m, \u001b[32m3\u001b[39m, \u001b[32m4\u001b[39m)"
      ]
     },
     "execution_count": 7,
     "metadata": {},
     "output_type": "execute_result"
    }
   ],
   "source": [
    "list"
   ]
  },
  {
   "cell_type": "code",
   "execution_count": 8,
   "metadata": {
    "collapsed": true
   },
   "outputs": [],
   "source": [
    "// Или так\n",
    "list.foreach((i: Int) => i * 2)"
   ]
  },
  {
   "cell_type": "code",
   "execution_count": 9,
   "metadata": {
    "collapsed": false
   },
   "outputs": [
    {
     "data": {
      "text/plain": [
       "\u001b[36mres8\u001b[39m: \u001b[32mList\u001b[39m[\u001b[32mInt\u001b[39m] = \u001b[33mList\u001b[39m(\u001b[32m1\u001b[39m, \u001b[32m2\u001b[39m, \u001b[32m3\u001b[39m, \u001b[32m4\u001b[39m)"
      ]
     },
     "execution_count": 9,
     "metadata": {},
     "output_type": "execute_result"
    }
   ],
   "source": [
    "list"
   ]
  },
  {
   "cell_type": "code",
   "execution_count": 10,
   "metadata": {
    "collapsed": false
   },
   "outputs": [],
   "source": [
    "val doubled = list.foreach((i: Int) => i * 2)"
   ]
  },
  {
   "cell_type": "code",
   "execution_count": 11,
   "metadata": {
    "collapsed": true
   },
   "outputs": [],
   "source": [
    "doubled"
   ]
  },
  {
   "cell_type": "markdown",
   "metadata": {},
   "source": [
    "## filter\n",
    "Данный комбинатор удаляет любой элемент, если функция, применяемая к этому элементу, возвращает ложь. Функции, которые возвращают Boolean, часто называются функциями-предикатами"
   ]
  },
  {
   "cell_type": "code",
   "execution_count": 12,
   "metadata": {
    "collapsed": false
   },
   "outputs": [
    {
     "data": {
      "text/plain": [
       "\u001b[36mres11\u001b[39m: \u001b[32mList\u001b[39m[\u001b[32mInt\u001b[39m] = \u001b[33mList\u001b[39m(\u001b[32m2\u001b[39m, \u001b[32m4\u001b[39m)"
      ]
     },
     "execution_count": 12,
     "metadata": {},
     "output_type": "execute_result"
    }
   ],
   "source": [
    "// так\n",
    "list.filter((i: Int) => i % 2 == 0)"
   ]
  },
  {
   "cell_type": "code",
   "execution_count": 14,
   "metadata": {
    "collapsed": false
   },
   "outputs": [
    {
     "data": {
      "text/plain": [
       "\u001b[36mres13\u001b[39m: \u001b[32mList\u001b[39m[\u001b[32mInt\u001b[39m] = \u001b[33mList\u001b[39m(\u001b[32m2\u001b[39m, \u001b[32m4\u001b[39m)"
      ]
     },
     "execution_count": 14,
     "metadata": {},
     "output_type": "execute_result"
    }
   ],
   "source": [
    "// или так\n",
    "list.filter(_ % 2 == 0)"
   ]
  },
  {
   "cell_type": "code",
   "execution_count": 16,
   "metadata": {
    "collapsed": false
   },
   "outputs": [
    {
     "data": {
      "text/plain": [
       "defined \u001b[32mfunction\u001b[39m \u001b[36mtimesTwo\u001b[39m"
      ]
     },
     "execution_count": 16,
     "metadata": {},
     "output_type": "execute_result"
    }
   ],
   "source": [
    "def timesTwo(i: Int): Boolean = i % 2 == 0"
   ]
  },
  {
   "cell_type": "code",
   "execution_count": 17,
   "metadata": {
    "collapsed": false
   },
   "outputs": [
    {
     "data": {
      "text/plain": [
       "\u001b[36mres16\u001b[39m: \u001b[32mList\u001b[39m[\u001b[32mInt\u001b[39m] = \u001b[33mList\u001b[39m(\u001b[32m2\u001b[39m, \u001b[32m4\u001b[39m)"
      ]
     },
     "execution_count": 17,
     "metadata": {},
     "output_type": "execute_result"
    }
   ],
   "source": [
    "list filter timesTwo"
   ]
  },
  {
   "cell_type": "markdown",
   "metadata": {},
   "source": [
    "## zip\n",
    "zip объединяет содержимое двух списков в один парный список."
   ]
  },
  {
   "cell_type": "code",
   "execution_count": 18,
   "metadata": {
    "collapsed": false
   },
   "outputs": [
    {
     "data": {
      "text/plain": [
       "\u001b[36mres17\u001b[39m: \u001b[32mList\u001b[39m[(\u001b[32mInt\u001b[39m, \u001b[32mString\u001b[39m)] = \u001b[33mList\u001b[39m((\u001b[32m1\u001b[39m, \u001b[32m\"a\"\u001b[39m), (\u001b[32m2\u001b[39m, \u001b[32m\"b\"\u001b[39m), (\u001b[32m3\u001b[39m, \u001b[32m\"c\"\u001b[39m))"
      ]
     },
     "execution_count": 18,
     "metadata": {},
     "output_type": "execute_result"
    }
   ],
   "source": [
    "list.zip(List(\"a\", \"b\", \"c\"))"
   ]
  },
  {
   "cell_type": "markdown",
   "metadata": {},
   "source": [
    "## partition\n",
    "partition разделяет список, в зависимости от результата, который возвращает функция-предикат."
   ]
  },
  {
   "cell_type": "code",
   "execution_count": 19,
   "metadata": {
    "collapsed": false
   },
   "outputs": [
    {
     "data": {
      "text/plain": [
       "\u001b[36mres18\u001b[39m: (\u001b[32mList\u001b[39m[\u001b[32mInt\u001b[39m], \u001b[32mList\u001b[39m[\u001b[32mInt\u001b[39m]) = (\u001b[33mList\u001b[39m(\u001b[32m2\u001b[39m, \u001b[32m4\u001b[39m), \u001b[33mList\u001b[39m(\u001b[32m1\u001b[39m, \u001b[32m3\u001b[39m))"
      ]
     },
     "execution_count": 19,
     "metadata": {},
     "output_type": "execute_result"
    }
   ],
   "source": [
    "list.partition(_ % 2 == 0)"
   ]
  },
  {
   "cell_type": "markdown",
   "metadata": {},
   "source": [
    "## find\n",
    "find возвращает первый элемент коллекции, который удовлетворяет функции-предикату."
   ]
  },
  {
   "cell_type": "code",
   "execution_count": 21,
   "metadata": {
    "collapsed": false
   },
   "outputs": [
    {
     "data": {
      "text/plain": [
       "\u001b[36mres20\u001b[39m: \u001b[32mOption\u001b[39m[\u001b[32mInt\u001b[39m] = \u001b[33mSome\u001b[39m(\u001b[32m2\u001b[39m)"
      ]
     },
     "execution_count": 21,
     "metadata": {},
     "output_type": "execute_result"
    }
   ],
   "source": [
    "list.find((i: Int) => i > 1)"
   ]
  },
  {
   "cell_type": "code",
   "execution_count": 22,
   "metadata": {
    "collapsed": false
   },
   "outputs": [
    {
     "data": {
      "text/plain": [
       "\u001b[36mres21\u001b[39m: \u001b[32mOption\u001b[39m[\u001b[32mInt\u001b[39m] = \u001b[33mSome\u001b[39m(\u001b[32m2\u001b[39m)"
      ]
     },
     "execution_count": 22,
     "metadata": {},
     "output_type": "execute_result"
    }
   ],
   "source": [
    "list.find(_ > 1)"
   ]
  },
  {
   "cell_type": "markdown",
   "metadata": {},
   "source": [
    "## drop и dropWhile\n",
    "drop удаляет первый элемент с индексом i"
   ]
  },
  {
   "cell_type": "code",
   "execution_count": 23,
   "metadata": {
    "collapsed": false
   },
   "outputs": [
    {
     "data": {
      "text/plain": [
       "\u001b[36mres22\u001b[39m: \u001b[32mList\u001b[39m[\u001b[32mInt\u001b[39m] = \u001b[33mList\u001b[39m(\u001b[32m2\u001b[39m, \u001b[32m3\u001b[39m, \u001b[32m4\u001b[39m)"
      ]
     },
     "execution_count": 23,
     "metadata": {},
     "output_type": "execute_result"
    }
   ],
   "source": [
    "list drop 1"
   ]
  },
  {
   "cell_type": "code",
   "execution_count": 24,
   "metadata": {
    "collapsed": false
   },
   "outputs": [
    {
     "data": {
      "text/plain": [
       "\u001b[36mres23\u001b[39m: \u001b[32mList\u001b[39m[\u001b[32mInt\u001b[39m] = \u001b[33mList\u001b[39m(\u001b[32m2\u001b[39m, \u001b[32m3\u001b[39m, \u001b[32m4\u001b[39m)"
      ]
     },
     "execution_count": 24,
     "metadata": {},
     "output_type": "execute_result"
    }
   ],
   "source": [
    "list.dropWhile(_ % 2 != 0)"
   ]
  },
  {
   "cell_type": "markdown",
   "metadata": {},
   "source": [
    "## foldLeft"
   ]
  },
  {
   "cell_type": "code",
   "execution_count": 25,
   "metadata": {
    "collapsed": false
   },
   "outputs": [
    {
     "data": {
      "text/plain": [
       "\u001b[36mres24\u001b[39m: \u001b[32mInt\u001b[39m = \u001b[32m10\u001b[39m"
      ]
     },
     "execution_count": 25,
     "metadata": {},
     "output_type": "execute_result"
    }
   ],
   "source": [
    "(0 /: list) (_ + _)"
   ]
  },
  {
   "cell_type": "code",
   "execution_count": 26,
   "metadata": {
    "collapsed": false
   },
   "outputs": [
    {
     "data": {
      "text/plain": [
       "\u001b[36mres25\u001b[39m: \u001b[32mInt\u001b[39m = \u001b[32m10\u001b[39m"
      ]
     },
     "execution_count": 26,
     "metadata": {},
     "output_type": "execute_result"
    }
   ],
   "source": [
    "list.foldLeft(0)((m: Int, n: Int) => m + n)"
   ]
  },
  {
   "cell_type": "markdown",
   "metadata": {},
   "source": [
    "0 – это начальное значение (Не забывайте, что мы используем числа из List[Int]), где m\n",
    "работает как аккумулятор."
   ]
  },
  {
   "cell_type": "code",
   "execution_count": 28,
   "metadata": {
    "collapsed": false
   },
   "outputs": [
    {
     "name": "stdout",
     "output_type": "stream",
     "text": [
      "m: 0 n: 1\n",
      "m: 1 n: 2\n",
      "m: 3 n: 3\n",
      "m: 6 n: 4\n"
     ]
    },
    {
     "data": {
      "text/plain": [
       "\u001b[36mres27\u001b[39m: \u001b[32mInt\u001b[39m = \u001b[32m10\u001b[39m"
      ]
     },
     "execution_count": 28,
     "metadata": {},
     "output_type": "execute_result"
    }
   ],
   "source": [
    " list.foldLeft(0) { (m: Int, n: Int) => \n",
    "                println(\"m: \" + m + \" n: \" + n); m + n }"
   ]
  },
  {
   "cell_type": "markdown",
   "metadata": {},
   "source": [
    "## foldRight\n",
    "Этот комбинатор похож на foldLeft, за исключением того, что он работает с противоположной стороны.\n",
    "\n"
   ]
  },
  {
   "cell_type": "code",
   "execution_count": 29,
   "metadata": {
    "collapsed": false
   },
   "outputs": [
    {
     "name": "stdout",
     "output_type": "stream",
     "text": [
      "m: 4 n: 0\n",
      "m: 3 n: 4\n",
      "m: 2 n: 7\n",
      "m: 1 n: 9\n"
     ]
    },
    {
     "data": {
      "text/plain": [
       "\u001b[36mres28\u001b[39m: \u001b[32mInt\u001b[39m = \u001b[32m10\u001b[39m"
      ]
     },
     "execution_count": 29,
     "metadata": {},
     "output_type": "execute_result"
    }
   ],
   "source": [
    "list.foldRight(0) { (m: Int, n: Int) => \n",
    "                        println(\"m: \" + m + \" n: \" + n); m + n }"
   ]
  },
  {
   "cell_type": "markdown",
   "metadata": {},
   "source": [
    "## flatten\n",
    "flatten сжимает вложенные структуры."
   ]
  },
  {
   "cell_type": "code",
   "execution_count": 30,
   "metadata": {
    "collapsed": false
   },
   "outputs": [
    {
     "data": {
      "text/plain": [
       "\u001b[36mres29\u001b[39m: \u001b[32mList\u001b[39m[\u001b[32mInt\u001b[39m] = \u001b[33mList\u001b[39m(\u001b[32m1\u001b[39m, \u001b[32m2\u001b[39m, \u001b[32m3\u001b[39m, \u001b[32m4\u001b[39m)"
      ]
     },
     "execution_count": 30,
     "metadata": {},
     "output_type": "execute_result"
    }
   ],
   "source": [
    "List(List(1, 2), List(3, 4)).flatten"
   ]
  },
  {
   "cell_type": "markdown",
   "metadata": {},
   "source": [
    "## flatMap\n",
    "flatMap это часто используемый комбинатор, который объединяет map и flatten. flatMap берет функцию, которая работает с вложенными списками и объединяет результаты."
   ]
  },
  {
   "cell_type": "code",
   "execution_count": 31,
   "metadata": {
    "collapsed": false
   },
   "outputs": [
    {
     "data": {
      "text/plain": [
       "\u001b[36mnestedNumbers\u001b[39m: \u001b[32mList\u001b[39m[\u001b[32mList\u001b[39m[\u001b[32mInt\u001b[39m]] = \u001b[33mList\u001b[39m(\u001b[33mList\u001b[39m(\u001b[32m1\u001b[39m, \u001b[32m2\u001b[39m), \u001b[33mList\u001b[39m(\u001b[32m3\u001b[39m, \u001b[32m4\u001b[39m))"
      ]
     },
     "execution_count": 31,
     "metadata": {},
     "output_type": "execute_result"
    }
   ],
   "source": [
    "val nestedNumbers = List(List(1, 2), List(3, 4))"
   ]
  },
  {
   "cell_type": "code",
   "execution_count": 33,
   "metadata": {
    "collapsed": false
   },
   "outputs": [
    {
     "data": {
      "text/plain": [
       "\u001b[36mres32\u001b[39m: \u001b[32mList\u001b[39m[\u001b[32mInt\u001b[39m] = \u001b[33mList\u001b[39m(\u001b[32m2\u001b[39m, \u001b[32m4\u001b[39m, \u001b[32m6\u001b[39m, \u001b[32m8\u001b[39m)"
      ]
     },
     "execution_count": 33,
     "metadata": {},
     "output_type": "execute_result"
    }
   ],
   "source": [
    "nestedNumbers.flatMap(x => x.map(_ * 2))"
   ]
  },
  {
   "cell_type": "markdown",
   "metadata": {},
   "source": [
    "Думайте об этом, как о коротком способе использования map, а затем применения flatten к результату:\n",
    "\n"
   ]
  },
  {
   "cell_type": "code",
   "execution_count": 34,
   "metadata": {
    "collapsed": false
   },
   "outputs": [
    {
     "data": {
      "text/plain": [
       "\u001b[36mres33\u001b[39m: \u001b[32mList\u001b[39m[\u001b[32mInt\u001b[39m] = \u001b[33mList\u001b[39m(\u001b[32m2\u001b[39m, \u001b[32m4\u001b[39m, \u001b[32m6\u001b[39m, \u001b[32m8\u001b[39m)"
      ]
     },
     "execution_count": 34,
     "metadata": {},
     "output_type": "execute_result"
    }
   ],
   "source": [
    "nestedNumbers.map((x: List[Int]) => x.map(_ * 2)).flatten"
   ]
  },
  {
   "cell_type": "markdown",
   "metadata": {},
   "source": [
    "## А как же Map?\n",
    "Все функциональные комбинаторы прекрасно работают и с Картами. Карты можно рассматривать как список пар, так что функции, которые вы пишете работают с парами ключей и значений Карты."
   ]
  },
  {
   "cell_type": "markdown",
   "metadata": {},
   "source": [
    "# Продолжаем хайпить"
   ]
  },
  {
   "cell_type": "markdown",
   "metadata": {},
   "source": [
    "Питонисты, возрадуйтесь! list comprehensions"
   ]
  },
  {
   "cell_type": "code",
   "execution_count": 58,
   "metadata": {
    "collapsed": false
   },
   "outputs": [
    {
     "data": {
      "text/plain": [
       "\u001b[36mres\u001b[39m: \u001b[32mList\u001b[39m[(\u001b[32mInt\u001b[39m, \u001b[32mInt\u001b[39m)] = \u001b[33mList\u001b[39m((\u001b[32m1\u001b[39m, \u001b[32m1\u001b[39m), (\u001b[32m2\u001b[39m, \u001b[32m2\u001b[39m))"
      ]
     },
     "execution_count": 58,
     "metadata": {},
     "output_type": "execute_result"
    }
   ],
   "source": [
    "val res = for(i <- List(1,2,3);\n",
    "               j <- List(i);\n",
    "               if i + j < 5\n",
    "            ) yield (i,j)"
   ]
  },
  {
   "cell_type": "markdown",
   "metadata": {},
   "source": [
    "Работа с текстами"
   ]
  },
  {
   "cell_type": "code",
   "execution_count": 59,
   "metadata": {
    "collapsed": false
   },
   "outputs": [
    {
     "data": {
      "text/plain": [
       "defined \u001b[32mfunction\u001b[39m \u001b[36mf\u001b[39m"
      ]
     },
     "execution_count": 59,
     "metadata": {},
     "output_type": "execute_result"
    }
   ],
   "source": [
    "// Строки\n",
    "def f(s:String) = \n",
    "    s match {\n",
    "        case \"Только функция\" => println(\"Это как словарь\")\n",
    "        case \"Это как словарь\" => println(\"Только функция\")\n",
    "        case _ => \"Что вообще происходит\"\n",
    "    }"
   ]
  },
  {
   "cell_type": "code",
   "execution_count": 60,
   "metadata": {
    "collapsed": false
   },
   "outputs": [
    {
     "name": "stdout",
     "output_type": "stream",
     "text": [
      "Это как словарь\n",
      "Только функция\n"
     ]
    },
    {
     "data": {
      "text/plain": [
       "\u001b[36mres59_0\u001b[39m: \u001b[32mAny\u001b[39m = ()\n",
       "\u001b[36mres59_1\u001b[39m: \u001b[32mAny\u001b[39m = ()\n",
       "\u001b[36mres59_2\u001b[39m: \u001b[32mAny\u001b[39m = Что вообще происходит"
      ]
     },
     "execution_count": 60,
     "metadata": {},
     "output_type": "execute_result"
    }
   ],
   "source": [
    "f(\"Только функция\")\n",
    "f(\"Это как словарь\")\n",
    "f(\"Обманка\")"
   ]
  },
  {
   "cell_type": "code",
   "execution_count": 61,
   "metadata": {
    "collapsed": false
   },
   "outputs": [
    {
     "data": {
      "text/plain": [
       "defined \u001b[32mfunction\u001b[39m \u001b[36mf\u001b[39m\n",
       "\u001b[36mres60_1\u001b[39m: \u001b[32mString\u001b[39m = \u001b[32m\"Вот\"\u001b[39m\n",
       "\u001b[36mres60_2\u001b[39m: \u001b[32mString\u001b[39m = \u001b[32m\"Что(2 999)\"\u001b[39m\n",
       "\u001b[36mres60_3\u001b[39m: \u001b[32mString\u001b[39m = \u001b[32m\"Происходит 5\"\u001b[39m\n",
       "\u001b[36mres60_4\u001b[39m: \u001b[32mString\u001b[39m = \u001b[32m\"Когда 1 и 2\"\u001b[39m\n",
       "\u001b[36mres60_5\u001b[39m: \u001b[32mString\u001b[39m = \u001b[32m\"Ты 5\"\u001b[39m\n",
       "\u001b[36mres60_6\u001b[39m: \u001b[32mString\u001b[39m = \u001b[32m\"Scala!\"\u001b[39m"
      ]
     },
     "execution_count": 61,
     "metadata": {},
     "output_type": "execute_result"
    }
   ],
   "source": [
    "def f(x:Any) : String = {\n",
    "    x match {\n",
    "        case (5, _) => \"Вот\"\n",
    "        case (a, b) => s\"Что($a $b)\"\n",
    "        case 5::_ => \"Происходит 5\"\n",
    "        case List(1, 2, _*) => \"Когда 1 и 2\"\n",
    "        case a : Int => s\"Ты $a\"\n",
    "        case _ => \"Scala!\"\n",
    "    }\n",
    "}\n",
    "\n",
    "f((5, 1))\n",
    "f((2, 999))\n",
    "f(List(5, 6, 7))\n",
    "f(List(1, 2, 3))\n",
    "f(5)\n",
    "f(12.3)"
   ]
  },
  {
   "cell_type": "code",
   "execution_count": 62,
   "metadata": {
    "collapsed": false
   },
   "outputs": [
    {
     "data": {
      "text/plain": [
       "defined \u001b[32mfunction\u001b[39m \u001b[36mf\u001b[39m\n",
       "\u001b[36mres61_1\u001b[39m: \u001b[32mString\u001b[39m = \u001b[32m\"+\"\u001b[39m\n",
       "\u001b[36mres61_2\u001b[39m: \u001b[32mString\u001b[39m = \u001b[32m\"-\"\u001b[39m\n",
       "\u001b[36mres61_3\u001b[39m: \u001b[32mString\u001b[39m = \u001b[32m\"ROCk\"\u001b[39m\n",
       "\u001b[36mres61_4\u001b[39m: \u001b[32mString\u001b[39m = \u001b[32m\"Kk\"\u001b[39m"
      ]
     },
     "execution_count": 62,
     "metadata": {},
     "output_type": "execute_result"
    }
   ],
   "source": [
    "def f(x : Any):String = {\n",
    "    x match {\n",
    "        case i:Int if (i >= 0) => \"+\"\n",
    "        case i:Int if (i < 0) => \"-\"\n",
    "        case s:String if(s contains \"scala\") => \"ROCk\"\n",
    "        case _ => \"Kk\"\n",
    "    }\n",
    "}\n",
    "f(1)\n",
    "f(-5)\n",
    "f(\"scala - это\")\n",
    "f(\"\")"
   ]
  },
  {
   "cell_type": "markdown",
   "metadata": {},
   "source": [
    "## Регулярки"
   ]
  },
  {
   "cell_type": "code",
   "execution_count": 65,
   "metadata": {
    "collapsed": false
   },
   "outputs": [
    {
     "name": "stdout",
     "output_type": "stream",
     "text": [
      "123 and 456\n"
     ]
    },
    {
     "data": {
      "text/plain": [
       "\u001b[36mregEx\u001b[39m: \u001b[32mutil\u001b[39m.\u001b[32mmatching\u001b[39m.\u001b[32mRegex\u001b[39m = \\d+"
      ]
     },
     "execution_count": 65,
     "metadata": {},
     "output_type": "execute_result"
    }
   ],
   "source": [
    "//Все регулярки лежат в util.matching.Regex\n",
    "\n",
    "val regEx = \"\"\"\\d+\"\"\".r\n",
    "\n",
    "println ((regEx findAllIn \"123 abcxyz 456\").mkString(\" and \"))"
   ]
  },
  {
   "cell_type": "code",
   "execution_count": 66,
   "metadata": {
    "collapsed": false
   },
   "outputs": [
    {
     "name": "stdout",
     "output_type": "stream",
     "text": [
      "group 1=123 group2= xyz  group3=456\n"
     ]
    },
    {
     "data": {
      "text/plain": [
       "\u001b[36mpattern\u001b[39m: \u001b[32mutil\u001b[39m.\u001b[32mmatching\u001b[39m.\u001b[32mRegex\u001b[39m = (\\d+)(\\D*)(\\d+)"
      ]
     },
     "execution_count": 66,
     "metadata": {},
     "output_type": "execute_result"
    }
   ],
   "source": [
    "val pattern = \"\"\"(\\d+)(\\D*)(\\d+)\"\"\".r\n",
    "\n",
    "\"123 xyz 456\" match{\n",
    "    case pattern(x, y, z) => println(s\"group 1=$x group2=$y group3=$z\")\n",
    "    case _ => println(\"Не совпадают\")\n",
    "}"
   ]
  },
  {
   "cell_type": "markdown",
   "metadata": {},
   "source": [
    "## Ловим ошибки"
   ]
  },
  {
   "cell_type": "code",
   "execution_count": 67,
   "metadata": {
    "collapsed": false
   },
   "outputs": [
    {
     "name": "stdout",
     "output_type": "stream",
     "text": [
      "ERROR\n",
      "Прямо как в Java!\n"
     ]
    }
   ],
   "source": [
    "try {\n",
    "    throw new IllegalArgumentException(\"ERROR\")\n",
    "} catch {\n",
    "    // Для того, чтобы поймать конкретную ошибку - нужно использовать case\n",
    "    case e: NumberFormatException => println(e.getMessage)\n",
    "    case e: IllegalArgumentException => println(e.getMessage)\n",
    "    case _: Throwable => println(\"Random Error\")\n",
    "} finally {\n",
    "    println(\"Прямо как в Java!\")\n",
    "}"
   ]
  },
  {
   "cell_type": "markdown",
   "metadata": {},
   "source": [
    "## Ленивые вычесления"
   ]
  },
  {
   "cell_type": "code",
   "execution_count": 68,
   "metadata": {
    "collapsed": false
   },
   "outputs": [
    {
     "name": "stdout",
     "output_type": "stream",
     "text": [
      "Не выполнит f при присвоении\n",
      "Выполняю ...\n"
     ]
    },
    {
     "data": {
      "text/plain": [
       "defined \u001b[32mfunction\u001b[39m \u001b[36mf\u001b[39m\n",
       "\u001b[36mlazyX\u001b[39m: \u001b[32mInt\u001b[39m = \u001b[32m<lazy>\u001b[39m\n",
       "\u001b[36mx\u001b[39m: \u001b[32mInt\u001b[39m = \u001b[32m10\u001b[39m"
      ]
     },
     "execution_count": 68,
     "metadata": {},
     "output_type": "execute_result"
    }
   ],
   "source": [
    "def f():Int = {\n",
    "    println(\"Выполняю ...\")\n",
    "    return 5\n",
    "}\n",
    "\n",
    "lazy val lazyX = f\n",
    "println(\"Не выполнит f при присвоении\")\n",
    "\n",
    "// А вот теперь самое время её выполнить\n",
    "val x = lazyX + 5"
   ]
  },
  {
   "cell_type": "code",
   "execution_count": 69,
   "metadata": {
    "collapsed": false
   },
   "outputs": [
    {
     "name": "stdout",
     "output_type": "stream",
     "text": [
      "======== Актив =========\n",
      "1\n",
      "2\n",
      "3\n",
      "======== Пассив =========\n",
      "1\n"
     ]
    },
    {
     "data": {
      "text/plain": [
       "defined \u001b[32mfunction\u001b[39m \u001b[36mpred\u001b[39m\n",
       "\u001b[36mres68_2\u001b[39m: \u001b[32mInt\u001b[39m = \u001b[32m1\u001b[39m\n",
       "\u001b[36mv\u001b[39m: \u001b[32mInt\u001b[39m = \u001b[32m1\u001b[39m"
      ]
     },
     "execution_count": 69,
     "metadata": {},
     "output_type": "execute_result"
    }
   ],
   "source": [
    "def pred(s:Int):Boolean = {\n",
    "    println(s\"${s}\")\n",
    "    s == 1\n",
    "}\n",
    "\n",
    "println(\"======== Актив =========\")\n",
    "\n",
    "// Для каждого элемента будет считать \n",
    "Vector(1,2,3).filter(pred).head \n",
    "\n",
    "println(\"======== Пассив =========\")\n",
    "\n",
    "// \"view\" делает коллекцию ленивой. Вызовется только 1 раз\n",
    "val v = Vector(1,2,3).view.filter(pred).head"
   ]
  },
  {
   "cell_type": "code",
   "execution_count": 70,
   "metadata": {
    "collapsed": false
   },
   "outputs": [
    {
     "name": "stdout",
     "output_type": "stream",
     "text": [
      "0\n",
      "Stream(0, ?)\n",
      "Stream(0, 1, 2, 3, 4, 5, 6, 7, 8, 9)\n",
      "List(0, 1, 2, 3, 4, 5, 6, 7, 8, 9)\n"
     ]
    },
    {
     "data": {
      "text/plain": [
       "defined \u001b[32mfunction\u001b[39m \u001b[36minfStream\u001b[39m\n",
       "\u001b[36mstr\u001b[39m: \u001b[32mStream\u001b[39m[\u001b[32mInt\u001b[39m] = \u001b[33mStream\u001b[39m(\n",
       "  \u001b[32m0\u001b[39m,\n",
       "  \u001b[32m1\u001b[39m,\n",
       "  \u001b[32m2\u001b[39m,\n",
       "  \u001b[32m3\u001b[39m,\n",
       "  \u001b[32m4\u001b[39m,\n",
       "  \u001b[32m5\u001b[39m,\n",
       "  \u001b[32m6\u001b[39m,\n",
       "  \u001b[32m7\u001b[39m,\n",
       "  \u001b[32m8\u001b[39m,\n",
       "  \u001b[32m9\u001b[39m,\n",
       "  \u001b[32m10\u001b[39m,\n",
       "\u001b[33m...\u001b[39m"
      ]
     },
     "execution_count": 70,
     "metadata": {},
     "output_type": "execute_result"
    }
   ],
   "source": [
    "// Scala streams - очень похожи на генераторы в Python\n",
    "def infStream(from:Int): Stream[Int] = {\n",
    "    // #:: создаёт stream для первого элемента\n",
    "    from #:: infStream(from + 1)\n",
    "}\n",
    "\n",
    "val str = infStream(0)\n",
    "\n",
    "println(str.head) // 0\n",
    "println(str.take(10)) //Stream[0, <delayed computation>]\n",
    "println(str.take(10).force) //Stream[0, ..., 10]\n",
    "println(str.take(10).toList) //List[0, ..., 10]\n"
   ]
  },
  {
   "cell_type": "markdown",
   "metadata": {},
   "source": [
    "## Многопоточность"
   ]
  },
  {
   "cell_type": "code",
   "execution_count": 71,
   "metadata": {
    "collapsed": false
   },
   "outputs": [
    {
     "name": "stdout",
     "output_type": "stream",
     "text": [
      "ParVector(2, 4, 6)\n"
     ]
    },
    {
     "data": {
      "text/plain": [
       "\u001b[36mp\u001b[39m: \u001b[32mcollection\u001b[39m.\u001b[32mparallel\u001b[39m.\u001b[32mimmutable\u001b[39m.\u001b[32mParSeq\u001b[39m[\u001b[32mInt\u001b[39m] = ParVector(1, 2, 3)"
      ]
     },
     "execution_count": 71,
     "metadata": {},
     "output_type": "execute_result"
    }
   ],
   "source": [
    "// ParVector запускает множество операций параллельно\n",
    "val p = List(1,2,3).par\n",
    "\n",
    "println(p.map(_ * 2))"
   ]
  }
 ],
 "metadata": {
  "kernelspec": {
   "display_name": "Scala",
   "language": "scala",
   "name": "scala"
  },
  "language_info": {
   "codemirror_mode": "text/x-scala",
   "file_extension": ".scala",
   "mimetype": "text/x-scala",
   "name": "scala211",
   "nbconvert_exporter": "script",
   "pygments_lexer": "scala",
   "version": "2.11.11"
  }
 },
 "nbformat": 4,
 "nbformat_minor": 2
}
