{
 "cells": [
  {
   "cell_type": "markdown",
   "metadata": {},
   "source": [
    "# Посмотрим на дикого зверя\n",
    "\n",
    "Посмотрим, что нам даёт scala в качестве типов данных"
   ]
  },
  {
   "cell_type": "markdown",
   "metadata": {},
   "source": [
    "Переменная, которая может менять значение - это ```var```, если значение не меняется - это ```val```"
   ]
  },
  {
   "cell_type": "code",
   "execution_count": 1,
   "metadata": {
    "collapsed": false
   },
   "outputs": [
    {
     "name": "stdout",
     "output_type": "stream",
     "text": [
      "6\n"
     ]
    },
    {
     "data": {
      "text/plain": [
       "\u001b[36mk\u001b[39m: \u001b[32mInt\u001b[39m = \u001b[32m6\u001b[39m"
      ]
     },
     "execution_count": 1,
     "metadata": {},
     "output_type": "execute_result"
    }
   ],
   "source": [
    "var k: Int = 5\n",
    "k += 1\n",
    "println(k)"
   ]
  },
  {
   "cell_type": "code",
   "execution_count": 2,
   "metadata": {
    "collapsed": false
   },
   "outputs": [
    {
     "data": {
      "text/plain": [
       "\u001b[36mk\u001b[39m: \u001b[32mInt\u001b[39m = \u001b[32m5\u001b[39m"
      ]
     },
     "execution_count": 2,
     "metadata": {},
     "output_type": "execute_result"
    }
   ],
   "source": [
    "val k: Int = 5"
   ]
  },
  {
   "cell_type": "code",
   "execution_count": 2,
   "metadata": {
    "collapsed": true
   },
   "outputs": [],
   "source": [
    "// Попробуйте\n",
    "// k += 1"
   ]
  },
  {
   "cell_type": "markdown",
   "metadata": {},
   "source": [
    "Мы можем как указывать тип того, что мы хотим положить в val или var, а можем и не указывать."
   ]
  },
  {
   "cell_type": "code",
   "execution_count": 3,
   "metadata": {
    "collapsed": false
   },
   "outputs": [
    {
     "data": {
      "text/plain": [
       "\u001b[36mx\u001b[39m: \u001b[32mLong\u001b[39m = \u001b[32m100000000L\u001b[39m\n",
       "\u001b[36my\u001b[39m: \u001b[32mDouble\u001b[39m = \u001b[32m123.456\u001b[39m\n",
       "\u001b[36mmessage\u001b[39m: \u001b[32mString\u001b[39m = \u001b[32m\"Привет\"\u001b[39m\n",
       "\u001b[36misScala\u001b[39m: \u001b[32mBoolean\u001b[39m = \u001b[32mtrue\u001b[39m"
      ]
     },
     "execution_count": 3,
     "metadata": {},
     "output_type": "execute_result"
    }
   ],
   "source": [
    "val x: Long = 100000000\n",
    "val y: Double = 123.456\n",
    "val message: String = \"Привет\"\n",
    "val isScala: Boolean = true"
   ]
  },
  {
   "cell_type": "code",
   "execution_count": 3,
   "metadata": {
    "collapsed": false
   },
   "outputs": [],
   "source": [
    "// x += 1\n",
    "// y += 1\n",
    "// message += \".\"\n",
    "// isScala = false"
   ]
  },
  {
   "cell_type": "code",
   "execution_count": 4,
   "metadata": {
    "collapsed": false
   },
   "outputs": [
    {
     "data": {
      "text/plain": [
       "\u001b[36mx\u001b[39m: \u001b[32mLong\u001b[39m = \u001b[32m100000000L\u001b[39m\n",
       "\u001b[36my\u001b[39m: \u001b[32mDouble\u001b[39m = \u001b[32m123.456\u001b[39m\n",
       "\u001b[36mmessage\u001b[39m: \u001b[32mString\u001b[39m = \u001b[32m\"Пока\"\u001b[39m\n",
       "\u001b[36misScala\u001b[39m: \u001b[32mBoolean\u001b[39m = \u001b[32mtrue\u001b[39m"
      ]
     },
     "execution_count": 4,
     "metadata": {},
     "output_type": "execute_result"
    }
   ],
   "source": [
    "var x: Long = 100000000\n",
    "var y: Double = 123.456\n",
    "var message: String = \"Пока\"\n",
    "var isScala: Boolean = true"
   ]
  },
  {
   "cell_type": "code",
   "execution_count": 5,
   "metadata": {
    "collapsed": true
   },
   "outputs": [],
   "source": [
    "x += 1\n",
    "y += 1\n",
    "message += \".\"\n",
    "isScala = false"
   ]
  },
  {
   "cell_type": "markdown",
   "metadata": {},
   "source": [
    "Каждая переменная является объектом. Мы можем от неё что-нибудь позвать!"
   ]
  },
  {
   "cell_type": "code",
   "execution_count": 6,
   "metadata": {
    "collapsed": false
   },
   "outputs": [
    {
     "data": {
      "text/plain": [
       "\u001b[36mres5\u001b[39m: \u001b[32mClass\u001b[39m[\u001b[32mLong\u001b[39m] = long"
      ]
     },
     "execution_count": 6,
     "metadata": {},
     "output_type": "execute_result"
    }
   ],
   "source": [
    "x.getClass()"
   ]
  },
  {
   "cell_type": "code",
   "execution_count": 7,
   "metadata": {
    "collapsed": false
   },
   "outputs": [
    {
     "data": {
      "text/plain": [
       "\u001b[36mres6\u001b[39m: \u001b[32mFloat\u001b[39m = \u001b[32m1.0E8F\u001b[39m"
      ]
     },
     "execution_count": 7,
     "metadata": {},
     "output_type": "execute_result"
    }
   ],
   "source": [
    "x.floor"
   ]
  },
  {
   "cell_type": "code",
   "execution_count": 8,
   "metadata": {
    "collapsed": false
   },
   "outputs": [
    {
     "data": {
      "text/plain": [
       "\u001b[36mres7\u001b[39m: \u001b[32mFloat\u001b[39m = \u001b[32m1.0E8F\u001b[39m"
      ]
     },
     "execution_count": 8,
     "metadata": {},
     "output_type": "execute_result"
    }
   ],
   "source": [
    "x.ceil"
   ]
  },
  {
   "cell_type": "markdown",
   "metadata": {},
   "source": [
    "Строки"
   ]
  },
  {
   "cell_type": "code",
   "execution_count": 9,
   "metadata": {
    "collapsed": false
   },
   "outputs": [
    {
     "data": {
      "text/plain": [
       "\u001b[36ms\u001b[39m: \u001b[32mString\u001b[39m = \u001b[32m\"Одна строчка\"\u001b[39m\n",
       "\u001b[36mraw_s\u001b[39m: \u001b[32mString\u001b[39m = \u001b[32m\"\"\"\n",
       "Много строк с \"ковычками\"\n",
       "            и теееекстом\n",
       "\"\"\"\u001b[39m"
      ]
     },
     "execution_count": 9,
     "metadata": {},
     "output_type": "execute_result"
    }
   ],
   "source": [
    "// прямо как в Python\n",
    "val s = \"Одна строчка\"\n",
    "val raw_s = \"\"\"Много строк с \"ковычками\"\n",
    "            и теееекстом\"\"\""
   ]
  },
  {
   "cell_type": "code",
   "execution_count": 10,
   "metadata": {
    "collapsed": false
   },
   "outputs": [
    {
     "data": {
      "text/plain": [
       "\u001b[36mraw_s_regex\u001b[39m: \u001b[32mString\u001b[39m = \u001b[32m\"\"\"\n",
       "\\s+\n",
       "\"\"\"\u001b[39m"
      ]
     },
     "execution_count": 10,
     "metadata": {},
     "output_type": "execute_result"
    }
   ],
   "source": [
    "// RegeXP\n",
    "val raw_s_regex = \"\"\"\\s+\"\"\""
   ]
  },
  {
   "cell_type": "code",
   "execution_count": 11,
   "metadata": {
    "collapsed": false
   },
   "outputs": [
    {
     "data": {
      "text/plain": [
       "\u001b[36minterpol\u001b[39m: \u001b[32mString\u001b[39m = \u001b[32m\"S=Одна строчка\"\u001b[39m\n",
       "\u001b[36mi\u001b[39m: \u001b[32mDouble\u001b[39m = \u001b[32m10.1234\u001b[39m\n",
       "\u001b[36mprice\u001b[39m: \u001b[32mString\u001b[39m = \u001b[32m\"$10.1234 dollars\"\u001b[39m"
      ]
     },
     "execution_count": 11,
     "metadata": {},
     "output_type": "execute_result"
    }
   ],
   "source": [
    "val interpol = s\"S=$s\" // Заменет $s\n",
    "val i = 10.1234\n",
    "val price = s\"$$$i dollars\" // Забьёт на множество даларов"
   ]
  },
  {
   "cell_type": "code",
   "execution_count": 12,
   "metadata": {
    "collapsed": false
   },
   "outputs": [
    {
     "data": {
      "text/plain": [
       "\u001b[36mf_price\u001b[39m: \u001b[32mString\u001b[39m = \u001b[32m\"10.12 dollars\"\u001b[39m"
      ]
     },
     "execution_count": 12,
     "metadata": {},
     "output_type": "execute_result"
    }
   ],
   "source": [
    "// Питонячая приблуда\n",
    "val f_price = f\"${i}%2.2f dollars\""
   ]
  },
  {
   "cell_type": "markdown",
   "metadata": {},
   "source": [
    "Картежи"
   ]
  },
  {
   "cell_type": "code",
   "execution_count": 13,
   "metadata": {
    "collapsed": false
   },
   "outputs": [
    {
     "data": {
      "text/plain": [
       "\u001b[36mx\u001b[39m: \u001b[32mInt\u001b[39m = \u001b[32m1\u001b[39m\n",
       "\u001b[36my\u001b[39m: \u001b[32mInt\u001b[39m = \u001b[32m2\u001b[39m\n",
       "\u001b[36mtpl\u001b[39m: (\u001b[32mInt\u001b[39m, \u001b[32mInt\u001b[39m) = (\u001b[32m1\u001b[39m, \u001b[32m2\u001b[39m)"
      ]
     },
     "execution_count": 13,
     "metadata": {},
     "output_type": "execute_result"
    }
   ],
   "source": [
    "val (x,y) = (1,2)\n",
    "val tpl = (1,2)"
   ]
  },
  {
   "cell_type": "markdown",
   "metadata": {},
   "source": [
    "Их основная проблема заключается в том, что они начинаются с 1. WAT???"
   ]
  },
  {
   "cell_type": "code",
   "execution_count": 14,
   "metadata": {
    "collapsed": false
   },
   "outputs": [
    {
     "name": "stdout",
     "output_type": "stream",
     "text": [
      "1\n",
      "2\n"
     ]
    }
   ],
   "source": [
    "println(tpl._1)\n",
    "println(tpl._2) "
   ]
  },
  {
   "cell_type": "markdown",
   "metadata": {},
   "source": [
    "Давайте пробежимся по стандартным вещам (массивы, списки, множества, словари). Свойства хранения данных scala таковы, что когда вы делаете операцию над объектом, то вам возращается копия этого объекта."
   ]
  },
  {
   "cell_type": "code",
   "execution_count": 15,
   "metadata": {
    "collapsed": false
   },
   "outputs": [
    {
     "data": {
      "text/plain": [
       "\u001b[36mrandomArray\u001b[39m: \u001b[32mArray\u001b[39m[\u001b[32mString\u001b[39m] = \u001b[33mArray\u001b[39m(\u001b[32m\"Андрей\"\u001b[39m, \u001b[32m\"Творог\"\u001b[39m, \u001b[32m\"Жизнь\"\u001b[39m)\n",
       "\u001b[36mrandomList\u001b[39m: \u001b[32mList\u001b[39m[\u001b[32mString\u001b[39m] = \u001b[33mList\u001b[39m(\u001b[32m\"Python\"\u001b[39m, \u001b[32m\"Мера\"\u001b[39m, \u001b[32m\"Тонна\"\u001b[39m)\n",
       "\u001b[36mrandomSet\u001b[39m: \u001b[32mSet\u001b[39m[\u001b[32mString\u001b[39m] = \u001b[33mSet\u001b[39m(\u001b[32m\"Гавана\"\u001b[39m, \u001b[32m\"Классный\"\u001b[39m, \u001b[32m\"Кокаин\"\u001b[39m, \u001b[32m\"Смерть\"\u001b[39m)"
      ]
     },
     "execution_count": 15,
     "metadata": {},
     "output_type": "execute_result"
    }
   ],
   "source": [
    "val randomArray = Array(\"Андрей\", \"Творог\", \"Жизнь\")   \n",
    "val randomList = List(\"Python\", \"Мера\", \"Тонна\")\n",
    "val randomSet = Set(\"Гавана\", \"Классный\", \"Кокаин\", \"Смерть\")      "
   ]
  },
  {
   "cell_type": "markdown",
   "metadata": {},
   "source": [
    "Так же вы можете задавать словари вот таким синтаксисом:"
   ]
  },
  {
   "cell_type": "code",
   "execution_count": 16,
   "metadata": {
    "collapsed": false
   },
   "outputs": [
    {
     "data": {
      "text/plain": [
       "\u001b[36mrandomMap\u001b[39m: \u001b[32mMap\u001b[39m[\u001b[32mString\u001b[39m, \u001b[32mString\u001b[39m] = \u001b[33mMap\u001b[39m(\u001b[32m\"Я\"\u001b[39m -> \u001b[32m\"крутой\"\u001b[39m, \u001b[32m\"Собака\"\u001b[39m -> \u001b[32m\"кошка\"\u001b[39m, \u001b[32m\"Граф\"\u001b[39m -> \u001b[32m\"Петр 1\"\u001b[39m)"
      ]
     },
     "execution_count": 16,
     "metadata": {},
     "output_type": "execute_result"
    }
   ],
   "source": [
    "val randomMap = Map(\"Я\" -> \"крутой\", \"Собака\" -> \"кошка\", \"Граф\" -> \"Петр 1\")"
   ]
  },
  {
   "cell_type": "markdown",
   "metadata": {},
   "source": [
    "Как заметно выше ^ квадратные скобки задействованны для описания типа данных. А как же обратиться к элементу?"
   ]
  },
  {
   "cell_type": "code",
   "execution_count": 17,
   "metadata": {
    "collapsed": false
   },
   "outputs": [
    {
     "name": "stdout",
     "output_type": "stream",
     "text": [
      "Второй элемент списка Творог\n",
      "Я самый крутой\n"
     ]
    },
    {
     "data": {
      "text/plain": [
       "\u001b[36mkey\u001b[39m: \u001b[32mString\u001b[39m = \u001b[32m\"Я\"\u001b[39m"
      ]
     },
     "execution_count": 17,
     "metadata": {},
     "output_type": "execute_result"
    }
   ],
   "source": [
    "println(\"Второй элемент списка \" + randomArray(1))\n",
    "\n",
    "var key = \"Я\"\n",
    "println(key + \" самый \" + randomMap(key))"
   ]
  },
  {
   "cell_type": "markdown",
   "metadata": {},
   "source": [
    "Для того, чтобы посмотреть есть ли элемент в множестве, можно просто обратиться к нему!"
   ]
  },
  {
   "cell_type": "code",
   "execution_count": 18,
   "metadata": {
    "collapsed": false
   },
   "outputs": [
    {
     "data": {
      "text/plain": [
       "\u001b[36mres17\u001b[39m: \u001b[32mBoolean\u001b[39m = \u001b[32mtrue\u001b[39m"
      ]
     },
     "execution_count": 18,
     "metadata": {},
     "output_type": "execute_result"
    }
   ],
   "source": [
    "randomSet(\"Классный\")"
   ]
  },
  {
   "cell_type": "code",
   "execution_count": 19,
   "metadata": {
    "collapsed": false
   },
   "outputs": [
    {
     "data": {
      "text/plain": [
       "\u001b[36mres18\u001b[39m: \u001b[32mBoolean\u001b[39m = \u001b[32mfalse\u001b[39m"
      ]
     },
     "execution_count": 19,
     "metadata": {},
     "output_type": "execute_result"
    }
   ],
   "source": [
    "randomSet(\"Не очень\")"
   ]
  },
  {
   "cell_type": "markdown",
   "metadata": {},
   "source": [
    "Все элементы списка можно менять, потому что они ```var```"
   ]
  },
  {
   "cell_type": "code",
   "execution_count": 20,
   "metadata": {
    "collapsed": false
   },
   "outputs": [],
   "source": [
    "randomArray(0) = randomArray(1)"
   ]
  },
  {
   "cell_type": "code",
   "execution_count": 21,
   "metadata": {
    "collapsed": false
   },
   "outputs": [
    {
     "data": {
      "text/plain": [
       "\u001b[36mres20\u001b[39m: \u001b[32mArray\u001b[39m[\u001b[32mString\u001b[39m] = \u001b[33mArray\u001b[39m(\u001b[32m\"Творог\"\u001b[39m, \u001b[32m\"Творог\"\u001b[39m, \u001b[32m\"Жизнь\"\u001b[39m)"
      ]
     },
     "execution_count": 21,
     "metadata": {},
     "output_type": "execute_result"
    }
   ],
   "source": [
    "randomArray"
   ]
  },
  {
   "cell_type": "markdown",
   "metadata": {},
   "source": [
    "Для таких операций, как append, prepend и concatenate существуют операторы:"
   ]
  },
  {
   "cell_type": "code",
   "execution_count": 22,
   "metadata": {
    "collapsed": false
   },
   "outputs": [
    {
     "data": {
      "text/plain": [
       "\u001b[36mres21\u001b[39m: \u001b[32mList\u001b[39m[\u001b[32mString\u001b[39m] = \u001b[33mList\u001b[39m(\u001b[32m\"Python\"\u001b[39m, \u001b[32m\"Мера\"\u001b[39m, \u001b[32m\"Тонна\"\u001b[39m, \u001b[32m\"Андрей\"\u001b[39m)"
      ]
     },
     "execution_count": 22,
     "metadata": {},
     "output_type": "execute_result"
    }
   ],
   "source": [
    "randomList :+ \"Андрей\""
   ]
  },
  {
   "cell_type": "code",
   "execution_count": 23,
   "metadata": {
    "collapsed": false
   },
   "outputs": [
    {
     "data": {
      "text/plain": [
       "\u001b[36mres22\u001b[39m: \u001b[32mList\u001b[39m[\u001b[32mString\u001b[39m] = \u001b[33mList\u001b[39m(\u001b[32m\"Андрей\"\u001b[39m, \u001b[32m\"Python\"\u001b[39m, \u001b[32m\"Мера\"\u001b[39m, \u001b[32m\"Тонна\"\u001b[39m)"
      ]
     },
     "execution_count": 23,
     "metadata": {},
     "output_type": "execute_result"
    }
   ],
   "source": [
    "\"Андрей\" :: randomList"
   ]
  },
  {
   "cell_type": "code",
   "execution_count": 24,
   "metadata": {
    "collapsed": false
   },
   "outputs": [
    {
     "data": {
      "text/plain": [
       "\u001b[36mres23\u001b[39m: \u001b[32mList\u001b[39m[\u001b[32mString\u001b[39m] = \u001b[33mList\u001b[39m(\u001b[32m\"Python\"\u001b[39m, \u001b[32m\"Мера\"\u001b[39m, \u001b[32m\"Тонна\"\u001b[39m, \u001b[32m\"LOL\"\u001b[39m, \u001b[32m\"KEK\"\u001b[39m, \u001b[32m\"CHEBUREK\"\u001b[39m)"
      ]
     },
     "execution_count": 24,
     "metadata": {},
     "output_type": "execute_result"
    }
   ],
   "source": [
    "randomList ++ List(\"LOL\", \"KEK\", \"CHEBUREK\")"
   ]
  },
  {
   "cell_type": "markdown",
   "metadata": {},
   "source": [
    "## FOR"
   ]
  },
  {
   "cell_type": "code",
   "execution_count": 25,
   "metadata": {
    "collapsed": false
   },
   "outputs": [
    {
     "name": "stdout",
     "output_type": "stream",
     "text": [
      "Python\n",
      "Мера\n",
      "Тонна\n"
     ]
    }
   ],
   "source": [
    "for (i <- randomList) {\n",
    "    println(i)\n",
    "}"
   ]
  },
  {
   "cell_type": "markdown",
   "metadata": {},
   "source": [
    "На замен питовскому range тут есть ```to``` и ```until```!"
   ]
  },
  {
   "cell_type": "code",
   "execution_count": 26,
   "metadata": {
    "collapsed": false
   },
   "outputs": [
    {
     "name": "stdout",
     "output_type": "stream",
     "text": [
      "1\n",
      "2\n",
      "3\n",
      "4\n",
      "5\n"
     ]
    }
   ],
   "source": [
    "for (i <- 1 to k) {\n",
    "    println(i)\n",
    "}"
   ]
  },
  {
   "cell_type": "code",
   "execution_count": 27,
   "metadata": {
    "collapsed": false
   },
   "outputs": [
    {
     "name": "stdout",
     "output_type": "stream",
     "text": [
      "1\n",
      "2\n",
      "3\n",
      "4\n"
     ]
    }
   ],
   "source": [
    "for (i <- 1 until k) {\n",
    "    println(i)\n",
    "}"
   ]
  },
  {
   "cell_type": "markdown",
   "metadata": {},
   "source": [
    "# Функциональщина"
   ]
  },
  {
   "cell_type": "code",
   "execution_count": 28,
   "metadata": {
    "collapsed": false
   },
   "outputs": [
    {
     "data": {
      "text/plain": [
       "defined \u001b[32mfunction\u001b[39m \u001b[36mf\u001b[39m"
      ]
     },
     "execution_count": 28,
     "metadata": {},
     "output_type": "execute_result"
    }
   ],
   "source": [
    "// Напишем функцию, которая может печатать\n",
    "def f(ints :Int*){\n",
    "    for (i <- ints) {print(s\"-$i-\")}\n",
    "}"
   ]
  },
  {
   "cell_type": "code",
   "execution_count": 29,
   "metadata": {
    "collapsed": false
   },
   "outputs": [
    {
     "name": "stdout",
     "output_type": "stream",
     "text": [
      "-1--2--3--4-"
     ]
    }
   ],
   "source": [
    "// Воспользуемся\n",
    "f(1,2,3,4)"
   ]
  },
  {
   "cell_type": "code",
   "execution_count": 30,
   "metadata": {
    "collapsed": false
   },
   "outputs": [
    {
     "name": "stdout",
     "output_type": "stream",
     "text": [
      "-1--2--3--4-"
     ]
    }
   ],
   "source": [
    "// Как f(*array) в питоне. Разворачивает лист и передаёт содержимое\n",
    "f(Array(1,2,3,4):_*)"
   ]
  },
  {
   "cell_type": "code",
   "execution_count": 31,
   "metadata": {
    "collapsed": false
   },
   "outputs": [
    {
     "name": "stdout",
     "output_type": "stream",
     "text": [
      "5"
     ]
    },
    {
     "data": {
      "text/plain": [
       "defined \u001b[32mfunction\u001b[39m \u001b[36mf\u001b[39m"
      ]
     },
     "execution_count": 31,
     "metadata": {},
     "output_type": "execute_result"
    }
   ],
   "source": [
    "// Стандартные значения на месте\n",
    "def f(x: Int = 5) = print(x)\n",
    "f()"
   ]
  },
  {
   "cell_type": "code",
   "execution_count": 32,
   "metadata": {
    "collapsed": false
   },
   "outputs": [
    {
     "name": "stdout",
     "output_type": "stream",
     "text": [
      "(x,y)"
     ]
    },
    {
     "data": {
      "text/plain": [
       "defined \u001b[32mfunction\u001b[39m \u001b[36mf\u001b[39m"
      ]
     },
     "execution_count": 32,
     "metadata": {},
     "output_type": "execute_result"
    }
   ],
   "source": [
    "// Передовать параметры по имени - на месте\n",
    "def f (x:String,y:String) = print(x,y)\n",
    "f(y=\"y\", x=\"x\")"
   ]
  },
  {
   "cell_type": "code",
   "execution_count": 33,
   "metadata": {
    "collapsed": false
   },
   "outputs": [
    {
     "name": "stdout",
     "output_type": "stream",
     "text": [
      "явный x есть ещё и неявный y\n",
      "явный x есть ещё и явный y\n"
     ]
    },
    {
     "data": {
      "text/plain": [
       "defined \u001b[32mfunction\u001b[39m \u001b[36mf\u001b[39m\n",
       "\u001b[36my\u001b[39m: \u001b[32mString\u001b[39m = \u001b[32m\"неявный y\"\u001b[39m"
      ]
     },
     "execution_count": 33,
     "metadata": {},
     "output_type": "execute_result"
    }
   ],
   "source": [
    "// Неявная передача параметра, что-то новое для питонистов\n",
    "def f(x: String)(implicit y:String) = println (s\"$x есть ещё и $y\")\n",
    "\n",
    "implicit var y = \"неявный y\"\n",
    "\n",
    "f(\"явный x\")\n",
    "f(\"явный x\")(\"явный y\")"
   ]
  },
  {
   "cell_type": "markdown",
   "metadata": {},
   "source": [
    "## OOП"
   ]
  },
  {
   "cell_type": "code",
   "execution_count": 34,
   "metadata": {
    "collapsed": false
   },
   "outputs": [
    {
     "data": {
      "text/plain": [
       "defined \u001b[32mclass\u001b[39m \u001b[36mC\u001b[39m"
      ]
     },
     "execution_count": 34,
     "metadata": {},
     "output_type": "execute_result"
    }
   ],
   "source": [
    "// По стандарту всё публично.\n",
    "class C {\n",
    "    def m1 = println(\"m1\")\n",
    "    private def m2 = println(\"m2\") // Но мы можем поспротивиться этому\n",
    "    protected def m3 = println(\"m3\") // +1\n",
    "}"
   ]
  },
  {
   "cell_type": "code",
   "execution_count": 35,
   "metadata": {
    "collapsed": false
   },
   "outputs": [
    {
     "data": {
      "text/plain": [
       "\u001b[36mc\u001b[39m: \u001b[32mC\u001b[39m = $sess.cmd33Wrapper$Helper$C@500f6ab5"
      ]
     },
     "execution_count": 35,
     "metadata": {},
     "output_type": "execute_result"
    }
   ],
   "source": [
    "val c = new C"
   ]
  },
  {
   "cell_type": "code",
   "execution_count": 36,
   "metadata": {
    "collapsed": false
   },
   "outputs": [
    {
     "name": "stdout",
     "output_type": "stream",
     "text": [
      "m1\n"
     ]
    }
   ],
   "source": [
    "c.m1"
   ]
  },
  {
   "cell_type": "code",
   "execution_count": 37,
   "metadata": {
    "collapsed": false
   },
   "outputs": [
    {
     "name": "stdout",
     "output_type": "stream",
     "text": [
      "Point(1, 2, 3) with color: RED\n"
     ]
    },
    {
     "data": {
      "text/plain": [
       "defined \u001b[32mclass\u001b[39m \u001b[36mPoint3D\u001b[39m\n",
       "\u001b[36mp\u001b[39m: \u001b[32mPoint3D\u001b[39m = $sess.cmd36Wrapper$Helper$Point3D@29ba5885"
      ]
     },
     "execution_count": 37,
     "metadata": {},
     "output_type": "execute_result"
    }
   ],
   "source": [
    "// В Scala мы создаём конструкторы, а не классы\n",
    "class Point3D(val x:Int, var y:Int, z:Int) {   // Тело конструктора\n",
    "    private var color = \"RED\"\n",
    "    def method() = s\"Point($x, $y, $z) with color: $color\"\n",
    "}\n",
    "val p = new Point3D(1,2,3)\n",
    "println(p.method)"
   ]
  },
  {
   "cell_type": "code",
   "execution_count": 38,
   "metadata": {
    "collapsed": false
   },
   "outputs": [
    {
     "name": "stdout",
     "output_type": "stream",
     "text": [
      "Point(1, 3, 3) with color: RED\n"
     ]
    }
   ],
   "source": [
    "// p.x = 6 - не сможет скомпилиться, потому что val\n",
    "p.y = 3 // сможет скомпилиться, потому что var\n",
    "println(p.method)"
   ]
  },
  {
   "cell_type": "markdown",
   "metadata": {},
   "source": [
    "Вопрос в аудиторию, что произойдёт с p.z?"
   ]
  },
  {
   "cell_type": "code",
   "execution_count": 39,
   "metadata": {
    "collapsed": false
   },
   "outputs": [
    {
     "data": {
      "text/plain": [
       "defined \u001b[32mclass\u001b[39m \u001b[36mPoint2DDefault\u001b[39m"
      ]
     },
     "execution_count": 39,
     "metadata": {},
     "output_type": "execute_result"
    }
   ],
   "source": [
    "class Point2DDefault(val x:Int, val y:Int) {\n",
    "    var defaultValue : String = \"я не меняюсь\"\n",
    "\n",
    "\n",
    "    def this(x:Int){\n",
    "        this(x, 5) // Вызовет тело конструктора\n",
    "    }\n",
    "\n",
    "\n",
    "    override def toString() = s\"Point($x, $y), $defaultValue\"\n",
    "}"
   ]
  },
  {
   "cell_type": "code",
   "execution_count": 40,
   "metadata": {
    "collapsed": false
   },
   "outputs": [
    {
     "name": "stdout",
     "output_type": "stream",
     "text": [
      "Point(1, 5), я не меняюсь\n"
     ]
    }
   ],
   "source": [
    "println(new Point2DDefault(1))"
   ]
  },
  {
   "cell_type": "markdown",
   "metadata": {},
   "source": [
    "Как украсть класс?"
   ]
  },
  {
   "cell_type": "code",
   "execution_count": 41,
   "metadata": {
    "collapsed": false
   },
   "outputs": [
    {
     "data": {
      "text/plain": [
       "defined \u001b[32mtype\u001b[39m \u001b[36mjust_take_it\u001b[39m"
      ]
     },
     "execution_count": 41,
     "metadata": {},
     "output_type": "execute_result"
    }
   ],
   "source": [
    "type just_take_it = Point2DDefault"
   ]
  },
  {
   "cell_type": "code",
   "execution_count": 42,
   "metadata": {
    "collapsed": false
   },
   "outputs": [
    {
     "name": "stdout",
     "output_type": "stream",
     "text": [
      "Point(1, 5), я не меняюсь\n"
     ]
    }
   ],
   "source": [
    "println(new just_take_it(1))"
   ]
  },
  {
   "cell_type": "markdown",
   "metadata": {},
   "source": [
    "## Наследование"
   ]
  },
  {
   "cell_type": "code",
   "execution_count": 43,
   "metadata": {
    "collapsed": false
   },
   "outputs": [
    {
     "data": {
      "text/plain": [
       "defined \u001b[32mclass\u001b[39m \u001b[36mBase\u001b[39m\n",
       "defined \u001b[32mclass\u001b[39m \u001b[36mDer\u001b[39m"
      ]
     },
     "execution_count": 43,
     "metadata": {},
     "output_type": "execute_result"
    }
   ],
   "source": [
    "class Base(val x: Int)\n",
    "\n",
    "// Чтобы скомпилировать переменную, которая уже использовалась нужно написать \"override\"\n",
    "class Der(override val x: Int, val y : Int) extends Base(x) { \n",
    "    def this() {\n",
    "        this(0,0)\n",
    "    }\n",
    "}"
   ]
  },
  {
   "cell_type": "markdown",
   "metadata": {},
   "source": [
    "## Задаём тип параметром"
   ]
  },
  {
   "cell_type": "code",
   "execution_count": 44,
   "metadata": {
    "collapsed": false
   },
   "outputs": [
    {
     "name": "stdout",
     "output_type": "stream",
     "text": [
      "перменная 1 типа  class java.lang.Integer\n",
      "перменная String типа  class java.lang.String\n",
      "перменная String типа  class java.lang.String\n"
     ]
    },
    {
     "data": {
      "text/plain": [
       "defined \u001b[32mfunction\u001b[39m \u001b[36mf\u001b[39m"
      ]
     },
     "execution_count": 44,
     "metadata": {},
     "output_type": "execute_result"
    }
   ],
   "source": [
    "def f[T](t:T) = println(s\"перменная $t типа  ${t.getClass}\")\n",
    "\n",
    "f(1)\n",
    "f(\"String\")\n",
    "f[String](\"String\") // Зададим тип руками"
   ]
  },
  {
   "cell_type": "markdown",
   "metadata": {},
   "source": [
    "## Объекты"
   ]
  },
  {
   "cell_type": "code",
   "execution_count": 45,
   "metadata": {
    "collapsed": false
   },
   "outputs": [
    {
     "name": "stdout",
     "output_type": "stream",
     "text": [
      "f(5)\n",
      "List(1, 2, 3)\n"
     ]
    },
    {
     "data": {
      "text/plain": [
       "defined \u001b[32mobject\u001b[39m \u001b[36mRandObj\u001b[39m"
      ]
     },
     "execution_count": 45,
     "metadata": {},
     "output_type": "execute_result"
    }
   ],
   "source": [
    "object RandObj {\n",
    "    val value = List(1,2,3)\n",
    "    def f(p:Any) = s\"f($p)\"\n",
    "}\n",
    "println(RandObj.f(5))\n",
    "println(RandObj.value)"
   ]
  },
  {
   "cell_type": "markdown",
   "metadata": {},
   "source": [
    "## Объект и класс одного имени"
   ]
  },
  {
   "cell_type": "code",
   "execution_count": 46,
   "metadata": {
    "collapsed": false
   },
   "outputs": [
    {
     "name": "stdout",
     "output_type": "stream",
     "text": [
      "X = 123\n"
     ]
    },
    {
     "data": {
      "text/plain": [
       "defined \u001b[32mclass\u001b[39m \u001b[36mSomEntity\u001b[39m\n",
       "defined \u001b[32mobject\u001b[39m \u001b[36mSomEntity\u001b[39m\n",
       "\u001b[36mentity\u001b[39m: \u001b[32mSomEntity\u001b[39m = X = 123"
      ]
     },
     "execution_count": 46,
     "metadata": {},
     "output_type": "execute_result"
    }
   ],
   "source": [
    "// Если объект и класс имеют одно наименование, то они сливаются\n",
    "\n",
    "class SomEntity private(){\n",
    "    // Всё что ниже будет доступно из объекта!\n",
    "    private var x = 123 // Заметим, что тут написанно private\n",
    "    override def toString = s\"X = $x\"\n",
    "}\n",
    "\n",
    "\n",
    "// \n",
    "object SomEntity{\n",
    "    def create = new SomEntity // Создаёт объект\n",
    "    def setX(x:Int, entity: SomEntity) = entity.x = x // Изменяет 'приватную' переменную\n",
    "}\n",
    "var entity = SomEntity.create\n",
    "println(entity)"
   ]
  },
  {
   "cell_type": "code",
   "execution_count": 47,
   "metadata": {
    "collapsed": false
   },
   "outputs": [
    {
     "name": "stdout",
     "output_type": "stream",
     "text": [
      "X = 789\n"
     ]
    }
   ],
   "source": [
    "SomEntity.setX(789, entity)\n",
    "println(entity)"
   ]
  },
  {
   "cell_type": "markdown",
   "metadata": {},
   "source": [
    "## Ничего или любое?"
   ]
  },
  {
   "cell_type": "markdown",
   "metadata": {},
   "source": [
    "![](https://prashanthbabu.gitbooks.io/scala_notes/content/Scala_TypeSystem_01.png)"
   ]
  },
  {
   "cell_type": "code",
   "execution_count": 48,
   "metadata": {
    "collapsed": false
   },
   "outputs": [
    {
     "ename": "",
     "evalue": "",
     "output_type": "error",
     "traceback": [
      "\u001b[31mjava.lang.IllegalStateException\u001b[39m",
      "  $sess.cmd47Wrapper$Helper.fail(\u001b[32mcmd47.sc\u001b[39m:\u001b[32m1\u001b[39m)",
      "  $sess.cmd47Wrapper$Helper.<init>(\u001b[32mcmd47.sc\u001b[39m:\u001b[32m4\u001b[39m)",
      "  $sess.cmd47Wrapper.<init>(\u001b[32mcmd47.sc\u001b[39m:\u001b[32m513\u001b[39m)",
      "  $sess.cmd47$.<init>(\u001b[32mcmd47.sc\u001b[39m:\u001b[32m275\u001b[39m)",
      "  $sess.cmd47$.<clinit>(\u001b[32mcmd47.sc\u001b[39m:\u001b[32m-1\u001b[39m)"
     ]
    }
   ],
   "source": [
    "def fail() : Nothing = throw new IllegalStateException()\n",
    "\n",
    "// Пустоту мы можем присвоить чему угодно!\n",
    "var x: Int = fail()\n",
    "var y: Double = fail()"
   ]
  },
  {
   "cell_type": "code",
   "execution_count": 49,
   "metadata": {
    "collapsed": false
   },
   "outputs": [
    {
     "data": {
      "text/plain": [
       "\u001b[36mx\u001b[39m: \u001b[32mAny\u001b[39m = 6.123"
      ]
     },
     "execution_count": 49,
     "metadata": {},
     "output_type": "execute_result"
    }
   ],
   "source": [
    "// \"scala.Any\" это супертип, который может быть действительно любым\n",
    "var x: Any = null\n",
    "x = 5\n",
    "x = 6.123"
   ]
  },
  {
   "cell_type": "markdown",
   "metadata": {},
   "source": [
    "## AnyVal\n",
    "\n",
    "1. Подтип Any\n",
    "2. Не имеет методов"
   ]
  },
  {
   "cell_type": "code",
   "execution_count": 50,
   "metadata": {
    "collapsed": false
   },
   "outputs": [
    {
     "data": {
      "text/plain": [
       "\u001b[36mx\u001b[39m: \u001b[32mAnyVal\u001b[39m = 12.3"
      ]
     },
     "execution_count": 50,
     "metadata": {},
     "output_type": "execute_result"
    }
   ],
   "source": [
    "var x: AnyVal = 3;\n",
    "x = 12.3"
   ]
  },
  {
   "cell_type": "code",
   "execution_count": 50,
   "metadata": {
    "collapsed": true
   },
   "outputs": [],
   "source": [
    "// А если задать x = 'строчка'"
   ]
  },
  {
   "cell_type": "markdown",
   "metadata": {},
   "source": [
    "## AnyRef\n",
    "1. Подтип Any\n",
    "2. Имеет некоторые из методов объекта - norfy, wait, etc."
   ]
  },
  {
   "cell_type": "code",
   "execution_count": 51,
   "metadata": {
    "collapsed": false
   },
   "outputs": [
    {
     "data": {
      "text/plain": [
       "\u001b[36mx\u001b[39m: \u001b[32mAnyRef\u001b[39m = STRING"
      ]
     },
     "execution_count": 51,
     "metadata": {},
     "output_type": "execute_result"
    }
   ],
   "source": [
    "var x: AnyRef = null; // We can assign null to it\n",
    "x = \"STRING\""
   ]
  },
  {
   "cell_type": "code",
   "execution_count": 51,
   "metadata": {
    "collapsed": true
   },
   "outputs": [],
   "source": [
    "// А если x = int?"
   ]
  },
  {
   "cell_type": "markdown",
   "metadata": {},
   "source": [
    "Знакомьтесь, UNIT"
   ]
  },
  {
   "cell_type": "code",
   "execution_count": 52,
   "metadata": {
    "collapsed": true
   },
   "outputs": [],
   "source": [
    "// Unit is like void in java\n",
    "var u : Unit = ()"
   ]
  },
  {
   "cell_type": "markdown",
   "metadata": {},
   "source": [
    "Option"
   ]
  },
  {
   "cell_type": "code",
   "execution_count": 53,
   "metadata": {
    "collapsed": false
   },
   "outputs": [
    {
     "data": {
      "text/plain": [
       "\u001b[36mopt1\u001b[39m: \u001b[32mOption\u001b[39m[\u001b[32mString\u001b[39m] = \u001b[33mSome\u001b[39m(\u001b[32m\"Something\"\u001b[39m)\n",
       "\u001b[36mopt2\u001b[39m: \u001b[32mOption\u001b[39m[\u001b[32mString\u001b[39m] = None"
      ]
     },
     "execution_count": 53,
     "metadata": {},
     "output_type": "execute_result"
    }
   ],
   "source": [
    "// Option это обёртка переменной\n",
    "val opt1 : Option[String] = Some(\"Something\")\n",
    "val opt2 : Option[String] = None"
   ]
  },
  {
   "cell_type": "code",
   "execution_count": 54,
   "metadata": {
    "collapsed": false
   },
   "outputs": [
    {
     "name": "stdout",
     "output_type": "stream",
     "text": [
      "Something\n",
      "Empty\n"
     ]
    }
   ],
   "source": [
    "println (opt1.get)\n",
    "println (opt2.getOrElse(\"Empty\"))"
   ]
  },
  {
   "cell_type": "markdown",
   "metadata": {},
   "source": [
    "Either - как Option, но может содержать код ошибки или сообщение об ошибке"
   ]
  },
  {
   "cell_type": "code",
   "execution_count": 55,
   "metadata": {
    "collapsed": false
   },
   "outputs": [
    {
     "data": {
      "text/plain": [
       "\u001b[36msuccess\u001b[39m: \u001b[32mRight\u001b[39m[\u001b[32mNothing\u001b[39m, \u001b[32mInt\u001b[39m] = \u001b[33mRight\u001b[39m(\u001b[32m3\u001b[39m)\n",
       "\u001b[36mer\u001b[39m: \u001b[32mLeft\u001b[39m[\u001b[32mString\u001b[39m, \u001b[32mNothing\u001b[39m] = \u001b[33mLeft\u001b[39m(\u001b[32m\"BAD ERROR\"\u001b[39m)"
      ]
     },
     "execution_count": 55,
     "metadata": {},
     "output_type": "execute_result"
    }
   ],
   "source": [
    "val success = Right (1 + 2)\n",
    "val er = Left(\"BAD ERROR\")"
   ]
  },
  {
   "cell_type": "code",
   "execution_count": 56,
   "metadata": {
    "collapsed": false
   },
   "outputs": [
    {
     "name": "stdout",
     "output_type": "stream",
     "text": [
      "Right(3)\n",
      "Left(BAD ERROR)\n"
     ]
    }
   ],
   "source": [
    "println(success)\n",
    "println(er)"
   ]
  },
  {
   "cell_type": "markdown",
   "metadata": {},
   "source": [
    "## Контейнеры типа T"
   ]
  },
  {
   "cell_type": "code",
   "execution_count": 57,
   "metadata": {
    "collapsed": false
   },
   "outputs": [
    {
     "data": {
      "text/plain": [
       "\u001b[36mlstInt\u001b[39m: \u001b[32mjava\u001b[39m.\u001b[32mutil\u001b[39m.\u001b[32mArrayList\u001b[39m[\u001b[32mInt\u001b[39m] = []\n",
       "\u001b[36mlstNothing1\u001b[39m: \u001b[32mjava\u001b[39m.\u001b[32mutil\u001b[39m.\u001b[32mArrayList\u001b[39m[\u001b[32mNothing\u001b[39m] = []"
      ]
     },
     "execution_count": 57,
     "metadata": {},
     "output_type": "execute_result"
    }
   ],
   "source": [
    "var lstInt = new java.util.ArrayList[Int]\n",
    "\n",
    "// ничего есть подтип всего!\n",
    "var lstNothing1 = new java.util.ArrayList"
   ]
  },
  {
   "cell_type": "markdown",
   "metadata": {},
   "source": [
    "## Ковариантность и контравариантность"
   ]
  },
  {
   "cell_type": "code",
   "execution_count": 58,
   "metadata": {
    "collapsed": false
   },
   "outputs": [
    {
     "data": {
      "text/plain": [
       "defined \u001b[32mclass\u001b[39m \u001b[36mBox\u001b[39m"
      ]
     },
     "execution_count": 58,
     "metadata": {},
     "output_type": "execute_result"
    }
   ],
   "source": [
    "class Box[T](var el:T){\n",
    "    override def toString = s\"$el\"\n",
    "}"
   ]
  },
  {
   "cell_type": "code",
   "execution_count": 59,
   "metadata": {
    "collapsed": false
   },
   "outputs": [
    {
     "name": "stdout",
     "output_type": "stream",
     "text": [
      "Победа 2\n",
      "Победа 2\n",
      "Победа 1\n"
     ]
    },
    {
     "data": {
      "text/plain": [
       "defined \u001b[32mfunction\u001b[39m \u001b[36msimpleF\u001b[39m\n",
       "defined \u001b[32mfunction\u001b[39m \u001b[36mcovF\u001b[39m\n",
       "\u001b[36mdb\u001b[39m: \u001b[32mBox\u001b[39m[\u001b[32mDer\u001b[39m] = null\n",
       "\u001b[36mbb\u001b[39m: \u001b[32mBox\u001b[39m[\u001b[32mBase\u001b[39m] = null"
      ]
     },
     "execution_count": 59,
     "metadata": {},
     "output_type": "execute_result"
    }
   ],
   "source": [
    "// Метод без *иантность, мы ничего не можем поментяь\n",
    "def simpleF(b : Box[Base]) : Unit = { println(\"Победа 1\") }\n",
    "\n",
    "// Ковариантный метод\n",
    "def covF[T <: Base] (b : Box[T]) : Unit = { println(\"Победа 2\") }\n",
    "\n",
    "var db : Box[Der] = null\n",
    "var bb : Box[Base] = null\n",
    "covF(bb)\n",
    "covF(db)\n",
    "simpleF(bb)\n",
    "//simpleF(db)  - Не сработает"
   ]
  },
  {
   "cell_type": "markdown",
   "metadata": {},
   "source": [
    "## Неявные классы"
   ]
  },
  {
   "cell_type": "code",
   "execution_count": 60,
   "metadata": {
    "collapsed": false
   },
   "outputs": [
    {
     "data": {
      "text/plain": [
       "defined \u001b[32mtype\u001b[39m \u001b[36mFType\u001b[39m\n",
       "defined \u001b[32mfunction\u001b[39m \u001b[36mf\u001b[39m"
      ]
     },
     "execution_count": 60,
     "metadata": {},
     "output_type": "execute_result"
    }
   ],
   "source": [
    "// Типы функций можно задавть вот так:\n",
    "type FType = (String, Int) => String \n",
    "\n",
    "// Создадим функцию, которая будет делать тоже самое\n",
    "def f(s:String, n:Int) = s + n"
   ]
  },
  {
   "cell_type": "code",
   "execution_count": 61,
   "metadata": {
    "collapsed": false
   },
   "outputs": [
    {
     "data": {
      "text/plain": [
       "\u001b[36mg\u001b[39m: (\u001b[32mString\u001b[39m, \u001b[32mInt\u001b[39m) => \u001b[32mString\u001b[39m = <function2>"
      ]
     },
     "execution_count": 61,
     "metadata": {},
     "output_type": "execute_result"
    }
   ],
   "source": [
    "val g : FType = (s,n) => s + n // Создадим функцию типа FType"
   ]
  },
  {
   "cell_type": "code",
   "execution_count": 62,
   "metadata": {
    "collapsed": false
   },
   "outputs": [
    {
     "data": {
      "text/plain": [
       "\u001b[36mres61_0\u001b[39m: \u001b[32mString\u001b[39m = \u001b[32m\"a1\"\u001b[39m\n",
       "\u001b[36mres61_1\u001b[39m: \u001b[32mString\u001b[39m = \u001b[32m\"a1\"\u001b[39m"
      ]
     },
     "execution_count": 62,
     "metadata": {},
     "output_type": "execute_result"
    }
   ],
   "source": [
    "f(\"a\", 1)\n",
    "g(\"a\", 1)"
   ]
  },
  {
   "cell_type": "code",
   "execution_count": 63,
   "metadata": {
    "collapsed": false
   },
   "outputs": [
    {
     "data": {
      "text/plain": [
       "\u001b[36mres62\u001b[39m: \u001b[32mString\u001b[39m = \u001b[32m\"a1\"\u001b[39m"
      ]
     },
     "execution_count": 63,
     "metadata": {},
     "output_type": "execute_result"
    }
   ],
   "source": [
    "g.apply(\"a\", 1)"
   ]
  },
  {
   "cell_type": "markdown",
   "metadata": {},
   "source": [
    "## Каррирование"
   ]
  },
  {
   "cell_type": "code",
   "execution_count": 64,
   "metadata": {
    "collapsed": false
   },
   "outputs": [
    {
     "data": {
      "text/plain": [
       "defined \u001b[32mfunction\u001b[39m \u001b[36mf\u001b[39m"
      ]
     },
     "execution_count": 64,
     "metadata": {},
     "output_type": "execute_result"
    }
   ],
   "source": [
    "def f (a : Int) (b : Int) (c: Int) = a + b + c"
   ]
  },
  {
   "cell_type": "code",
   "execution_count": 65,
   "metadata": {
    "collapsed": false
   },
   "outputs": [
    {
     "data": {
      "text/plain": [
       "\u001b[36mres64\u001b[39m: \u001b[32mInt\u001b[39m = \u001b[32m6\u001b[39m"
      ]
     },
     "execution_count": 65,
     "metadata": {},
     "output_type": "execute_result"
    }
   ],
   "source": [
    "f(1)(2)(3)"
   ]
  },
  {
   "cell_type": "markdown",
   "metadata": {},
   "source": [
    "Создадим новую функцию:"
   ]
  },
  {
   "cell_type": "code",
   "execution_count": 66,
   "metadata": {
    "collapsed": false
   },
   "outputs": [
    {
     "data": {
      "text/plain": [
       "\u001b[36mf12\u001b[39m: \u001b[32mInt\u001b[39m => \u001b[32mInt\u001b[39m = <function1>"
      ]
     },
     "execution_count": 66,
     "metadata": {},
     "output_type": "execute_result"
    }
   ],
   "source": [
    "val f12 = f(1)(2)_"
   ]
  },
  {
   "cell_type": "code",
   "execution_count": 67,
   "metadata": {
    "collapsed": false
   },
   "outputs": [
    {
     "data": {
      "text/plain": [
       "\u001b[36mres66_0\u001b[39m: \u001b[32mInt\u001b[39m = \u001b[32m6\u001b[39m\n",
       "\u001b[36mres66_1\u001b[39m: \u001b[32mInt\u001b[39m = \u001b[32m7\u001b[39m"
      ]
     },
     "execution_count": 67,
     "metadata": {},
     "output_type": "execute_result"
    }
   ],
   "source": [
    "f12(3)\n",
    "f12(4)"
   ]
  },
  {
   "cell_type": "markdown",
   "metadata": {},
   "source": [
    "## Partial function application"
   ]
  },
  {
   "cell_type": "code",
   "execution_count": 68,
   "metadata": {
    "collapsed": false
   },
   "outputs": [
    {
     "data": {
      "text/plain": [
       "defined \u001b[32mfunction\u001b[39m \u001b[36mf\u001b[39m\n",
       "\u001b[36mf1\u001b[39m: \u001b[32mInt\u001b[39m => \u001b[32mInt\u001b[39m = <function1>\n",
       "\u001b[36mres67_2\u001b[39m: \u001b[32mInt\u001b[39m = \u001b[32m2\u001b[39m\n",
       "\u001b[36mres67_3\u001b[39m: \u001b[32mInt\u001b[39m = \u001b[32m3\u001b[39m"
      ]
     },
     "execution_count": 68,
     "metadata": {},
     "output_type": "execute_result"
    }
   ],
   "source": [
    "def f(x:Int, y:Int) = x + y\n",
    "\n",
    "// Define a partially applied function - use the _ for the lefover parameter\n",
    "val f1 = f(1, _ :Int)\n",
    "\n",
    "f1(1)\n",
    "f1(2)"
   ]
  },
  {
   "cell_type": "markdown",
   "metadata": {},
   "source": [
    "## Типажи \n",
    "\n",
    "> Абстрактный тип данных, используемый как «простая концептуальная модель для структурирования объектно ориентированных программ». Типажи подобны примесям, но могут содержать только методы. Также отличается способ разрешения конфликтов — типажи не допускают совпадения названий методов."
   ]
  },
  {
   "cell_type": "code",
   "execution_count": 69,
   "metadata": {
    "collapsed": false
   },
   "outputs": [
    {
     "data": {
      "text/plain": [
       "defined \u001b[32mtrait\u001b[39m \u001b[36mBaseT\u001b[39m"
      ]
     },
     "execution_count": 69,
     "metadata": {},
     "output_type": "execute_result"
    }
   ],
   "source": [
    "trait BaseT {\n",
    "    // Эта переменная будет доступна во всех подтипах, потому что она задана\n",
    "    val fromBase : String = \"FromBase\"\n",
    "    // Каждый класс обязан задать это значение\n",
    "    val fromDer : String\n",
    "\n",
    "    // Каждый класс обязан задать это значение\n",
    "    def abstractMessage\n",
    "\n",
    "    // Вывод всего и вся\n",
    "    def message = println(s\"Values $fromBase $fromDer $abstractMessage\")\n",
    "}"
   ]
  },
  {
   "cell_type": "code",
   "execution_count": 71,
   "metadata": {
    "collapsed": false
   },
   "outputs": [
    {
     "data": {
      "text/plain": [
       "defined \u001b[32mclass\u001b[39m \u001b[36mDerC\u001b[39m\n",
       "\u001b[36mx\u001b[39m: \u001b[32mwrapper\u001b[39m.\u001b[32mwrapper\u001b[39m.\u001b[32mDerC\u001b[39m = $sess.cmd70Wrapper$Helper$DerC@4770a412"
      ]
     },
     "execution_count": 71,
     "metadata": {},
     "output_type": "execute_result"
    }
   ],
   "source": [
    "class DerC(override val fromDer:String) extends BaseT {\n",
    "    override def abstractMessage = println(\"Derived class implementation\")\n",
    "}\n",
    "\n",
    "val x = new DerC(\"Derived\")"
   ]
  },
  {
   "cell_type": "code",
   "execution_count": 72,
   "metadata": {
    "collapsed": false
   },
   "outputs": [
    {
     "name": "stdout",
     "output_type": "stream",
     "text": [
      "FromBase\n",
      "Derived\n"
     ]
    }
   ],
   "source": [
    "println(x.fromBase)\n",
    "println(x.fromDer)"
   ]
  },
  {
   "cell_type": "code",
   "execution_count": 73,
   "metadata": {
    "collapsed": false
   },
   "outputs": [
    {
     "name": "stdout",
     "output_type": "stream",
     "text": [
      "Derived class implementation\n",
      "Derived class implementation\n",
      "Values FromBase Derived ()\n"
     ]
    }
   ],
   "source": [
    "x.abstractMessage\n",
    "x.message"
   ]
  },
  {
   "cell_type": "code",
   "execution_count": 75,
   "metadata": {
    "collapsed": false
   },
   "outputs": [
    {
     "data": {
      "text/plain": [
       "defined \u001b[32mtrait\u001b[39m \u001b[36mBaseT1\u001b[39m\n",
       "defined \u001b[32mtrait\u001b[39m \u001b[36mBaseT2\u001b[39m\n",
       "defined \u001b[32mclass\u001b[39m \u001b[36mMultiTrait\u001b[39m\n",
       "defined \u001b[32mclass\u001b[39m \u001b[36mInheritWithMultiTrait\u001b[39m"
      ]
     },
     "execution_count": 75,
     "metadata": {},
     "output_type": "execute_result"
    }
   ],
   "source": [
    "trait BaseT1 {}\n",
    "trait BaseT2 {}\n",
    "\n",
    "// Вы можете использовать несколько типажей для одного класса\n",
    "class MultiTrait extends BaseT1 with BaseT2 \n",
    "class InheritWithMultiTrait extends AnyRef with BaseT1 with BaseT2"
   ]
  },
  {
   "cell_type": "markdown",
   "metadata": {},
   "source": [
    "## Типажи и объекты"
   ]
  },
  {
   "cell_type": "code",
   "execution_count": 76,
   "metadata": {
    "collapsed": false
   },
   "outputs": [
    {
     "data": {
      "text/plain": [
       "defined \u001b[32mclass\u001b[39m \u001b[36mSomeClass\u001b[39m\n",
       "\u001b[36mxWithBaseT\u001b[39m: \u001b[32mSomeClass\u001b[39m with \u001b[32mBaseT\u001b[39m = $sess.cmd75Wrapper$Helper$$anon$1@2d48c8d4\n",
       "\u001b[36mx\u001b[39m: \u001b[32mBaseT\u001b[39m = $sess.cmd75Wrapper$Helper$$anon$1@2d48c8d4"
      ]
     },
     "execution_count": 76,
     "metadata": {},
     "output_type": "execute_result"
    }
   ],
   "source": [
    "class SomeClass(val fromDer:String){\n",
    "    def abstractMessage = println(\"Derived class implementation\")\n",
    "}\n",
    "\n",
    "\n",
    "val xWithBaseT = new SomeClass(\"Test\") with BaseT\n",
    "var x : BaseT = xWithBaseT "
   ]
  },
  {
   "cell_type": "markdown",
   "metadata": {},
   "source": [
    "## Изменяемое и неизменяемое\n",
    "\n",
    "Scala имеет 3 основных типа коллекции. (List, Set, и Map). Как говорится, из коробки они не изменяемые. Но всё зависит от того, откуда они импортированны. А они могут взяться из:\n",
    "\n",
    "1. scala.collection.mutable\n",
    "2. scala.collection.immutable\n"
   ]
  },
  {
   "cell_type": "markdown",
   "metadata": {},
   "source": [
    "Синтаксис"
   ]
  },
  {
   "cell_type": "code",
   "execution_count": 77,
   "metadata": {
    "collapsed": false
   },
   "outputs": [
    {
     "data": {
      "text/plain": [
       "\u001b[36ml\u001b[39m: \u001b[32mList\u001b[39m[\u001b[32mInt\u001b[39m] = \u001b[33mList\u001b[39m(\u001b[32m1\u001b[39m, \u001b[32m2\u001b[39m, \u001b[32m3\u001b[39m)\n",
       "\u001b[36ms\u001b[39m: \u001b[32mSet\u001b[39m[\u001b[32mInt\u001b[39m] = \u001b[33mSet\u001b[39m(\u001b[32m1\u001b[39m, \u001b[32m2\u001b[39m, \u001b[32m3\u001b[39m)\n",
       "\u001b[36mm\u001b[39m: \u001b[32mMap\u001b[39m[\u001b[32mInt\u001b[39m, \u001b[32mString\u001b[39m] = \u001b[33mMap\u001b[39m(\u001b[32m1\u001b[39m -> \u001b[32m\"1\"\u001b[39m, \u001b[32m2\u001b[39m -> \u001b[32m\"2\"\u001b[39m)"
      ]
     },
     "execution_count": 77,
     "metadata": {},
     "output_type": "execute_result"
    }
   ],
   "source": [
    "val l = List(1,2,3)\n",
    "var s = Set(1,2,3)\n",
    "var m = Map(1 -> \"1\", 2 -> \"2\")"
   ]
  },
  {
   "cell_type": "markdown",
   "metadata": {},
   "source": [
    "Сатандартные действия"
   ]
  },
  {
   "cell_type": "code",
   "execution_count": 79,
   "metadata": {
    "collapsed": false
   },
   "outputs": [
    {
     "name": "stdout",
     "output_type": "stream",
     "text": [
      "Set(1, 2, 3, 4)\n",
      "Set(1)\n",
      "Set(2, 3)\n",
      "Set(2)\n",
      "List(1, 2, 1, 3, 4)\n",
      "List(1, 2, 1, 3, 4)\n",
      "1\n",
      "1\n",
      "List(1, 2, 3, 4)\n",
      "List(1, 2, 3)\n",
      "List()\n",
      "1\n",
      "List(2, 3)\n",
      "1\n",
      "1\n",
      "1\n"
     ]
    }
   ],
   "source": [
    "// Множества\n",
    "println(Set(1,2) ++ Set(1,3,4)) // Возращает Set(1, 2, 3, 4)\n",
    "println(Set(1,2) & Set(1,3,4)) // Возращает пересечение Set(1)\n",
    "println(Set(1,2).map(_ + 1)) // Вернёт Set(2,3)\n",
    "println(Set(1,2).filter(_ % 2 == 0)) // Вернёт Set(2)\n",
    "\n",
    "// Списки\n",
    "println(List(1,2) ++ List(1,3,4)) //  List(1, 2, 1, 3, 4)\n",
    "println(List(1,2) ::: List(1,3,4)) // List(1, 2, 1, 3, 4)\n",
    "\n",
    "// MAP FILTER REDUCE <- как залог машинного обучения\n",
    "println(List(1,2).apply(0)) // 1\n",
    "println(List(1,2)(0)) // 1; Тоже самое, что и apply\n",
    "println(1 :: List(2,3,4)) // Добавит в начало списка List(1, 2, 3, 4)\n",
    "println(1::2::3::Nil) // Так же можно сделать список с помощью такого синтаксиса\n",
    "println(Nil) // Nil - это пустой список\n",
    "println(List(1,2,3).head) // Вернёт первый элемент\n",
    "println(List(1,2,3).tail) // Кроме первого element List(2,3)\n",
    "\n",
    "// Словари\n",
    "println(Map(1 -> \"1\").apply(1)) // Достать с помощью apply\n",
    "println(Map(1 -> \"1\")(1)) // ^\n",
    "println(Map(1 -> \"1\").get(1).get) // сначала достанет опцию, а потом вернёт \"1\""
   ]
  },
  {
   "cell_type": "code",
   "execution_count": 90,
   "metadata": {
    "collapsed": false
   },
   "outputs": [
    {
     "data": {
      "text/plain": [
       "\u001b[36mlist\u001b[39m: \u001b[32mList\u001b[39m[\u001b[32mInt\u001b[39m] = \u001b[33mList\u001b[39m(\u001b[32m1\u001b[39m, \u001b[32m2\u001b[39m, \u001b[32m3\u001b[39m, \u001b[32m4\u001b[39m)\n",
       "\u001b[36mres89_1\u001b[39m: \u001b[32mInt\u001b[39m = \u001b[32m14\u001b[39m\n",
       "\u001b[36mres89_2\u001b[39m: \u001b[32mInt\u001b[39m = \u001b[32m10\u001b[39m"
      ]
     },
     "execution_count": 90,
     "metadata": {},
     "output_type": "execute_result"
    }
   ],
   "source": [
    "val list = List(1,2,3,4)\n",
    "list.foldLeft(4) (_ + _)\n",
    "list.reduceLeft(_ + _)"
   ]
  },
  {
   "cell_type": "code",
   "execution_count": 91,
   "metadata": {
    "collapsed": false
   },
   "outputs": [
    {
     "data": {
      "text/plain": [
       "\u001b[36mres90\u001b[39m: \u001b[32mInt\u001b[39m = \u001b[32m10\u001b[39m"
      ]
     },
     "execution_count": 91,
     "metadata": {},
     "output_type": "execute_result"
    }
   ],
   "source": [
    "(0 /: list) (_ + _)"
   ]
  },
  {
   "cell_type": "markdown",
   "metadata": {},
   "source": [
    "Питонисты, возрадуйтесь! list comprehensions"
   ]
  },
  {
   "cell_type": "code",
   "execution_count": 95,
   "metadata": {
    "collapsed": false
   },
   "outputs": [
    {
     "data": {
      "text/plain": [
       "\u001b[36mres\u001b[39m: \u001b[32mList\u001b[39m[(\u001b[32mInt\u001b[39m, \u001b[32mInt\u001b[39m)] = \u001b[33mList\u001b[39m((\u001b[32m1\u001b[39m, \u001b[32m1\u001b[39m), (\u001b[32m2\u001b[39m, \u001b[32m2\u001b[39m))"
      ]
     },
     "execution_count": 95,
     "metadata": {},
     "output_type": "execute_result"
    }
   ],
   "source": [
    "val res = for(i <- List(1,2,3);\n",
    "               j <- List(i);\n",
    "               if i + j < 5\n",
    "            ) yield (i,j)"
   ]
  },
  {
   "cell_type": "markdown",
   "metadata": {},
   "source": [
    "Работа с текстами"
   ]
  },
  {
   "cell_type": "code",
   "execution_count": 96,
   "metadata": {
    "collapsed": false
   },
   "outputs": [
    {
     "data": {
      "text/plain": [
       "defined \u001b[32mfunction\u001b[39m \u001b[36mf\u001b[39m"
      ]
     },
     "execution_count": 96,
     "metadata": {},
     "output_type": "execute_result"
    }
   ],
   "source": [
    "// Строки\n",
    "def f(s:String) = \n",
    "    s match {\n",
    "        case \"Только функция\" => println(\"Это как словарь\")\n",
    "        case \"Это как словарь\" => println(\"Только функция\")\n",
    "        case _ => \"Что вообще происходит\"\n",
    "    }"
   ]
  },
  {
   "cell_type": "code",
   "execution_count": 99,
   "metadata": {
    "collapsed": false
   },
   "outputs": [
    {
     "name": "stdout",
     "output_type": "stream",
     "text": [
      "Это как словарь\n",
      "Только функция\n"
     ]
    },
    {
     "data": {
      "text/plain": [
       "\u001b[36mres98_0\u001b[39m: \u001b[32mAny\u001b[39m = ()\n",
       "\u001b[36mres98_1\u001b[39m: \u001b[32mAny\u001b[39m = ()\n",
       "\u001b[36mres98_2\u001b[39m: \u001b[32mAny\u001b[39m = Что вообще происходит"
      ]
     },
     "execution_count": 99,
     "metadata": {},
     "output_type": "execute_result"
    }
   ],
   "source": [
    "f(\"Только функция\")\n",
    "f(\"Это как словарь\")\n",
    "f(\"Обманка\")"
   ]
  },
  {
   "cell_type": "code",
   "execution_count": 104,
   "metadata": {
    "collapsed": false
   },
   "outputs": [
    {
     "data": {
      "text/plain": [
       "defined \u001b[32mfunction\u001b[39m \u001b[36mf\u001b[39m\n",
       "\u001b[36mres103_1\u001b[39m: \u001b[32mString\u001b[39m = \u001b[32m\"Вот\"\u001b[39m\n",
       "\u001b[36mres103_2\u001b[39m: \u001b[32mString\u001b[39m = \u001b[32m\"Что(2 999)\"\u001b[39m\n",
       "\u001b[36mres103_3\u001b[39m: \u001b[32mString\u001b[39m = \u001b[32m\"Происходит 5\"\u001b[39m\n",
       "\u001b[36mres103_4\u001b[39m: \u001b[32mString\u001b[39m = \u001b[32m\"Когда 1 и 2\"\u001b[39m\n",
       "\u001b[36mres103_5\u001b[39m: \u001b[32mString\u001b[39m = \u001b[32m\"Ты 5\"\u001b[39m\n",
       "\u001b[36mres103_6\u001b[39m: \u001b[32mString\u001b[39m = \u001b[32m\"Scala!\"\u001b[39m"
      ]
     },
     "execution_count": 104,
     "metadata": {},
     "output_type": "execute_result"
    }
   ],
   "source": [
    "def f(x:Any) : String = {\n",
    "    x match {\n",
    "        case (5, _) => \"Вот\"\n",
    "        case (a, b) => s\"Что($a $b)\"\n",
    "        case 5::_ => \"Происходит 5\"\n",
    "        case List(1, 2, _*) => \"Когда 1 и 2\"\n",
    "        case a : Int => s\"Ты $a\"\n",
    "        case _ => \"Scala!\"\n",
    "    }\n",
    "}\n",
    "\n",
    "f((5, 1))\n",
    "f((2, 999))\n",
    "f(List(5, 6, 7))\n",
    "f(List(1, 2, 3))\n",
    "f(5)\n",
    "f(12.3)"
   ]
  },
  {
   "cell_type": "code",
   "execution_count": 105,
   "metadata": {
    "collapsed": false
   },
   "outputs": [
    {
     "data": {
      "text/plain": [
       "defined \u001b[32mfunction\u001b[39m \u001b[36mf\u001b[39m\n",
       "\u001b[36mres104_1\u001b[39m: \u001b[32mString\u001b[39m = \u001b[32m\"+\"\u001b[39m\n",
       "\u001b[36mres104_2\u001b[39m: \u001b[32mString\u001b[39m = \u001b[32m\"-\"\u001b[39m\n",
       "\u001b[36mres104_3\u001b[39m: \u001b[32mString\u001b[39m = \u001b[32m\"ROCk\"\u001b[39m\n",
       "\u001b[36mres104_4\u001b[39m: \u001b[32mString\u001b[39m = \u001b[32m\"Kk\"\u001b[39m"
      ]
     },
     "execution_count": 105,
     "metadata": {},
     "output_type": "execute_result"
    }
   ],
   "source": [
    "def f(x : Any):String = {\n",
    "    x match {\n",
    "        case i:Int if (i >= 0) => \"+\"\n",
    "        case i:Int if (i < 0) => \"-\"\n",
    "        case s:String if(s contains \"scala\") => \"ROCk\"\n",
    "        case _ => \"Kk\"\n",
    "    }\n",
    "}\n",
    "f(1)\n",
    "f(-5)\n",
    "f(\"scala - это\")\n",
    "f(\"\")"
   ]
  },
  {
   "cell_type": "code",
   "execution_count": 106,
   "metadata": {
    "collapsed": false
   },
   "outputs": [
    {
     "name": "stdout",
     "output_type": "stream",
     "text": [
      "X:Shh!\n"
     ]
    },
    {
     "data": {
      "text/plain": [
       "defined \u001b[32mclass\u001b[39m \u001b[36mXFile\u001b[39m\n",
       "defined \u001b[32mclass\u001b[39m \u001b[36mYFile\u001b[39m\n",
       "\u001b[36mx\u001b[39m: \u001b[32mAny\u001b[39m = XFile(Secret)"
      ]
     },
     "execution_count": 106,
     "metadata": {},
     "output_type": "execute_result"
    }
   ],
   "source": [
    "// case class не могут содержать параметров, они однослойны =)\n",
    "case class XFile(file: String);\n",
    "case class YFile(file: String);\n",
    "\n",
    "// В отличии от других классов, мы не должны писать new\n",
    "val x:Any = XFile(\"Secret\")\n",
    "\n",
    "// А вот теперь мы можем посмотреть, что происходит\n",
    "x match {\n",
    "    case XFile(\"Secret\") => println(\"X:Shh!\")\n",
    "    case YFile(\"Secret\") => println(\"Y:Shh!\")\n",
    "    case XFile(_) => println(\"What did X say?\")\n",
    "    case YFile(_) => println(\"What did Y say?\")\n",
    "    case _ => println(\"Say What?\")\n",
    "}"
   ]
  },
  {
   "cell_type": "markdown",
   "metadata": {},
   "source": [
    "## Extractors\n",
    "Extractors - это такой тип объектов, у котрых есть функция unapply. "
   ]
  },
  {
   "cell_type": "code",
   "execution_count": 110,
   "metadata": {
    "collapsed": false
   },
   "outputs": [
    {
     "name": "stdout",
     "output_type": "stream",
     "text": [
      "tvorog@tvorog.me\n",
      "tvorog | tvorog.me\n"
     ]
    },
    {
     "data": {
      "text/plain": [
       "defined \u001b[32mobject\u001b[39m \u001b[36mEmailExtractor\u001b[39m"
      ]
     },
     "execution_count": 110,
     "metadata": {},
     "output_type": "execute_result"
    }
   ],
   "source": [
    "object EmailExtractor {\n",
    "    def unapply(s : String):Option[Array[String]] = {\n",
    "        val parts = s.split(\"@\")\n",
    "        if(parts.length == 2) Some(parts) else None\n",
    "    }\n",
    "\n",
    "    def apply(l : Array[String]) = l.mkString(\"@\")\n",
    "}\n",
    "println(EmailExtractor.apply(Array(\"tvorog\", \"tvorog.me\")))\n",
    "println(EmailExtractor.unapply(\"tvorog@tvorog.me\").get.mkString(\" | \"))"
   ]
  },
  {
   "cell_type": "code",
   "execution_count": 117,
   "metadata": {
    "collapsed": false
   },
   "outputs": [
    {
     "name": "stdout",
     "output_type": "stream",
     "text": [
      "Email типа tvorog | tvorog.me\n"
     ]
    },
    {
     "data": {
      "text/plain": [
       "\u001b[36mx\u001b[39m: \u001b[32mString\u001b[39m = \u001b[32m\"tvorog@tvorog.me\"\u001b[39m"
      ]
     },
     "execution_count": 117,
     "metadata": {},
     "output_type": "execute_result"
    }
   ],
   "source": [
    "val x = \"tvorog@tvorog.me\"\n",
    "\n",
    "x match {\n",
    "    case EmailExtractor(Array(\"1\",\"2\")) => println(\"Email типа 1@2\")\n",
    "\n",
    "    case EmailExtractor(Array(u, d)) => println(s\"Email типа $u | $d\")\n",
    "\n",
    "    case _ => println(\"Didn't match anything\")\n",
    "}"
   ]
  },
  {
   "cell_type": "markdown",
   "metadata": {},
   "source": [
    "## Регулярки"
   ]
  },
  {
   "cell_type": "code",
   "execution_count": 118,
   "metadata": {
    "collapsed": false
   },
   "outputs": [
    {
     "name": "stdout",
     "output_type": "stream",
     "text": [
      "123 and 456\n"
     ]
    },
    {
     "data": {
      "text/plain": [
       "\u001b[36mregEx\u001b[39m: \u001b[32mutil\u001b[39m.\u001b[32mmatching\u001b[39m.\u001b[32mRegex\u001b[39m = \\d+"
      ]
     },
     "execution_count": 118,
     "metadata": {},
     "output_type": "execute_result"
    }
   ],
   "source": [
    "//Все регулярки лежат в util.matching.Regex\n",
    "\n",
    "val regEx = \"\"\"\\d+\"\"\".r\n",
    "\n",
    "println ((regEx findAllIn \"123 abcxyz 456\").mkString(\" and \"))"
   ]
  },
  {
   "cell_type": "code",
   "execution_count": 120,
   "metadata": {
    "collapsed": false
   },
   "outputs": [
    {
     "name": "stdout",
     "output_type": "stream",
     "text": [
      "group 1=123 group2= xyz  group3=456\n"
     ]
    },
    {
     "data": {
      "text/plain": [
       "\u001b[36mpattern\u001b[39m: \u001b[32mutil\u001b[39m.\u001b[32mmatching\u001b[39m.\u001b[32mRegex\u001b[39m = (\\d+)(\\D*)(\\d+)"
      ]
     },
     "execution_count": 120,
     "metadata": {},
     "output_type": "execute_result"
    }
   ],
   "source": [
    "val pattern = \"\"\"(\\d+)(\\D*)(\\d+)\"\"\".r\n",
    "\n",
    "\"123 xyz 456\" match{\n",
    "    case pattern(x, y, z) => println(s\"group 1=$x group2=$y group3=$z\")\n",
    "    case _ => println(\"Не совпадают\")\n",
    "}"
   ]
  },
  {
   "cell_type": "markdown",
   "metadata": {},
   "source": [
    "## Ловим ошибки"
   ]
  },
  {
   "cell_type": "code",
   "execution_count": 122,
   "metadata": {
    "collapsed": false
   },
   "outputs": [
    {
     "name": "stdout",
     "output_type": "stream",
     "text": [
      "ERROR\n",
      "Прямо как в Java!\n"
     ]
    }
   ],
   "source": [
    "try {\n",
    "    throw new IllegalArgumentException(\"ERROR\")\n",
    "} catch {\n",
    "    // Для того, чтобы поймать конкретную ошибку - нужно использовать case\n",
    "    case e: NumberFormatException => println(e.getMessage)\n",
    "    case e: IllegalArgumentException => println(e.getMessage)\n",
    "    case _: Throwable => println(\"Random Error\")\n",
    "} finally {\n",
    "    println(\"Прямо как в Java!\")\n",
    "}"
   ]
  },
  {
   "cell_type": "markdown",
   "metadata": {},
   "source": [
    "## Ленивые вычесления"
   ]
  },
  {
   "cell_type": "code",
   "execution_count": 124,
   "metadata": {
    "collapsed": false
   },
   "outputs": [
    {
     "name": "stdout",
     "output_type": "stream",
     "text": [
      "Не выполнит f при присвоении\n",
      "Выполняю ...\n"
     ]
    },
    {
     "data": {
      "text/plain": [
       "defined \u001b[32mfunction\u001b[39m \u001b[36mf\u001b[39m\n",
       "\u001b[36mlazyX\u001b[39m: \u001b[32mInt\u001b[39m = \u001b[32m<lazy>\u001b[39m\n",
       "\u001b[36mx\u001b[39m: \u001b[32mInt\u001b[39m = \u001b[32m10\u001b[39m"
      ]
     },
     "execution_count": 124,
     "metadata": {},
     "output_type": "execute_result"
    }
   ],
   "source": [
    "def f():Int = {\n",
    "    println(\"Выполняю ...\")\n",
    "    return 5\n",
    "}\n",
    "\n",
    "lazy val lazyX = f\n",
    "println(\"Не выполнит f при присвоении\")\n",
    "\n",
    "// А вот теперь самое время её выполнить\n",
    "val x = lazyX + 5"
   ]
  },
  {
   "cell_type": "code",
   "execution_count": 127,
   "metadata": {
    "collapsed": false
   },
   "outputs": [
    {
     "name": "stdout",
     "output_type": "stream",
     "text": [
      "======== Актив =========\n",
      "1\n",
      "2\n",
      "3\n",
      "======== Пассив =========\n",
      "1\n"
     ]
    },
    {
     "data": {
      "text/plain": [
       "defined \u001b[32mfunction\u001b[39m \u001b[36mpred\u001b[39m\n",
       "\u001b[36mres126_2\u001b[39m: \u001b[32mInt\u001b[39m = \u001b[32m1\u001b[39m\n",
       "\u001b[36mv\u001b[39m: \u001b[32mInt\u001b[39m = \u001b[32m1\u001b[39m"
      ]
     },
     "execution_count": 127,
     "metadata": {},
     "output_type": "execute_result"
    }
   ],
   "source": [
    "def pred(s:Int):Boolean = {\n",
    "    println(s\"${s}\")\n",
    "    s == 1\n",
    "}\n",
    "\n",
    "println(\"======== Актив =========\")\n",
    "\n",
    "// Для каждого элемента будет считать \n",
    "Vector(1,2,3).filter(pred).head \n",
    "\n",
    "println(\"======== Пассив =========\")\n",
    "\n",
    "// \"view\" делает коллекцию ленивой. Вызовется только 1 раз\n",
    "val v = Vector(1,2,3).view.filter(pred).head"
   ]
  },
  {
   "cell_type": "code",
   "execution_count": 128,
   "metadata": {
    "collapsed": false
   },
   "outputs": [
    {
     "name": "stdout",
     "output_type": "stream",
     "text": [
      "0\n",
      "Stream(0, ?)\n",
      "Stream(0, 1, 2, 3, 4, 5, 6, 7, 8, 9)\n",
      "List(0, 1, 2, 3, 4, 5, 6, 7, 8, 9)\n"
     ]
    },
    {
     "data": {
      "text/plain": [
       "defined \u001b[32mfunction\u001b[39m \u001b[36minfStream\u001b[39m\n",
       "\u001b[36mstr\u001b[39m: \u001b[32mStream\u001b[39m[\u001b[32mInt\u001b[39m] = \u001b[33mStream\u001b[39m(\n",
       "  \u001b[32m0\u001b[39m,\n",
       "  \u001b[32m1\u001b[39m,\n",
       "  \u001b[32m2\u001b[39m,\n",
       "  \u001b[32m3\u001b[39m,\n",
       "  \u001b[32m4\u001b[39m,\n",
       "  \u001b[32m5\u001b[39m,\n",
       "  \u001b[32m6\u001b[39m,\n",
       "  \u001b[32m7\u001b[39m,\n",
       "  \u001b[32m8\u001b[39m,\n",
       "  \u001b[32m9\u001b[39m,\n",
       "  \u001b[32m10\u001b[39m,\n",
       "\u001b[33m...\u001b[39m"
      ]
     },
     "execution_count": 128,
     "metadata": {},
     "output_type": "execute_result"
    }
   ],
   "source": [
    "// Scala streams - очень похожи на генераторы в Python\n",
    "def infStream(from:Int): Stream[Int] = {\n",
    "    // #:: создаёт stream для первого элемента\n",
    "    from #:: infStream(from + 1)\n",
    "}\n",
    "\n",
    "val str = infStream(0)\n",
    "\n",
    "println(str.head) // 0\n",
    "println(str.take(10)) //Stream[0, <delayed computation>]\n",
    "println(str.take(10).force) //Stream[0, ..., 10]\n",
    "println(str.take(10).toList) //List[0, ..., 10]\n"
   ]
  },
  {
   "cell_type": "markdown",
   "metadata": {},
   "source": [
    "## Многопоточность"
   ]
  },
  {
   "cell_type": "code",
   "execution_count": 129,
   "metadata": {
    "collapsed": false
   },
   "outputs": [
    {
     "name": "stdout",
     "output_type": "stream",
     "text": [
      "ParVector(2, 4, 6)\n"
     ]
    },
    {
     "data": {
      "text/plain": [
       "\u001b[36mp\u001b[39m: \u001b[32mcollection\u001b[39m.\u001b[32mparallel\u001b[39m.\u001b[32mimmutable\u001b[39m.\u001b[32mParSeq\u001b[39m[\u001b[32mInt\u001b[39m] = ParVector(1, 2, 3)"
      ]
     },
     "execution_count": 129,
     "metadata": {},
     "output_type": "execute_result"
    }
   ],
   "source": [
    "// ParVector запускает множество операций параллельно\n",
    "val p = List(1,2,3).par\n",
    "\n",
    "println(p.map(_ * 2))"
   ]
  }
 ],
 "metadata": {
  "kernelspec": {
   "display_name": "Scala",
   "language": "scala",
   "name": "scala"
  },
  "language_info": {
   "codemirror_mode": "text/x-scala",
   "file_extension": ".scala",
   "mimetype": "text/x-scala",
   "name": "scala211",
   "nbconvert_exporter": "script",
   "pygments_lexer": "scala",
   "version": "2.11.11"
  }
 },
 "nbformat": 4,
 "nbformat_minor": 2
}
